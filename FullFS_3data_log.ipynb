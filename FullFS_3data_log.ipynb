{
 "cells": [
  {
   "cell_type": "code",
   "execution_count": 2,
   "metadata": {},
   "outputs": [],
   "source": [
    "import pandas as pd\n",
    "import numpy as np\n",
    "from sklearn import metrics"
   ]
  },
  {
   "cell_type": "code",
   "execution_count": 3,
   "metadata": {},
   "outputs": [
    {
     "data": {
      "text/html": [
       "<div>\n",
       "<style scoped>\n",
       "    .dataframe tbody tr th:only-of-type {\n",
       "        vertical-align: middle;\n",
       "    }\n",
       "\n",
       "    .dataframe tbody tr th {\n",
       "        vertical-align: top;\n",
       "    }\n",
       "\n",
       "    .dataframe thead th {\n",
       "        text-align: right;\n",
       "    }\n",
       "</style>\n",
       "<table border=\"1\" class=\"dataframe\">\n",
       "  <thead>\n",
       "    <tr style=\"text-align: right;\">\n",
       "      <th></th>\n",
       "      <th>SMILES</th>\n",
       "      <th>bace_class</th>\n",
       "    </tr>\n",
       "  </thead>\n",
       "  <tbody>\n",
       "    <tr>\n",
       "      <th>0</th>\n",
       "      <td>C[C@H](CC1=C(N)N=C2C=CC(=CC2=C1)C1=CC=CC=C1C)C...</td>\n",
       "      <td>yes</td>\n",
       "    </tr>\n",
       "    <tr>\n",
       "      <th>1</th>\n",
       "      <td>CCCO[C@H]1C[NH2+][C@H](C1)[C@@H](O)[C@H](CC1=C...</td>\n",
       "      <td>yes</td>\n",
       "    </tr>\n",
       "    <tr>\n",
       "      <th>2</th>\n",
       "      <td>CCC1=CN2CCS(=O)(=O)N(C)C3=C2C1=CC(=C3)C(=O)N[C...</td>\n",
       "      <td>yes</td>\n",
       "    </tr>\n",
       "    <tr>\n",
       "      <th>3</th>\n",
       "      <td>CCOC[C@@H](OC1=C(N)C(F)=CC(C[C@@H]2CS(=O)(=O)C...</td>\n",
       "      <td>yes</td>\n",
       "    </tr>\n",
       "    <tr>\n",
       "      <th>4</th>\n",
       "      <td>CCC1=CN2CCS(=O)(=O)N(C)C3=C2C1=CC(=C3)C(=O)N[C...</td>\n",
       "      <td>yes</td>\n",
       "    </tr>\n",
       "  </tbody>\n",
       "</table>\n",
       "</div>"
      ],
      "text/plain": [
       "                                              SMILES bace_class\n",
       "0  C[C@H](CC1=C(N)N=C2C=CC(=CC2=C1)C1=CC=CC=C1C)C...        yes\n",
       "1  CCCO[C@H]1C[NH2+][C@H](C1)[C@@H](O)[C@H](CC1=C...        yes\n",
       "2  CCC1=CN2CCS(=O)(=O)N(C)C3=C2C1=CC(=C3)C(=O)N[C...        yes\n",
       "3  CCOC[C@@H](OC1=C(N)C(F)=CC(C[C@@H]2CS(=O)(=O)C...        yes\n",
       "4  CCC1=CN2CCS(=O)(=O)N(C)C3=C2C1=CC(=C3)C(=O)N[C...        yes"
      ]
     },
     "execution_count": 3,
     "metadata": {},
     "output_type": "execute_result"
    }
   ],
   "source": [
    "# Read in data into a dataframe \n",
    "data = pd.read_csv('3_class_bace.csv',sep=\";\")\n",
    "# Display top of dataframe\n",
    "data.head()"
   ]
  },
  {
   "cell_type": "code",
   "execution_count": 4,
   "metadata": {},
   "outputs": [
    {
     "data": {
      "text/html": [
       "<div>\n",
       "<style scoped>\n",
       "    .dataframe tbody tr th:only-of-type {\n",
       "        vertical-align: middle;\n",
       "    }\n",
       "\n",
       "    .dataframe tbody tr th {\n",
       "        vertical-align: top;\n",
       "    }\n",
       "\n",
       "    .dataframe thead th {\n",
       "        text-align: right;\n",
       "    }\n",
       "</style>\n",
       "<table border=\"1\" class=\"dataframe\">\n",
       "  <thead>\n",
       "    <tr style=\"text-align: right;\">\n",
       "      <th></th>\n",
       "      <th>MW</th>\n",
       "      <th>AMW</th>\n",
       "      <th>nP</th>\n",
       "      <th>nI</th>\n",
       "      <th>nB</th>\n",
       "      <th>nStructures</th>\n",
       "      <th>totalcharge</th>\n",
       "      <th>Psi_e_t</th>\n",
       "      <th>Psi_e_1s</th>\n",
       "      <th>SpMax_X</th>\n",
       "      <th>...</th>\n",
       "      <th>F10[I-I]</th>\n",
       "      <th>F10[I-B]</th>\n",
       "      <th>F10[I-Si]</th>\n",
       "      <th>F10[I-X]</th>\n",
       "      <th>F10[B-B]</th>\n",
       "      <th>F10[B-Si]</th>\n",
       "      <th>F10[B-X]</th>\n",
       "      <th>F10[Si-Si]</th>\n",
       "      <th>F10[Si-X]</th>\n",
       "      <th>F10[X-X]</th>\n",
       "    </tr>\n",
       "  </thead>\n",
       "  <tbody>\n",
       "    <tr>\n",
       "      <th>0</th>\n",
       "      <td>431.6</td>\n",
       "      <td>6.640</td>\n",
       "      <td>0.0</td>\n",
       "      <td>0.0</td>\n",
       "      <td>0.0</td>\n",
       "      <td>1.0</td>\n",
       "      <td>0.0</td>\n",
       "      <td>0.0</td>\n",
       "      <td>0.0</td>\n",
       "      <td>1.0</td>\n",
       "      <td>...</td>\n",
       "      <td>0.0</td>\n",
       "      <td>0.0</td>\n",
       "      <td>0.0</td>\n",
       "      <td>0.0</td>\n",
       "      <td>0.0</td>\n",
       "      <td>0.0</td>\n",
       "      <td>0.0</td>\n",
       "      <td>0.0</td>\n",
       "      <td>0.0</td>\n",
       "      <td>0.0</td>\n",
       "    </tr>\n",
       "    <tr>\n",
       "      <th>1</th>\n",
       "      <td>656.9</td>\n",
       "      <td>6.772</td>\n",
       "      <td>0.0</td>\n",
       "      <td>0.0</td>\n",
       "      <td>0.0</td>\n",
       "      <td>1.0</td>\n",
       "      <td>0.0</td>\n",
       "      <td>0.0</td>\n",
       "      <td>0.0</td>\n",
       "      <td>1.0</td>\n",
       "      <td>...</td>\n",
       "      <td>0.0</td>\n",
       "      <td>0.0</td>\n",
       "      <td>0.0</td>\n",
       "      <td>0.0</td>\n",
       "      <td>0.0</td>\n",
       "      <td>0.0</td>\n",
       "      <td>0.0</td>\n",
       "      <td>0.0</td>\n",
       "      <td>0.0</td>\n",
       "      <td>0.0</td>\n",
       "    </tr>\n",
       "    <tr>\n",
       "      <th>2</th>\n",
       "      <td>590.8</td>\n",
       "      <td>7.385</td>\n",
       "      <td>0.0</td>\n",
       "      <td>0.0</td>\n",
       "      <td>0.0</td>\n",
       "      <td>1.0</td>\n",
       "      <td>0.0</td>\n",
       "      <td>0.0</td>\n",
       "      <td>0.0</td>\n",
       "      <td>1.0</td>\n",
       "      <td>...</td>\n",
       "      <td>0.0</td>\n",
       "      <td>0.0</td>\n",
       "      <td>0.0</td>\n",
       "      <td>0.0</td>\n",
       "      <td>0.0</td>\n",
       "      <td>0.0</td>\n",
       "      <td>0.0</td>\n",
       "      <td>0.0</td>\n",
       "      <td>0.0</td>\n",
       "      <td>0.0</td>\n",
       "    </tr>\n",
       "    <tr>\n",
       "      <th>3</th>\n",
       "      <td>590.8</td>\n",
       "      <td>7.574</td>\n",
       "      <td>0.0</td>\n",
       "      <td>0.0</td>\n",
       "      <td>0.0</td>\n",
       "      <td>1.0</td>\n",
       "      <td>0.0</td>\n",
       "      <td>0.0</td>\n",
       "      <td>0.0</td>\n",
       "      <td>1.0</td>\n",
       "      <td>...</td>\n",
       "      <td>0.0</td>\n",
       "      <td>0.0</td>\n",
       "      <td>0.0</td>\n",
       "      <td>0.0</td>\n",
       "      <td>0.0</td>\n",
       "      <td>0.0</td>\n",
       "      <td>0.0</td>\n",
       "      <td>0.0</td>\n",
       "      <td>0.0</td>\n",
       "      <td>0.0</td>\n",
       "    </tr>\n",
       "    <tr>\n",
       "      <th>4</th>\n",
       "      <td>628.8</td>\n",
       "      <td>7.959</td>\n",
       "      <td>0.0</td>\n",
       "      <td>0.0</td>\n",
       "      <td>0.0</td>\n",
       "      <td>1.0</td>\n",
       "      <td>0.0</td>\n",
       "      <td>0.0</td>\n",
       "      <td>0.0</td>\n",
       "      <td>1.0</td>\n",
       "      <td>...</td>\n",
       "      <td>0.0</td>\n",
       "      <td>0.0</td>\n",
       "      <td>0.0</td>\n",
       "      <td>0.0</td>\n",
       "      <td>0.0</td>\n",
       "      <td>0.0</td>\n",
       "      <td>0.0</td>\n",
       "      <td>0.0</td>\n",
       "      <td>0.0</td>\n",
       "      <td>0.0</td>\n",
       "    </tr>\n",
       "  </tbody>\n",
       "</table>\n",
       "<p>5 rows × 1312 columns</p>\n",
       "</div>"
      ],
      "text/plain": [
       "      MW    AMW   nP   nI   nB  nStructures  totalcharge  Psi_e_t  Psi_e_1s  \\\n",
       "0  431.6  6.640  0.0  0.0  0.0          1.0          0.0      0.0       0.0   \n",
       "1  656.9  6.772  0.0  0.0  0.0          1.0          0.0      0.0       0.0   \n",
       "2  590.8  7.385  0.0  0.0  0.0          1.0          0.0      0.0       0.0   \n",
       "3  590.8  7.574  0.0  0.0  0.0          1.0          0.0      0.0       0.0   \n",
       "4  628.8  7.959  0.0  0.0  0.0          1.0          0.0      0.0       0.0   \n",
       "\n",
       "   SpMax_X  ...  F10[I-I]  F10[I-B]  F10[I-Si]  F10[I-X]  F10[B-B]  F10[B-Si]  \\\n",
       "0      1.0  ...       0.0       0.0        0.0       0.0       0.0        0.0   \n",
       "1      1.0  ...       0.0       0.0        0.0       0.0       0.0        0.0   \n",
       "2      1.0  ...       0.0       0.0        0.0       0.0       0.0        0.0   \n",
       "3      1.0  ...       0.0       0.0        0.0       0.0       0.0        0.0   \n",
       "4      1.0  ...       0.0       0.0        0.0       0.0       0.0        0.0   \n",
       "\n",
       "   F10[B-X]  F10[Si-Si]  F10[Si-X]  F10[X-X]  \n",
       "0       0.0         0.0        0.0       0.0  \n",
       "1       0.0         0.0        0.0       0.0  \n",
       "2       0.0         0.0        0.0       0.0  \n",
       "3       0.0         0.0        0.0       0.0  \n",
       "4       0.0         0.0        0.0       0.0  \n",
       "\n",
       "[5 rows x 1312 columns]"
      ]
     },
     "execution_count": 4,
     "metadata": {},
     "output_type": "execute_result"
    }
   ],
   "source": [
    "data1 = pd.read_csv('data3_col.csv')\n",
    "# Display top of dataframe\n",
    "data1.head()"
   ]
  },
  {
   "cell_type": "code",
   "execution_count": 5,
   "metadata": {},
   "outputs": [],
   "source": [
    "# X=data1.drop(columns =['SMILES','CASRN','EXTERNALID','N','NAME.1','ARTICLEID','PUBMEDID','PAGE','NAME','TABLE','ERROR'])\n",
    "# X"
   ]
  },
  {
   "cell_type": "code",
   "execution_count": 6,
   "metadata": {},
   "outputs": [
    {
     "data": {
      "text/plain": [
       "0       1\n",
       "1       1\n",
       "2       1\n",
       "3       1\n",
       "4       1\n",
       "       ..\n",
       "1506    0\n",
       "1507    0\n",
       "1508    0\n",
       "1509    0\n",
       "1510    0\n",
       "Length: 1511, dtype: int8"
      ]
     },
     "execution_count": 6,
     "metadata": {},
     "output_type": "execute_result"
    }
   ],
   "source": [
    "y = data['bace_class'].astype('category').cat.codes\n",
    "y"
   ]
  },
  {
   "cell_type": "code",
   "execution_count": 7,
   "metadata": {},
   "outputs": [
    {
     "data": {
      "text/plain": [
       "(1511, 1312)"
      ]
     },
     "execution_count": 7,
     "metadata": {},
     "output_type": "execute_result"
    }
   ],
   "source": [
    "# # Remove the collinear features above a specified correlation coefficient\n",
    "# X = remove_collinear_features(X, 0.1);\n",
    "# X.shape"
   ]
  },
  {
   "cell_type": "code",
   "execution_count": 8,
   "metadata": {},
   "outputs": [],
   "source": [
    "# X.to_csv('data3_col.csv',index=False)"
   ]
  },
  {
   "cell_type": "code",
   "execution_count": 13,
   "metadata": {},
   "outputs": [],
   "source": [
    "def remove_collinear_features(x, threshold):\n",
    "    '''\n",
    "    Objective:\n",
    "        Remove collinear features in a dataframe with a correlation coefficient\n",
    "        greater than the threshold. Removing collinear features can help a model\n",
    "        to generalize and improves the interpretability of the model.\n",
    "        \n",
    "    Inputs: \n",
    "        threshold: any features with correlations greater than this value are removed\n",
    "    \n",
    "    Output: \n",
    "        dataframe that contains only the non-highly-collinear features\n",
    "    '''\n",
    "    \n",
    "    # Dont want to remove correlations between Energy Star Score\n",
    "#     y = x['score']\n",
    "#     x = x.drop(columns = ['score'])\n",
    "    \n",
    "    # Calculate the correlation matrix\n",
    "    corr_matrix = x.corr()\n",
    "    iters = range(len(corr_matrix.columns) - 1)\n",
    "    drop_cols = []\n",
    "\n",
    "    # Iterate through the correlation matrix and compare correlations\n",
    "    for i in iters:\n",
    "        for j in range(i):\n",
    "            item = corr_matrix.iloc[j:(j+1), (i+1):(i+2)]\n",
    "            col = item.columns\n",
    "            row = item.index\n",
    "            val = abs(item.values)\n",
    "            \n",
    "            # If correlation exceeds the threshold\n",
    "            if val >= threshold:\n",
    "                # Print the correlated features and the correlation value\n",
    "                # print(col.values[0], \"|\", row.values[0], \"|\", round(val[0][0], 2))\n",
    "                drop_cols.append(col.values[0])\n",
    "\n",
    "    # Drop one of each pair of correlated columns\n",
    "    drops = set(drop_cols)\n",
    "    x = x.drop(columns = drops)\n",
    "#     x = x.drop(columns = ['Weather Normalized Site EUI (kBtu/ft²)', \n",
    "#                           'Water Use (All Water Sources) (kgal)',\n",
    "#                           'log_Water Use (All Water Sources) (kgal)',\n",
    "#                           'Largest Property Use Type - Gross Floor Area (ft²)'])\n",
    "    \n",
    "    # Add the score back in to the data\n",
    "#     x['score'] = y\n",
    "               \n",
    "    return x"
   ]
  },
  {
   "cell_type": "code",
   "execution_count": 16,
   "metadata": {},
   "outputs": [
    {
     "data": {
      "text/plain": [
       "(1511, 1357)"
      ]
     },
     "execution_count": 16,
     "metadata": {},
     "output_type": "execute_result"
    }
   ],
   "source": [
    "X = remove_collinear_features(X, 0.3);\n",
    "X.shape"
   ]
  },
  {
   "cell_type": "code",
   "execution_count": 7,
   "metadata": {},
   "outputs": [
    {
     "data": {
      "text/html": [
       "<div>\n",
       "<style scoped>\n",
       "    .dataframe tbody tr th:only-of-type {\n",
       "        vertical-align: middle;\n",
       "    }\n",
       "\n",
       "    .dataframe tbody tr th {\n",
       "        vertical-align: top;\n",
       "    }\n",
       "\n",
       "    .dataframe thead th {\n",
       "        text-align: right;\n",
       "    }\n",
       "</style>\n",
       "<table border=\"1\" class=\"dataframe\">\n",
       "  <thead>\n",
       "    <tr style=\"text-align: right;\">\n",
       "      <th></th>\n",
       "      <th>MW</th>\n",
       "      <th>AMW</th>\n",
       "      <th>nP</th>\n",
       "      <th>nI</th>\n",
       "      <th>nB</th>\n",
       "      <th>nStructures</th>\n",
       "      <th>totalcharge</th>\n",
       "      <th>Psi_e_t</th>\n",
       "      <th>Psi_e_1s</th>\n",
       "      <th>SpMax_X</th>\n",
       "      <th>...</th>\n",
       "      <th>F10[I-I]</th>\n",
       "      <th>F10[I-B]</th>\n",
       "      <th>F10[I-Si]</th>\n",
       "      <th>F10[I-X]</th>\n",
       "      <th>F10[B-B]</th>\n",
       "      <th>F10[B-Si]</th>\n",
       "      <th>F10[B-X]</th>\n",
       "      <th>F10[Si-Si]</th>\n",
       "      <th>F10[Si-X]</th>\n",
       "      <th>F10[X-X]</th>\n",
       "    </tr>\n",
       "  </thead>\n",
       "  <tbody>\n",
       "    <tr>\n",
       "      <th>0</th>\n",
       "      <td>431.6</td>\n",
       "      <td>6.640</td>\n",
       "      <td>0.0</td>\n",
       "      <td>0.0</td>\n",
       "      <td>0.0</td>\n",
       "      <td>1.0</td>\n",
       "      <td>0.0</td>\n",
       "      <td>0.0</td>\n",
       "      <td>0.0</td>\n",
       "      <td>1.0</td>\n",
       "      <td>...</td>\n",
       "      <td>0.0</td>\n",
       "      <td>0.0</td>\n",
       "      <td>0.0</td>\n",
       "      <td>0.0</td>\n",
       "      <td>0.0</td>\n",
       "      <td>0.0</td>\n",
       "      <td>0.0</td>\n",
       "      <td>0.0</td>\n",
       "      <td>0.0</td>\n",
       "      <td>0.0</td>\n",
       "    </tr>\n",
       "    <tr>\n",
       "      <th>1</th>\n",
       "      <td>656.9</td>\n",
       "      <td>6.772</td>\n",
       "      <td>0.0</td>\n",
       "      <td>0.0</td>\n",
       "      <td>0.0</td>\n",
       "      <td>1.0</td>\n",
       "      <td>0.0</td>\n",
       "      <td>0.0</td>\n",
       "      <td>0.0</td>\n",
       "      <td>1.0</td>\n",
       "      <td>...</td>\n",
       "      <td>0.0</td>\n",
       "      <td>0.0</td>\n",
       "      <td>0.0</td>\n",
       "      <td>0.0</td>\n",
       "      <td>0.0</td>\n",
       "      <td>0.0</td>\n",
       "      <td>0.0</td>\n",
       "      <td>0.0</td>\n",
       "      <td>0.0</td>\n",
       "      <td>0.0</td>\n",
       "    </tr>\n",
       "    <tr>\n",
       "      <th>2</th>\n",
       "      <td>590.8</td>\n",
       "      <td>7.385</td>\n",
       "      <td>0.0</td>\n",
       "      <td>0.0</td>\n",
       "      <td>0.0</td>\n",
       "      <td>1.0</td>\n",
       "      <td>0.0</td>\n",
       "      <td>0.0</td>\n",
       "      <td>0.0</td>\n",
       "      <td>1.0</td>\n",
       "      <td>...</td>\n",
       "      <td>0.0</td>\n",
       "      <td>0.0</td>\n",
       "      <td>0.0</td>\n",
       "      <td>0.0</td>\n",
       "      <td>0.0</td>\n",
       "      <td>0.0</td>\n",
       "      <td>0.0</td>\n",
       "      <td>0.0</td>\n",
       "      <td>0.0</td>\n",
       "      <td>0.0</td>\n",
       "    </tr>\n",
       "    <tr>\n",
       "      <th>3</th>\n",
       "      <td>590.8</td>\n",
       "      <td>7.574</td>\n",
       "      <td>0.0</td>\n",
       "      <td>0.0</td>\n",
       "      <td>0.0</td>\n",
       "      <td>1.0</td>\n",
       "      <td>0.0</td>\n",
       "      <td>0.0</td>\n",
       "      <td>0.0</td>\n",
       "      <td>1.0</td>\n",
       "      <td>...</td>\n",
       "      <td>0.0</td>\n",
       "      <td>0.0</td>\n",
       "      <td>0.0</td>\n",
       "      <td>0.0</td>\n",
       "      <td>0.0</td>\n",
       "      <td>0.0</td>\n",
       "      <td>0.0</td>\n",
       "      <td>0.0</td>\n",
       "      <td>0.0</td>\n",
       "      <td>0.0</td>\n",
       "    </tr>\n",
       "    <tr>\n",
       "      <th>4</th>\n",
       "      <td>628.8</td>\n",
       "      <td>7.959</td>\n",
       "      <td>0.0</td>\n",
       "      <td>0.0</td>\n",
       "      <td>0.0</td>\n",
       "      <td>1.0</td>\n",
       "      <td>0.0</td>\n",
       "      <td>0.0</td>\n",
       "      <td>0.0</td>\n",
       "      <td>1.0</td>\n",
       "      <td>...</td>\n",
       "      <td>0.0</td>\n",
       "      <td>0.0</td>\n",
       "      <td>0.0</td>\n",
       "      <td>0.0</td>\n",
       "      <td>0.0</td>\n",
       "      <td>0.0</td>\n",
       "      <td>0.0</td>\n",
       "      <td>0.0</td>\n",
       "      <td>0.0</td>\n",
       "      <td>0.0</td>\n",
       "    </tr>\n",
       "    <tr>\n",
       "      <th>...</th>\n",
       "      <td>...</td>\n",
       "      <td>...</td>\n",
       "      <td>...</td>\n",
       "      <td>...</td>\n",
       "      <td>...</td>\n",
       "      <td>...</td>\n",
       "      <td>...</td>\n",
       "      <td>...</td>\n",
       "      <td>...</td>\n",
       "      <td>...</td>\n",
       "      <td>...</td>\n",
       "      <td>...</td>\n",
       "      <td>...</td>\n",
       "      <td>...</td>\n",
       "      <td>...</td>\n",
       "      <td>...</td>\n",
       "      <td>...</td>\n",
       "      <td>...</td>\n",
       "      <td>...</td>\n",
       "      <td>...</td>\n",
       "      <td>...</td>\n",
       "    </tr>\n",
       "    <tr>\n",
       "      <th>1506</th>\n",
       "      <td>364.9</td>\n",
       "      <td>7.298</td>\n",
       "      <td>0.0</td>\n",
       "      <td>0.0</td>\n",
       "      <td>0.0</td>\n",
       "      <td>1.0</td>\n",
       "      <td>0.0</td>\n",
       "      <td>0.0</td>\n",
       "      <td>0.0</td>\n",
       "      <td>1.0</td>\n",
       "      <td>...</td>\n",
       "      <td>0.0</td>\n",
       "      <td>0.0</td>\n",
       "      <td>0.0</td>\n",
       "      <td>0.0</td>\n",
       "      <td>0.0</td>\n",
       "      <td>0.0</td>\n",
       "      <td>0.0</td>\n",
       "      <td>0.0</td>\n",
       "      <td>0.0</td>\n",
       "      <td>0.0</td>\n",
       "    </tr>\n",
       "    <tr>\n",
       "      <th>1507</th>\n",
       "      <td>357.9</td>\n",
       "      <td>7.953</td>\n",
       "      <td>0.0</td>\n",
       "      <td>0.0</td>\n",
       "      <td>0.0</td>\n",
       "      <td>1.0</td>\n",
       "      <td>0.0</td>\n",
       "      <td>0.0</td>\n",
       "      <td>0.0</td>\n",
       "      <td>1.0</td>\n",
       "      <td>...</td>\n",
       "      <td>0.0</td>\n",
       "      <td>0.0</td>\n",
       "      <td>0.0</td>\n",
       "      <td>0.0</td>\n",
       "      <td>0.0</td>\n",
       "      <td>0.0</td>\n",
       "      <td>0.0</td>\n",
       "      <td>0.0</td>\n",
       "      <td>0.0</td>\n",
       "      <td>0.0</td>\n",
       "    </tr>\n",
       "    <tr>\n",
       "      <th>1508</th>\n",
       "      <td>320.2</td>\n",
       "      <td>9.703</td>\n",
       "      <td>0.0</td>\n",
       "      <td>0.0</td>\n",
       "      <td>0.0</td>\n",
       "      <td>1.0</td>\n",
       "      <td>0.0</td>\n",
       "      <td>0.0</td>\n",
       "      <td>0.0</td>\n",
       "      <td>1.0</td>\n",
       "      <td>...</td>\n",
       "      <td>0.0</td>\n",
       "      <td>0.0</td>\n",
       "      <td>0.0</td>\n",
       "      <td>0.0</td>\n",
       "      <td>0.0</td>\n",
       "      <td>0.0</td>\n",
       "      <td>0.0</td>\n",
       "      <td>0.0</td>\n",
       "      <td>0.0</td>\n",
       "      <td>0.0</td>\n",
       "    </tr>\n",
       "    <tr>\n",
       "      <th>1509</th>\n",
       "      <td>317.4</td>\n",
       "      <td>7.382</td>\n",
       "      <td>0.0</td>\n",
       "      <td>0.0</td>\n",
       "      <td>0.0</td>\n",
       "      <td>1.0</td>\n",
       "      <td>0.0</td>\n",
       "      <td>0.0</td>\n",
       "      <td>0.0</td>\n",
       "      <td>1.0</td>\n",
       "      <td>...</td>\n",
       "      <td>0.0</td>\n",
       "      <td>0.0</td>\n",
       "      <td>0.0</td>\n",
       "      <td>0.0</td>\n",
       "      <td>0.0</td>\n",
       "      <td>0.0</td>\n",
       "      <td>0.0</td>\n",
       "      <td>0.0</td>\n",
       "      <td>0.0</td>\n",
       "      <td>0.0</td>\n",
       "    </tr>\n",
       "    <tr>\n",
       "      <th>1510</th>\n",
       "      <td>306.8</td>\n",
       "      <td>7.671</td>\n",
       "      <td>0.0</td>\n",
       "      <td>0.0</td>\n",
       "      <td>0.0</td>\n",
       "      <td>1.0</td>\n",
       "      <td>0.0</td>\n",
       "      <td>0.0</td>\n",
       "      <td>0.0</td>\n",
       "      <td>1.0</td>\n",
       "      <td>...</td>\n",
       "      <td>0.0</td>\n",
       "      <td>0.0</td>\n",
       "      <td>0.0</td>\n",
       "      <td>0.0</td>\n",
       "      <td>0.0</td>\n",
       "      <td>0.0</td>\n",
       "      <td>0.0</td>\n",
       "      <td>0.0</td>\n",
       "      <td>0.0</td>\n",
       "      <td>0.0</td>\n",
       "    </tr>\n",
       "  </tbody>\n",
       "</table>\n",
       "<p>1511 rows × 1312 columns</p>\n",
       "</div>"
      ],
      "text/plain": [
       "         MW    AMW   nP   nI   nB  nStructures  totalcharge  Psi_e_t  \\\n",
       "0     431.6  6.640  0.0  0.0  0.0          1.0          0.0      0.0   \n",
       "1     656.9  6.772  0.0  0.0  0.0          1.0          0.0      0.0   \n",
       "2     590.8  7.385  0.0  0.0  0.0          1.0          0.0      0.0   \n",
       "3     590.8  7.574  0.0  0.0  0.0          1.0          0.0      0.0   \n",
       "4     628.8  7.959  0.0  0.0  0.0          1.0          0.0      0.0   \n",
       "...     ...    ...  ...  ...  ...          ...          ...      ...   \n",
       "1506  364.9  7.298  0.0  0.0  0.0          1.0          0.0      0.0   \n",
       "1507  357.9  7.953  0.0  0.0  0.0          1.0          0.0      0.0   \n",
       "1508  320.2  9.703  0.0  0.0  0.0          1.0          0.0      0.0   \n",
       "1509  317.4  7.382  0.0  0.0  0.0          1.0          0.0      0.0   \n",
       "1510  306.8  7.671  0.0  0.0  0.0          1.0          0.0      0.0   \n",
       "\n",
       "      Psi_e_1s  SpMax_X  ...  F10[I-I]  F10[I-B]  F10[I-Si]  F10[I-X]  \\\n",
       "0          0.0      1.0  ...       0.0       0.0        0.0       0.0   \n",
       "1          0.0      1.0  ...       0.0       0.0        0.0       0.0   \n",
       "2          0.0      1.0  ...       0.0       0.0        0.0       0.0   \n",
       "3          0.0      1.0  ...       0.0       0.0        0.0       0.0   \n",
       "4          0.0      1.0  ...       0.0       0.0        0.0       0.0   \n",
       "...        ...      ...  ...       ...       ...        ...       ...   \n",
       "1506       0.0      1.0  ...       0.0       0.0        0.0       0.0   \n",
       "1507       0.0      1.0  ...       0.0       0.0        0.0       0.0   \n",
       "1508       0.0      1.0  ...       0.0       0.0        0.0       0.0   \n",
       "1509       0.0      1.0  ...       0.0       0.0        0.0       0.0   \n",
       "1510       0.0      1.0  ...       0.0       0.0        0.0       0.0   \n",
       "\n",
       "      F10[B-B]  F10[B-Si]  F10[B-X]  F10[Si-Si]  F10[Si-X]  F10[X-X]  \n",
       "0          0.0        0.0       0.0         0.0        0.0       0.0  \n",
       "1          0.0        0.0       0.0         0.0        0.0       0.0  \n",
       "2          0.0        0.0       0.0         0.0        0.0       0.0  \n",
       "3          0.0        0.0       0.0         0.0        0.0       0.0  \n",
       "4          0.0        0.0       0.0         0.0        0.0       0.0  \n",
       "...        ...        ...       ...         ...        ...       ...  \n",
       "1506       0.0        0.0       0.0         0.0        0.0       0.0  \n",
       "1507       0.0        0.0       0.0         0.0        0.0       0.0  \n",
       "1508       0.0        0.0       0.0         0.0        0.0       0.0  \n",
       "1509       0.0        0.0       0.0         0.0        0.0       0.0  \n",
       "1510       0.0        0.0       0.0         0.0        0.0       0.0  \n",
       "\n",
       "[1511 rows x 1312 columns]"
      ]
     },
     "execution_count": 7,
     "metadata": {},
     "output_type": "execute_result"
    }
   ],
   "source": [
    "X=data1\n",
    "X"
   ]
  },
  {
   "cell_type": "code",
   "execution_count": 8,
   "metadata": {},
   "outputs": [],
   "source": [
    "# X.to_csv ('3_classga.csv', index = None, header=True) "
   ]
  },
  {
   "cell_type": "code",
   "execution_count": 9,
   "metadata": {},
   "outputs": [],
   "source": [
    "def getFeature(mask):\n",
    "    new_features = [] # The list of your K best features\n",
    "\n",
    "    for bool, feature in zip(mask, X.columns):\n",
    "        if bool:\n",
    "            new_features.append(feature)\n",
    "            \n",
    "    return new_features"
   ]
  },
  {
   "cell_type": "code",
   "execution_count": 10,
   "metadata": {},
   "outputs": [],
   "source": [
    "def myModel(myX,myY,X_test):\n",
    "    # instantiate the model (using the default parameters)\n",
    "    logreg = LogisticRegression()\n",
    "\n",
    "    # fit the model with data\n",
    "    logreg.fit(myX,myY)\n",
    "\n",
    "    # get predict\n",
    "    y_pred=logreg.predict(X_test)\n",
    "    \n",
    "    return y_pred\n",
    "   "
   ]
  },
  {
   "cell_type": "markdown",
   "metadata": {},
   "source": [
    "### 1. Chi-square"
   ]
  },
  {
   "cell_type": "code",
   "execution_count": 11,
   "metadata": {},
   "outputs": [
    {
     "data": {
      "text/plain": [
       "['MW', 'AMW', 'nI', 'C-032', 'C-042', 'CATS2D_01_DD']"
      ]
     },
     "execution_count": 11,
     "metadata": {},
     "output_type": "execute_result"
    }
   ],
   "source": [
    "from sklearn.feature_selection import chi2\n",
    "from sklearn.preprocessing import MinMaxScaler\n",
    "from sklearn.feature_selection import SelectKBest\n",
    "X_norm = MinMaxScaler().fit_transform(X)\n",
    "chi_selector = SelectKBest(chi2, k=6)\n",
    "chi_selector.fit(X_norm, y)\n",
    "chi_features = getFeature(chi_selector.get_support())\n",
    "chi_features"
   ]
  },
  {
   "cell_type": "code",
   "execution_count": 12,
   "metadata": {},
   "outputs": [
    {
     "data": {
      "text/html": [
       "<div>\n",
       "<style scoped>\n",
       "    .dataframe tbody tr th:only-of-type {\n",
       "        vertical-align: middle;\n",
       "    }\n",
       "\n",
       "    .dataframe tbody tr th {\n",
       "        vertical-align: top;\n",
       "    }\n",
       "\n",
       "    .dataframe thead th {\n",
       "        text-align: right;\n",
       "    }\n",
       "</style>\n",
       "<table border=\"1\" class=\"dataframe\">\n",
       "  <thead>\n",
       "    <tr style=\"text-align: right;\">\n",
       "      <th></th>\n",
       "      <th>MW</th>\n",
       "      <th>AMW</th>\n",
       "      <th>nI</th>\n",
       "      <th>C-032</th>\n",
       "      <th>C-042</th>\n",
       "      <th>CATS2D_01_DD</th>\n",
       "    </tr>\n",
       "  </thead>\n",
       "  <tbody>\n",
       "    <tr>\n",
       "      <th>0</th>\n",
       "      <td>431.6</td>\n",
       "      <td>6.640</td>\n",
       "      <td>0.0</td>\n",
       "      <td>0.0</td>\n",
       "      <td>0.0</td>\n",
       "      <td>0.0</td>\n",
       "    </tr>\n",
       "    <tr>\n",
       "      <th>1</th>\n",
       "      <td>656.9</td>\n",
       "      <td>6.772</td>\n",
       "      <td>0.0</td>\n",
       "      <td>0.0</td>\n",
       "      <td>0.0</td>\n",
       "      <td>0.0</td>\n",
       "    </tr>\n",
       "    <tr>\n",
       "      <th>2</th>\n",
       "      <td>590.8</td>\n",
       "      <td>7.385</td>\n",
       "      <td>0.0</td>\n",
       "      <td>0.0</td>\n",
       "      <td>0.0</td>\n",
       "      <td>0.0</td>\n",
       "    </tr>\n",
       "    <tr>\n",
       "      <th>3</th>\n",
       "      <td>590.8</td>\n",
       "      <td>7.574</td>\n",
       "      <td>0.0</td>\n",
       "      <td>0.0</td>\n",
       "      <td>0.0</td>\n",
       "      <td>0.0</td>\n",
       "    </tr>\n",
       "    <tr>\n",
       "      <th>4</th>\n",
       "      <td>628.8</td>\n",
       "      <td>7.959</td>\n",
       "      <td>0.0</td>\n",
       "      <td>0.0</td>\n",
       "      <td>0.0</td>\n",
       "      <td>0.0</td>\n",
       "    </tr>\n",
       "    <tr>\n",
       "      <th>...</th>\n",
       "      <td>...</td>\n",
       "      <td>...</td>\n",
       "      <td>...</td>\n",
       "      <td>...</td>\n",
       "      <td>...</td>\n",
       "      <td>...</td>\n",
       "    </tr>\n",
       "    <tr>\n",
       "      <th>1506</th>\n",
       "      <td>364.9</td>\n",
       "      <td>7.298</td>\n",
       "      <td>0.0</td>\n",
       "      <td>0.0</td>\n",
       "      <td>0.0</td>\n",
       "      <td>0.0</td>\n",
       "    </tr>\n",
       "    <tr>\n",
       "      <th>1507</th>\n",
       "      <td>357.9</td>\n",
       "      <td>7.953</td>\n",
       "      <td>0.0</td>\n",
       "      <td>0.0</td>\n",
       "      <td>0.0</td>\n",
       "      <td>0.0</td>\n",
       "    </tr>\n",
       "    <tr>\n",
       "      <th>1508</th>\n",
       "      <td>320.2</td>\n",
       "      <td>9.703</td>\n",
       "      <td>0.0</td>\n",
       "      <td>0.0</td>\n",
       "      <td>0.0</td>\n",
       "      <td>0.0</td>\n",
       "    </tr>\n",
       "    <tr>\n",
       "      <th>1509</th>\n",
       "      <td>317.4</td>\n",
       "      <td>7.382</td>\n",
       "      <td>0.0</td>\n",
       "      <td>0.0</td>\n",
       "      <td>0.0</td>\n",
       "      <td>0.0</td>\n",
       "    </tr>\n",
       "    <tr>\n",
       "      <th>1510</th>\n",
       "      <td>306.8</td>\n",
       "      <td>7.671</td>\n",
       "      <td>0.0</td>\n",
       "      <td>0.0</td>\n",
       "      <td>0.0</td>\n",
       "      <td>0.0</td>\n",
       "    </tr>\n",
       "  </tbody>\n",
       "</table>\n",
       "<p>1511 rows × 6 columns</p>\n",
       "</div>"
      ],
      "text/plain": [
       "         MW    AMW   nI  C-032  C-042  CATS2D_01_DD\n",
       "0     431.6  6.640  0.0    0.0    0.0           0.0\n",
       "1     656.9  6.772  0.0    0.0    0.0           0.0\n",
       "2     590.8  7.385  0.0    0.0    0.0           0.0\n",
       "3     590.8  7.574  0.0    0.0    0.0           0.0\n",
       "4     628.8  7.959  0.0    0.0    0.0           0.0\n",
       "...     ...    ...  ...    ...    ...           ...\n",
       "1506  364.9  7.298  0.0    0.0    0.0           0.0\n",
       "1507  357.9  7.953  0.0    0.0    0.0           0.0\n",
       "1508  320.2  9.703  0.0    0.0    0.0           0.0\n",
       "1509  317.4  7.382  0.0    0.0    0.0           0.0\n",
       "1510  306.8  7.671  0.0    0.0    0.0           0.0\n",
       "\n",
       "[1511 rows x 6 columns]"
      ]
     },
     "execution_count": 12,
     "metadata": {},
     "output_type": "execute_result"
    }
   ],
   "source": [
    "X_chi = X[chi_features]\n",
    "X_chi"
   ]
  },
  {
   "cell_type": "code",
   "execution_count": 13,
   "metadata": {},
   "outputs": [],
   "source": [
    "from sklearn.model_selection import train_test_split\n",
    "# import the class\n",
    "from sklearn.linear_model import LogisticRegression"
   ]
  },
  {
   "cell_type": "code",
   "execution_count": 14,
   "metadata": {},
   "outputs": [
    {
     "name": "stdout",
     "output_type": "stream",
     "text": [
      "Accuracy: 0.6428571428571429\n",
      "Precision: 0.6850393700787402\n",
      "Recall: 0.47802197802197804\n"
     ]
    }
   ],
   "source": [
    "X_train,X_test,y_train,y_test=train_test_split(X_chi,y,test_size=0.25,random_state=0)\n",
    "y_pred = myModel(X_train,y_train,X_test)\n",
    "chi_acc = metrics.accuracy_score(y_test, y_pred)\n",
    "print(\"Accuracy:\",metrics.accuracy_score(y_test, y_pred))\n",
    "print(\"Precision:\",metrics.precision_score(y_test, y_pred))\n",
    "print(\"Recall:\",metrics.recall_score(y_test, y_pred))"
   ]
  },
  {
   "cell_type": "markdown",
   "metadata": {},
   "source": [
    "### 2. Mutual Information"
   ]
  },
  {
   "cell_type": "code",
   "execution_count": 15,
   "metadata": {},
   "outputs": [
    {
     "data": {
      "text/plain": [
       "['MW', 'AMW', 'B04[F-I]', 'B06[C-Si]', 'B10[P-Br]', 'F08[P-X]']"
      ]
     },
     "execution_count": 15,
     "metadata": {},
     "output_type": "execute_result"
    }
   ],
   "source": [
    "from sklearn.feature_selection import mutual_info_classif\n",
    "mi_selector = SelectKBest(mutual_info_classif, k=6)\n",
    "mi_selector.fit(X, y)\n",
    "mi_feature = getFeature(mi_selector.get_support())\n",
    "mi_feature"
   ]
  },
  {
   "cell_type": "code",
   "execution_count": 16,
   "metadata": {},
   "outputs": [
    {
     "name": "stdout",
     "output_type": "stream",
     "text": [
      "Accuracy: 0.6428571428571429\n",
      "Precision: 0.688\n",
      "Recall: 0.4725274725274725\n"
     ]
    }
   ],
   "source": [
    "X_mi = X[mi_feature]\n",
    "X_train,X_test,y_train,y_test=train_test_split(X_mi,y,test_size=0.25,random_state=0)\n",
    "y_pred = myModel(X_train,y_train,X_test)\n",
    "mi_acc = metrics.accuracy_score(y_test, y_pred)\n",
    "print(\"Accuracy:\",metrics.accuracy_score(y_test, y_pred))\n",
    "print(\"Precision:\",metrics.precision_score(y_test, y_pred))\n",
    "print(\"Recall:\",metrics.recall_score(y_test, y_pred))"
   ]
  },
  {
   "cell_type": "markdown",
   "metadata": {},
   "source": [
    "### 3. Anova F-value"
   ]
  },
  {
   "cell_type": "code",
   "execution_count": 17,
   "metadata": {},
   "outputs": [
    {
     "name": "stderr",
     "output_type": "stream",
     "text": [
      "/home/jupyter-samariddin/.local/lib/python3.9/site-packages/sklearn/feature_selection/_univariate_selection.py:112: UserWarning: Features [   2    4    5 ... 1309 1310 1311] are constant.\n",
      "  warnings.warn(\"Features %s are constant.\" % constant_features_idx, UserWarning)\n",
      "/home/jupyter-samariddin/.local/lib/python3.9/site-packages/sklearn/feature_selection/_univariate_selection.py:113: RuntimeWarning: invalid value encountered in true_divide\n",
      "  f = msb / msw\n"
     ]
    },
    {
     "data": {
      "text/plain": [
       "['MW', 'AMW', 'nI', 'C-032', 'C-042', 'CATS2D_01_DD']"
      ]
     },
     "execution_count": 17,
     "metadata": {},
     "output_type": "execute_result"
    }
   ],
   "source": [
    "#3 Anova F-value\n",
    "from sklearn.feature_selection import f_classif\n",
    "anov_selector = SelectKBest(f_classif, k=6)\n",
    "anov_selector.fit(X, y)\n",
    "anova_feature = getFeature(anov_selector.get_support())\n",
    "anova_feature"
   ]
  },
  {
   "cell_type": "code",
   "execution_count": 18,
   "metadata": {},
   "outputs": [
    {
     "name": "stdout",
     "output_type": "stream",
     "text": [
      "Accuracy: 0.6428571428571429\n",
      "Precision: 0.6850393700787402\n",
      "Recall: 0.47802197802197804\n"
     ]
    }
   ],
   "source": [
    "X_anova = X[anova_feature]\n",
    "X_train,X_test,y_train,y_test=train_test_split(X_anova,y,test_size=0.25,random_state=0)\n",
    "y_pred = myModel(X_train,y_train,X_test)\n",
    "anova_acc = metrics.accuracy_score(y_test, y_pred)\n",
    "print(\"Accuracy:\",metrics.accuracy_score(y_test, y_pred))\n",
    "print(\"Precision:\",metrics.precision_score(y_test, y_pred))\n",
    "print(\"Recall:\",metrics.recall_score(y_test, y_pred))"
   ]
  },
  {
   "cell_type": "markdown",
   "metadata": {},
   "source": [
    "### 4. Variance Threshold"
   ]
  },
  {
   "cell_type": "code",
   "execution_count": 19,
   "metadata": {},
   "outputs": [
    {
     "data": {
      "text/plain": [
       "2"
      ]
     },
     "execution_count": 19,
     "metadata": {},
     "output_type": "execute_result"
    }
   ],
   "source": [
    "#4 Variance Threshold\n",
    "from sklearn.feature_selection import VarianceThreshold\n",
    "var_selector = VarianceThreshold(threshold=0.05)\n",
    "var_selector.fit_transform(X)\n",
    "var_feature = getFeature(var_selector.get_support())\n",
    "len(var_feature)"
   ]
  },
  {
   "cell_type": "code",
   "execution_count": 52,
   "metadata": {},
   "outputs": [
    {
     "data": {
      "text/plain": [
       "['MW', 'AMW']"
      ]
     },
     "execution_count": 52,
     "metadata": {},
     "output_type": "execute_result"
    }
   ],
   "source": [
    "var_feature"
   ]
  },
  {
   "cell_type": "code",
   "execution_count": 20,
   "metadata": {},
   "outputs": [
    {
     "name": "stdout",
     "output_type": "stream",
     "text": [
      "Accuracy: 0.6428571428571429\n",
      "Precision: 0.688\n",
      "Recall: 0.4725274725274725\n"
     ]
    }
   ],
   "source": [
    "X_thresh = X[var_feature]\n",
    "X_train,X_test,y_train,y_test=train_test_split(X_thresh,y,test_size=0.25,random_state=0)\n",
    "y_pred = myModel(X_train,y_train,X_test)\n",
    "thresh_acc = metrics.accuracy_score(y_test, y_pred)\n",
    "print(\"Accuracy:\",metrics.accuracy_score(y_test, y_pred))\n",
    "print(\"Precision:\",metrics.precision_score(y_test, y_pred))\n",
    "print(\"Recall:\",metrics.recall_score(y_test, y_pred))"
   ]
  },
  {
   "cell_type": "markdown",
   "metadata": {},
   "source": [
    "### 5. Fisher Score"
   ]
  },
  {
   "cell_type": "code",
   "execution_count": 21,
   "metadata": {},
   "outputs": [
    {
     "data": {
      "text/plain": [
       "Index(['F03[C-P]', 'F10[I-I]', 'F07[P-Br]', 'F07[P-I]', 'F06[O-Si]',\n",
       "       'F05[C-X]'],\n",
       "      dtype='object')"
      ]
     },
     "execution_count": 21,
     "metadata": {},
     "output_type": "execute_result"
    }
   ],
   "source": [
    "#5. Fisher Score\n",
    "from skfeature.function.similarity_based import fisher_score\n",
    "score = fisher_score.fisher_score(X.to_numpy(), y.to_numpy())\n",
    "X.columns[score[:6]]"
   ]
  },
  {
   "cell_type": "code",
   "execution_count": 22,
   "metadata": {},
   "outputs": [
    {
     "name": "stdout",
     "output_type": "stream",
     "text": [
      "Accuracy: 0.5185185185185185\n",
      "Precision: 0.0\n",
      "Recall: 0.0\n"
     ]
    },
    {
     "name": "stderr",
     "output_type": "stream",
     "text": [
      "/home/jupyter-samariddin/.local/lib/python3.9/site-packages/sklearn/metrics/_classification.py:1318: UndefinedMetricWarning: Precision is ill-defined and being set to 0.0 due to no predicted samples. Use `zero_division` parameter to control this behavior.\n",
      "  _warn_prf(average, modifier, msg_start, len(result))\n"
     ]
    }
   ],
   "source": [
    "X_fisher = X[X.columns[score[:6]]]\n",
    "X_train,X_test,y_train,y_test=train_test_split(X_fisher,y,test_size=0.25,random_state=0)\n",
    "y_pred = myModel(X_train,y_train,X_test)\n",
    "fisher_acc = metrics.accuracy_score(y_test, y_pred)\n",
    "print(\"Accuracy:\",metrics.accuracy_score(y_test, y_pred))\n",
    "print(\"Precision:\",metrics.precision_score(y_test, y_pred))\n",
    "print(\"Recall:\",metrics.recall_score(y_test, y_pred))"
   ]
  },
  {
   "cell_type": "markdown",
   "metadata": {},
   "source": [
    "### 6. MultiSURF"
   ]
  },
  {
   "cell_type": "code",
   "execution_count": 23,
   "metadata": {},
   "outputs": [
    {
     "data": {
      "text/plain": [
       "MultiSURF(n_features_to_select=Index(['MW', 'AMW', 'nP', 'nI', 'nB', 'nStructures', 'totalcharge', 'Psi_e_t',\n",
       "       'Psi_e_1s', 'SpMax_X',\n",
       "       ...\n",
       "       'F10[I-I]', 'F10[I-B]', 'F10[I-Si]', 'F10[I-X]', 'F10[B-B]',\n",
       "       'F10[B-Si]', 'F10[B-X]', 'F10[Si-Si]', 'F10[Si-X]', 'F10[X-X]'],\n",
       "      dtype='object', length=1312),\n",
       "          n_jobs=-1)"
      ]
     },
     "execution_count": 23,
     "metadata": {},
     "output_type": "execute_result"
    }
   ],
   "source": [
    "#6. MultiSURF\n",
    "from skrebate import MultiSURF\n",
    "fs = MultiSURF(n_jobs=-1, n_features_to_select=X.columns)\n",
    "fs.fit(X.values, y.values)\n",
    "fs"
   ]
  },
  {
   "cell_type": "code",
   "execution_count": 24,
   "metadata": {},
   "outputs": [
    {
     "name": "stdout",
     "output_type": "stream",
     "text": [
      "Accuracy: 0.6428571428571429\n",
      "Precision: 0.6910569105691057\n",
      "Recall: 0.46703296703296704\n"
     ]
    }
   ],
   "source": [
    "X_multi = X[X.columns]\n",
    "X_train,X_test,y_train,y_test=train_test_split(X_multi,y,test_size=0.25,random_state=0)\n",
    "y_pred = myModel(X_train,y_train,X_test)\n",
    "multi_acc = metrics.accuracy_score(y_test, y_pred)\n",
    "print(\"Accuracy:\",metrics.accuracy_score(y_test, y_pred))\n",
    "print(\"Precision:\",metrics.precision_score(y_test, y_pred))\n",
    "print(\"Recall:\",metrics.recall_score(y_test, y_pred))"
   ]
  },
  {
   "cell_type": "markdown",
   "metadata": {},
   "source": [
    "### 7. Recursive Feature Elimination"
   ]
  },
  {
   "cell_type": "code",
   "execution_count": 25,
   "metadata": {},
   "outputs": [
    {
     "data": {
      "text/plain": [
       "['MW', 'AMW', 'nI', 'C-032', 'C-042', 'CATS2D_01_DD']"
      ]
     },
     "execution_count": 25,
     "metadata": {},
     "output_type": "execute_result"
    }
   ],
   "source": [
    "from sklearn.feature_selection import RFE\n",
    "from sklearn.linear_model import LogisticRegression\n",
    "rfe_selector = RFE(estimator=LogisticRegression(), \n",
    "                   n_features_to_select=6, step=1, verbose=-1)\n",
    "rfe_selector.fit(X_norm, y)\n",
    "rfe_feature = getFeature(rfe_selector.get_support())\n",
    "rfe_feature"
   ]
  },
  {
   "cell_type": "code",
   "execution_count": 26,
   "metadata": {},
   "outputs": [
    {
     "name": "stdout",
     "output_type": "stream",
     "text": [
      "Accuracy: 0.6428571428571429\n",
      "Precision: 0.6850393700787402\n",
      "Recall: 0.47802197802197804\n"
     ]
    }
   ],
   "source": [
    "X_rec = X[rfe_feature]\n",
    "X_train,X_test,y_train,y_test=train_test_split(X_rec,y,test_size=0.25,random_state=0)\n",
    "y_pred = myModel(X_train,y_train,X_test)\n",
    "rec_acc = metrics.accuracy_score(y_test, y_pred)\n",
    "print(\"Accuracy:\",metrics.accuracy_score(y_test, y_pred))\n",
    "print(\"Precision:\",metrics.precision_score(y_test, y_pred))\n",
    "print(\"Recall:\",metrics.recall_score(y_test, y_pred))"
   ]
  },
  {
   "cell_type": "markdown",
   "metadata": {},
   "source": [
    "### 8. Permutation Importance"
   ]
  },
  {
   "cell_type": "code",
   "execution_count": null,
   "metadata": {},
   "outputs": [
    {
     "name": "stderr",
     "output_type": "stream",
     "text": [
      "C:\\Users\\User\\anaconda3\\lib\\site-packages\\sklearn\\utils\\validation.py:67: FutureWarning: Pass classifier=True as keyword args. From version 0.25 passing these as positional arguments will result in an error\n",
      "  warnings.warn(\"Pass {} as keyword args. From version 0.25 \"\n"
     ]
    }
   ],
   "source": [
    "from eli5.sklearn import PermutationImportance\n",
    "from sklearn.feature_selection import SelectFromModel\n",
    "from sklearn.linear_model import LogisticRegression\n",
    "perm = PermutationImportance(LogisticRegression(solver='lbfgs', max_iter=10000), random_state=42, cv=10)\n",
    "perm.fit(X, y)\n",
    "perm_selector = SelectFromModel(perm,max_features=6).fit(X, y)\n",
    "perm_feature = getFeature(perm_selector.get_support())\n",
    "perm_feature"
   ]
  },
  {
   "cell_type": "code",
   "execution_count": 27,
   "metadata": {},
   "outputs": [],
   "source": [
    "perm_feature = ['MW', 'nTB', 'nR03', 'O-061', 'F-081', 'B05[O-F]']"
   ]
  },
  {
   "cell_type": "code",
   "execution_count": 35,
   "metadata": {},
   "outputs": [
    {
     "data": {
      "text/plain": [
       "Index(['MW', 'AMW', 'nP', 'nI', 'nB', 'nStructures', 'totalcharge', 'Psi_e_t',\n",
       "       'Psi_e_1s', 'SpMax_X',\n",
       "       ...\n",
       "       'F10[I-I]', 'F10[I-B]', 'F10[I-Si]', 'F10[I-X]', 'F10[B-B]',\n",
       "       'F10[B-Si]', 'F10[B-X]', 'F10[Si-Si]', 'F10[Si-X]', 'F10[X-X]'],\n",
       "      dtype='object', length=1312)"
      ]
     },
     "execution_count": 35,
     "metadata": {},
     "output_type": "execute_result"
    }
   ],
   "source": [
    "X.columns"
   ]
  },
  {
   "cell_type": "code",
   "execution_count": 37,
   "metadata": {},
   "outputs": [],
   "source": [
    "# X_perm = data1[['MW', 'nTB', 'nR03', 'O-061', 'F-081', 'B05[O-F]']]\n",
    "# X_train,X_test,y_train,y_test=train_test_split(X_perm,y,test_size=0.25,random_state=0)\n",
    "# y_pred = myModel(X_train,y_train,X_test)\n",
    "# perm_acc = metrics.accuracy_score(y_test, y_pred)\n",
    "# print(\"Accuracy:\",metrics.accuracy_score(y_test, y_pred))\n",
    "# print(\"Precision:\",metrics.precision_score(y_test, y_pred))\n",
    "# print(\"Recall:\",metrics.recall_score(y_test, y_pred))"
   ]
  },
  {
   "cell_type": "code",
   "execution_count": 50,
   "metadata": {},
   "outputs": [],
   "source": [
    "perm_acc = 0.6719576719"
   ]
  },
  {
   "cell_type": "markdown",
   "metadata": {},
   "source": [
    "### 9. SHAP"
   ]
  },
  {
   "cell_type": "code",
   "execution_count": 40,
   "metadata": {},
   "outputs": [
    {
     "data": {
      "image/png": "[encoded data removed]",
      "text/plain": [
       "<Figure size 432x288 with 1 Axes>"
      ]
     },
     "metadata": {
      "needs_background": "light"
     },
     "output_type": "display_data"
    }
   ],
   "source": [
    "import shap\n",
    "import xgboost\n",
    "import matplotlib.pylab as pl\n",
    "import re\n",
    "\n",
    "regex = re.compile(r\"\\[|\\]|<\", re.IGNORECASE)\n",
    "\n",
    "X.columns = [regex.sub(\"_\", col) if any(x in str(col) for x in set(('[', ']', '<'))) else col for col in X.columns.values]\n",
    "model = xgboost.train({\"learning_rate\": 0.01}, xgboost.DMatrix(X, label=y), 100)\n",
    "explainer = shap.TreeExplainer(model)\n",
    "shap_values = explainer.shap_values(X)\n",
    "xgboost.plot_importance(model)\n",
    "pl.title(\"xgboost.plot_importance(model)\")\n",
    "pl.show()"
   ]
  },
  {
   "cell_type": "code",
   "execution_count": 41,
   "metadata": {},
   "outputs": [
    {
     "name": "stdout",
     "output_type": "stream",
     "text": [
      "Accuracy: 0.6428571428571429\n",
      "Precision: 0.688\n",
      "Recall: 0.4725274725274725\n"
     ]
    }
   ],
   "source": [
    "X_shap = X[['AMW', 'MW']]\n",
    "X_train,X_test,y_train,y_test=train_test_split(X_shap,y,test_size=0.25,random_state=0)\n",
    "y_pred = myModel(X_train,y_train,X_test)\n",
    "shap_acc = metrics.accuracy_score(y_test, y_pred)\n",
    "print(\"Accuracy:\",metrics.accuracy_score(y_test, y_pred))\n",
    "print(\"Precision:\",metrics.precision_score(y_test, y_pred))\n",
    "print(\"Recall:\",metrics.recall_score(y_test, y_pred))"
   ]
  },
  {
   "cell_type": "markdown",
   "metadata": {},
   "source": [
    "### 10. Boruta"
   ]
  },
  {
   "cell_type": "code",
   "execution_count": 42,
   "metadata": {},
   "outputs": [
    {
     "data": {
      "text/plain": [
       "BorutaPy(estimator=RandomForestClassifier(class_weight='balanced', max_depth=6,\n",
       "                                          n_estimators=33, n_jobs=-1,\n",
       "                                          random_state=RandomState(MT19937) at 0x7FAADBCA6940),\n",
       "         n_estimators='auto',\n",
       "         random_state=RandomState(MT19937) at 0x7FAADBCA6940)"
      ]
     },
     "execution_count": 42,
     "metadata": {},
     "output_type": "execute_result"
    }
   ],
   "source": [
    "from boruta import BorutaPy\n",
    "from sklearn.ensemble import RandomForestClassifier\n",
    "rf = RandomForestClassifier(n_jobs=-1, class_weight='balanced', max_depth=6)\n",
    "boru_selector = BorutaPy(rf, n_estimators='auto', verbose=0, random_state=1)\n",
    "boru_selector.fit(X.values, y.values)"
   ]
  },
  {
   "cell_type": "code",
   "execution_count": 43,
   "metadata": {},
   "outputs": [],
   "source": [
    "accept = X.columns[boru_selector.support_].to_list()\n",
    "#accept"
   ]
  },
  {
   "cell_type": "code",
   "execution_count": 53,
   "metadata": {},
   "outputs": [
    {
     "data": {
      "text/plain": [
       "['MW', 'AMW']"
      ]
     },
     "execution_count": 53,
     "metadata": {},
     "output_type": "execute_result"
    }
   ],
   "source": [
    "accept"
   ]
  },
  {
   "cell_type": "code",
   "execution_count": 44,
   "metadata": {},
   "outputs": [
    {
     "name": "stdout",
     "output_type": "stream",
     "text": [
      "Accuracy: 0.6428571428571429\n",
      "Precision: 0.688\n",
      "Recall: 0.4725274725274725\n"
     ]
    }
   ],
   "source": [
    "X_boruta = X[accept]\n",
    "X_train,X_test,y_train,y_test=train_test_split(X_boruta,y,test_size=0.25,random_state=0)\n",
    "y_pred = myModel(X_train,y_train,X_test)\n",
    "boruta_acc = metrics.accuracy_score(y_test, y_pred)\n",
    "print(\"Accuracy:\",metrics.accuracy_score(y_test, y_pred))\n",
    "print(\"Precision:\",metrics.precision_score(y_test, y_pred))\n",
    "print(\"Recall:\",metrics.recall_score(y_test, y_pred))"
   ]
  },
  {
   "cell_type": "markdown",
   "metadata": {},
   "source": [
    "### 11. Embedded Random Forest"
   ]
  },
  {
   "cell_type": "code",
   "execution_count": 45,
   "metadata": {},
   "outputs": [
    {
     "data": {
      "text/plain": [
       "['MW', 'AMW', 'nI', 'C-042', 'CATS2D_01_DD']"
      ]
     },
     "execution_count": 45,
     "metadata": {},
     "output_type": "execute_result"
    }
   ],
   "source": [
    "from sklearn.feature_selection import SelectFromModel\n",
    "from sklearn.ensemble import RandomForestClassifier\n",
    "embeded_rf_selector = SelectFromModel(RandomForestClassifier(n_estimators=100, random_state=42), max_features=6)\n",
    "embeded_rf_selector.fit(X, y)\n",
    "embeded_rf_feature = getFeature(embeded_rf_selector.get_support())\n",
    "embeded_rf_feature"
   ]
  },
  {
   "cell_type": "code",
   "execution_count": 46,
   "metadata": {},
   "outputs": [
    {
     "name": "stdout",
     "output_type": "stream",
     "text": [
      "Accuracy: 0.6428571428571429\n",
      "Precision: 0.6850393700787402\n",
      "Recall: 0.47802197802197804\n"
     ]
    }
   ],
   "source": [
    "X_rf = X[embeded_rf_feature]\n",
    "X_train,X_test,y_train,y_test=train_test_split(X_rf,y,test_size=0.25,random_state=0)\n",
    "y_pred = myModel(X_train,y_train,X_test)\n",
    "rf_acc = metrics.accuracy_score(y_test, y_pred)\n",
    "print(\"Accuracy:\",metrics.accuracy_score(y_test, y_pred))\n",
    "print(\"Precision:\",metrics.precision_score(y_test, y_pred))\n",
    "print(\"Recall:\",metrics.recall_score(y_test, y_pred))"
   ]
  },
  {
   "cell_type": "markdown",
   "metadata": {},
   "source": [
    "### 12. Embedded LightGBM"
   ]
  },
  {
   "cell_type": "code",
   "execution_count": 47,
   "metadata": {},
   "outputs": [
    {
     "data": {
      "text/plain": [
       "['MW', 'AMW']"
      ]
     },
     "execution_count": 47,
     "metadata": {},
     "output_type": "execute_result"
    }
   ],
   "source": [
    "from lightgbm import LGBMClassifier\n",
    "from sklearn.feature_selection import SelectFromModel\n",
    "lgbc=LGBMClassifier(n_estimators=500, learning_rate=0.05,\n",
    "                    num_leaves=32, colsample_bytree=0.2,                                           \n",
    "                    reg_alpha=3, reg_lambda=1, min_split_gain=0.01,    \n",
    "                    min_child_weight=40)\n",
    "embeded_lgb_selector = SelectFromModel(lgbc, max_features=6)\n",
    "embeded_lgb_selector.fit(X, y)\n",
    "embeded_lgb_feature = getFeature(embeded_lgb_selector.get_support())\n",
    "embeded_lgb_feature"
   ]
  },
  {
   "cell_type": "code",
   "execution_count": 48,
   "metadata": {},
   "outputs": [
    {
     "name": "stdout",
     "output_type": "stream",
     "text": [
      "Accuracy: 0.6428571428571429\n",
      "Precision: 0.688\n",
      "Recall: 0.4725274725274725\n"
     ]
    }
   ],
   "source": [
    "X_lgbm = X[embeded_lgb_feature]\n",
    "X_train,X_test,y_train,y_test=train_test_split(X_lgbm,y,test_size=0.25,random_state=0)\n",
    "y_pred = myModel(X_train,y_train,X_test)\n",
    "lgbm_acc = metrics.accuracy_score(y_test, y_pred)\n",
    "print(\"Accuracy:\",metrics.accuracy_score(y_test, y_pred))\n",
    "print(\"Precision:\",metrics.precision_score(y_test, y_pred))\n",
    "print(\"Recall:\",metrics.recall_score(y_test, y_pred))"
   ]
  },
  {
   "cell_type": "code",
   "execution_count": 54,
   "metadata": {},
   "outputs": [],
   "source": [
    "chi_table = ['Chi-square', chi_acc, 'MW', 'AMW', 'nI', 'C-032', 'C-042', 'CATS2D_01_DD']\n",
    "mi_table = ['Mutual Information', mi_acc, 'MW', 'AMW', 'B04[F-I]', 'B06[C-Si]', 'B10[P-Br]', 'F08[P-X]']\n",
    "anova_table = ['Anova F-value', anova_acc, 'MW', 'AMW', 'nI', 'C-032', 'C-042', 'CATS2D_01_DD']\n",
    "var_table = ['Variance Threshold',thresh_acc,'MW', 'AMW','-','-','-','-']\n",
    "fisher_table = ['Fisher Score', fisher_acc, 'F03[C-P]', 'F10[I-I]', 'F07[P-Br]', 'F07[P-I]', 'F06[O-Si]','F05[C-X]']\n",
    "multi_table = ['MultiSURF',multi_acc,'-','-','-','-','-','-']\n",
    "rec_table = ['Recursive Feature Elimination',rec_acc, 'MW', 'AMW', 'nI', 'C-032', 'C-042', 'CATS2D_01_DD']\n",
    "perm_table = ['Permutation Importance',perm_acc,'MW', 'nTB', 'nR03', 'O-061', 'F-081', 'B05[O-F]']\n",
    "shap_table = ['SHAP', shap_acc, 'AMW', 'MW', '-','-','-','-']\n",
    "boruta_table = ['Boruta',boruta_acc,'MW', 'AMW','-','-','-','-']\n",
    "rf_table = ['Embedded Random Forest', rf_acc,'MW', 'AMW', 'nI', 'C-042', 'CATS2D_01_DD','-']\n",
    "lgbm_table =['Embedded LightGBM', lgbm_acc, 'MW', 'AMW', '-','-','-','-']\n",
    "\n",
    "\n"
   ]
  },
  {
   "cell_type": "code",
   "execution_count": 55,
   "metadata": {},
   "outputs": [],
   "source": [
    "myTable = [chi_table, mi_table, anova_table,var_table, fisher_table, multi_table, rec_table, perm_table, shap_table,\n",
    "          boruta_table, rf_table, lgbm_table]\n",
    "\n",
    "\n"
   ]
  },
  {
   "cell_type": "code",
   "execution_count": 56,
   "metadata": {},
   "outputs": [
    {
     "data": {
      "text/html": [
       "<div>\n",
       "<style scoped>\n",
       "    .dataframe tbody tr th:only-of-type {\n",
       "        vertical-align: middle;\n",
       "    }\n",
       "\n",
       "    .dataframe tbody tr th {\n",
       "        vertical-align: top;\n",
       "    }\n",
       "\n",
       "    .dataframe thead th {\n",
       "        text-align: right;\n",
       "    }\n",
       "</style>\n",
       "<table border=\"1\" class=\"dataframe\">\n",
       "  <thead>\n",
       "    <tr style=\"text-align: right;\">\n",
       "      <th></th>\n",
       "      <th>Method</th>\n",
       "      <th>Accuracy</th>\n",
       "      <th>Feature 1</th>\n",
       "      <th>Feature 2</th>\n",
       "      <th>Feature 3</th>\n",
       "      <th>Feature 4</th>\n",
       "      <th>Feature 5</th>\n",
       "      <th>Feature 6</th>\n",
       "    </tr>\n",
       "  </thead>\n",
       "  <tbody>\n",
       "    <tr>\n",
       "      <th>0</th>\n",
       "      <td>Chi-square</td>\n",
       "      <td>0.642857</td>\n",
       "      <td>MW</td>\n",
       "      <td>AMW</td>\n",
       "      <td>nI</td>\n",
       "      <td>C-032</td>\n",
       "      <td>C-042</td>\n",
       "      <td>CATS2D_01_DD</td>\n",
       "    </tr>\n",
       "    <tr>\n",
       "      <th>1</th>\n",
       "      <td>Mutual Information</td>\n",
       "      <td>0.642857</td>\n",
       "      <td>MW</td>\n",
       "      <td>AMW</td>\n",
       "      <td>B04[F-I]</td>\n",
       "      <td>B06[C-Si]</td>\n",
       "      <td>B10[P-Br]</td>\n",
       "      <td>F08[P-X]</td>\n",
       "    </tr>\n",
       "    <tr>\n",
       "      <th>2</th>\n",
       "      <td>Anova F-value</td>\n",
       "      <td>0.642857</td>\n",
       "      <td>MW</td>\n",
       "      <td>AMW</td>\n",
       "      <td>nI</td>\n",
       "      <td>C-032</td>\n",
       "      <td>C-042</td>\n",
       "      <td>CATS2D_01_DD</td>\n",
       "    </tr>\n",
       "    <tr>\n",
       "      <th>3</th>\n",
       "      <td>Variance Threshold</td>\n",
       "      <td>0.642857</td>\n",
       "      <td>MW</td>\n",
       "      <td>AMW</td>\n",
       "      <td>-</td>\n",
       "      <td>-</td>\n",
       "      <td>-</td>\n",
       "      <td>-</td>\n",
       "    </tr>\n",
       "    <tr>\n",
       "      <th>4</th>\n",
       "      <td>Fisher Score</td>\n",
       "      <td>0.518519</td>\n",
       "      <td>F03[C-P]</td>\n",
       "      <td>F10[I-I]</td>\n",
       "      <td>F07[P-Br]</td>\n",
       "      <td>F07[P-I]</td>\n",
       "      <td>F06[O-Si]</td>\n",
       "      <td>F05[C-X]</td>\n",
       "    </tr>\n",
       "    <tr>\n",
       "      <th>5</th>\n",
       "      <td>MultiSURF</td>\n",
       "      <td>0.642857</td>\n",
       "      <td>-</td>\n",
       "      <td>-</td>\n",
       "      <td>-</td>\n",
       "      <td>-</td>\n",
       "      <td>-</td>\n",
       "      <td>-</td>\n",
       "    </tr>\n",
       "    <tr>\n",
       "      <th>6</th>\n",
       "      <td>Recursive Feature Elimination</td>\n",
       "      <td>0.642857</td>\n",
       "      <td>MW</td>\n",
       "      <td>AMW</td>\n",
       "      <td>nI</td>\n",
       "      <td>C-032</td>\n",
       "      <td>C-042</td>\n",
       "      <td>CATS2D_01_DD</td>\n",
       "    </tr>\n",
       "    <tr>\n",
       "      <th>7</th>\n",
       "      <td>Permutation Importance</td>\n",
       "      <td>0.671958</td>\n",
       "      <td>MW</td>\n",
       "      <td>nTB</td>\n",
       "      <td>nR03</td>\n",
       "      <td>O-061</td>\n",
       "      <td>F-081</td>\n",
       "      <td>B05[O-F]</td>\n",
       "    </tr>\n",
       "    <tr>\n",
       "      <th>8</th>\n",
       "      <td>SHAP</td>\n",
       "      <td>0.642857</td>\n",
       "      <td>AMW</td>\n",
       "      <td>MW</td>\n",
       "      <td>-</td>\n",
       "      <td>-</td>\n",
       "      <td>-</td>\n",
       "      <td>-</td>\n",
       "    </tr>\n",
       "    <tr>\n",
       "      <th>9</th>\n",
       "      <td>Boruta</td>\n",
       "      <td>0.642857</td>\n",
       "      <td>MW</td>\n",
       "      <td>AMW</td>\n",
       "      <td>-</td>\n",
       "      <td>-</td>\n",
       "      <td>-</td>\n",
       "      <td>-</td>\n",
       "    </tr>\n",
       "    <tr>\n",
       "      <th>10</th>\n",
       "      <td>Embedded Random Forest</td>\n",
       "      <td>0.642857</td>\n",
       "      <td>MW</td>\n",
       "      <td>AMW</td>\n",
       "      <td>nI</td>\n",
       "      <td>C-042</td>\n",
       "      <td>CATS2D_01_DD</td>\n",
       "      <td>-</td>\n",
       "    </tr>\n",
       "    <tr>\n",
       "      <th>11</th>\n",
       "      <td>Embedded LightGBM</td>\n",
       "      <td>0.642857</td>\n",
       "      <td>MW</td>\n",
       "      <td>AMW</td>\n",
       "      <td>-</td>\n",
       "      <td>-</td>\n",
       "      <td>-</td>\n",
       "      <td>-</td>\n",
       "    </tr>\n",
       "  </tbody>\n",
       "</table>\n",
       "</div>"
      ],
      "text/plain": [
       "                           Method  Accuracy Feature 1 Feature 2  Feature 3  \\\n",
       "0                      Chi-square  0.642857        MW       AMW         nI   \n",
       "1              Mutual Information  0.642857        MW       AMW   B04[F-I]   \n",
       "2                   Anova F-value  0.642857        MW       AMW         nI   \n",
       "3              Variance Threshold  0.642857        MW       AMW          -   \n",
       "4                    Fisher Score  0.518519  F03[C-P]  F10[I-I]  F07[P-Br]   \n",
       "5                       MultiSURF  0.642857         -         -          -   \n",
       "6   Recursive Feature Elimination  0.642857        MW       AMW         nI   \n",
       "7          Permutation Importance  0.671958        MW       nTB       nR03   \n",
       "8                            SHAP  0.642857       AMW        MW          -   \n",
       "9                          Boruta  0.642857        MW       AMW          -   \n",
       "10         Embedded Random Forest  0.642857        MW       AMW         nI   \n",
       "11              Embedded LightGBM  0.642857        MW       AMW          -   \n",
       "\n",
       "    Feature 4     Feature 5     Feature 6  \n",
       "0       C-032         C-042  CATS2D_01_DD  \n",
       "1   B06[C-Si]     B10[P-Br]      F08[P-X]  \n",
       "2       C-032         C-042  CATS2D_01_DD  \n",
       "3           -             -             -  \n",
       "4    F07[P-I]     F06[O-Si]      F05[C-X]  \n",
       "5           -             -             -  \n",
       "6       C-032         C-042  CATS2D_01_DD  \n",
       "7       O-061         F-081      B05[O-F]  \n",
       "8           -             -             -  \n",
       "9           -             -             -  \n",
       "10      C-042  CATS2D_01_DD             -  \n",
       "11          -             -             -  "
      ]
     },
     "execution_count": 56,
     "metadata": {},
     "output_type": "execute_result"
    }
   ],
   "source": [
    "results = pd.DataFrame(myTable,columns=['Method', 'Accuracy','Feature 1','Feature 2','Feature 3','Feature 4','Feature 5','Feature 6'])\n",
    "\n",
    "results                    "
   ]
  },
  {
   "cell_type": "code",
   "execution_count": null,
   "metadata": {},
   "outputs": [],
   "source": []
  },
  {
   "cell_type": "code",
   "execution_count": null,
   "metadata": {},
   "outputs": [],
   "source": []
  },
  {
   "cell_type": "code",
   "execution_count": null,
   "metadata": {},
   "outputs": [],
   "source": []
  },
  {
   "cell_type": "code",
   "execution_count": null,
   "metadata": {},
   "outputs": [],
   "source": []
  },
  {
   "cell_type": "code",
   "execution_count": null,
   "metadata": {},
   "outputs": [],
   "source": []
  },
  {
   "cell_type": "code",
   "execution_count": 57,
   "metadata": {},
   "outputs": [],
   "source": [
    "results.to_csv('result3_log.csv')"
   ]
  },
  {
   "cell_type": "code",
   "execution_count": 27,
   "metadata": {},
   "outputs": [],
   "source": [
    "results.to_excel(\"result.xlsx\", sheet_name='Sheet_name_1') "
   ]
  },
  {
   "cell_type": "code",
   "execution_count": 15,
   "metadata": {},
   "outputs": [
    {
     "data": {
      "text/plain": [
       "-7.3755193267135635"
      ]
     },
     "execution_count": 15,
     "metadata": {},
     "output_type": "execute_result"
    }
   ],
   "source": [
    "from sklearn.datasets import load_diabetes\n",
    "from sklearn.model_selection import train_test_split\n",
    "from sklearn.linear_model import Ridge\n",
    "diabetes = load_diabetes()\n",
    "X_train, X_val, y_train, y_val = train_test_split(\n",
    "    X, y, test_size=0.25,random_state=0)\n",
    "\n",
    "model = Ridge(alpha=1e-2).fit(X_train, y_train)\n",
    "model.score(X_val, y_val)"
   ]
  },
  {
   "cell_type": "code",
   "execution_count": 16,
   "metadata": {},
   "outputs": [
    {
     "name": "stdout",
     "output_type": "stream",
     "text": [
      "Accuracy: 0.72\n"
     ]
    },
    {
     "name": "stderr",
     "output_type": "stream",
     "text": [
      "C:\\Users\\User\\anaconda3\\lib\\site-packages\\sklearn\\linear_model\\_logistic.py:762: ConvergenceWarning: lbfgs failed to converge (status=1):\n",
      "STOP: TOTAL NO. of ITERATIONS REACHED LIMIT.\n",
      "\n",
      "Increase the number of iterations (max_iter) or scale the data as shown in:\n",
      "    https://scikit-learn.org/stable/modules/preprocessing.html\n",
      "Please also refer to the documentation for alternative solver options:\n",
      "    https://scikit-learn.org/stable/modules/linear_model.html#logistic-regression\n",
      "  n_iter_i = _check_optimize_result(\n"
     ]
    }
   ],
   "source": [
    "from sklearn.linear_model import LogisticRegression\n",
    "logreg = LogisticRegression()\n",
    "\n",
    "    # fit the model with data\n",
    "logreg.fit(X_train,y_train)\n",
    "\n",
    "    # get predict\n",
    "y_pred=logreg.predict(X_val)\n",
    "pp_im = metrics.accuracy_score(y_val, y_pred)\n",
    "print(\"Accuracy:\",metrics.accuracy_score(y_val, y_pred))"
   ]
  },
  {
   "cell_type": "code",
   "execution_count": 17,
   "metadata": {},
   "outputs": [
    {
     "name": "stdout",
     "output_type": "stream",
     "text": [
      "MAC7(Z1)1165.723 +/- 206.355\n",
      "MAC2(Z1)619.053 +/- 125.856\n",
      "MAC7(Mw)445.093 +/- 78.788\n",
      "MAC3(Z1)325.653 +/- 65.469\n",
      "MAC1(Mw)325.040 +/- 68.574\n",
      "MAC5(Mw)301.063 +/- 54.619\n",
      "MAC2(Mw)288.199 +/- 53.579\n",
      "MAC4(Z1)218.922 +/- 42.216\n",
      "MAC6(Z1)200.863 +/- 33.593\n",
      "MAC6(HP)147.973 +/- 29.946\n",
      "MAC3(Ap)146.277 +/- 31.166\n",
      "MAC3(HP)138.040 +/- 28.945\n",
      "MAC2(HP)134.440 +/- 25.928\n",
      "MAC4(HP)120.941 +/- 26.972\n",
      "MAC2(Anp)68.624 +/- 15.016\n",
      "MAC1(Z1)64.465 +/- 14.540\n",
      "ID      42.625 +/- 9.762\n",
      "MAC6(Ap)41.045 +/- 8.018\n",
      "MAC2(Pb)35.842 +/- 8.133\n",
      "MAC1(Ap)32.609 +/- 7.728\n",
      "MAC5(Ap)32.016 +/- 7.120\n",
      "MAC5(HP)29.192 +/- 7.033\n",
      "MAC1(Pb)26.298 +/- 5.917\n",
      "MAC3(Z2)25.562 +/- 7.107\n",
      "MAC3(Pb)24.707 +/- 5.793\n",
      "MAC3(Mw)23.074 +/- 5.522\n",
      "MAC4(Anp)21.567 +/- 5.498\n",
      "MAC4(Mw)20.694 +/- 4.832\n",
      "MAC5(Pb)16.975 +/- 4.504\n",
      "MAC6(Anp)15.981 +/- 4.661\n",
      "MAC4(Z2)11.866 +/- 3.682\n",
      "MAC5(Z1)11.369 +/- 3.312\n",
      "MAC4(Ap)10.522 +/- 2.862\n",
      "MAC1(Anp)7.779 +/- 2.848\n",
      "MAC7(HP)6.746 +/- 2.626\n",
      "MAC5(Z2)4.108 +/- 1.423\n",
      "MAC3(IP)3.876 +/- 1.552\n",
      "MAC2(Z2)2.550 +/- 0.830\n",
      "MAC7(Z2)2.537 +/- 1.041\n",
      "MAC5(IP)1.926 +/- 0.745\n",
      "MAC2(Ap)1.862 +/- 0.592\n",
      "MAC6(Z2)1.584 +/- 0.737\n",
      "MAC4(IP)1.533 +/- 0.728\n",
      "MAC5(ECI)1.044 +/- 0.360\n",
      "MAC2(ECI)0.234 +/- 0.107\n",
      "MAC3(Pt)0.113 +/- 0.041\n",
      "MAC1(Pt)0.053 +/- 0.025\n"
     ]
    }
   ],
   "source": [
    "from sklearn.inspection import permutation_importance\n",
    "r = permutation_importance(model, X_val, y_val,\n",
    "                            n_repeats=30,\n",
    "                            random_state=0)\n",
    "\n",
    "for i in r.importances_mean.argsort()[::-1]:\n",
    "    if r.importances_mean[i] - 2 * r.importances_std[i] > 0:\n",
    "        print(f\"{data.columns[i]:<8}\"\n",
    "               f\"{r.importances_mean[i]:.3f}\"\n",
    "               f\" +/- {r.importances_std[i]:.3f}\")\n"
   ]
  },
  {
   "cell_type": "code",
   "execution_count": 18,
   "metadata": {},
   "outputs": [
    {
     "name": "stdout",
     "output_type": "stream",
     "text": [
      "Accuracy: 0.64\n",
      "Precision: 0.5\n",
      "Recall: 0.3333333333333333\n"
     ]
    }
   ],
   "source": [
    "X_perm1 = X[['MAC7(Z1)','MAC2(Z1)', 'MAC7(Mw)', 'MAC3(Z1)', 'MAC1(Mw)', 'MAC5(Mw)']]\n",
    "X_train,X_test,y_train,y_test=train_test_split(X_perm1,y,test_size=0.25,random_state=0)\n",
    "logreg = LogisticRegression()\n",
    "\n",
    "    # fit the model with data\n",
    "logreg.fit(X_train,y_train)\n",
    "\n",
    "    # get predict\n",
    "y_pred=logreg.predict(X_test)\n",
    "perm_acc = metrics.accuracy_score(y_test, y_pred)\n",
    "\n",
    "print(\"Accuracy:\",metrics.accuracy_score(y_test, y_pred))\n",
    "print(\"Precision:\",metrics.precision_score(y_test, y_pred))\n",
    "print(\"Recall:\",metrics.recall_score(y_test, y_pred))"
   ]
  },
  {
   "cell_type": "code",
   "execution_count": null,
   "metadata": {},
   "outputs": [],
   "source": []
  }
 ],
 "metadata": {
  "kernelspec": {
   "display_name": "FeatureSelection",
   "language": "python",
   "name": "envfs"
  },
  "language_info": {
   "codemirror_mode": {
    "name": "ipython",
    "version": 3
   },
   "file_extension": ".py",
   "mimetype": "text/x-python",
   "name": "python",
   "nbconvert_exporter": "python",
   "pygments_lexer": "ipython3",
   "version": "3.9.12"
  }
 },
 "nbformat": 4,
 "nbformat_minor": 4
}
