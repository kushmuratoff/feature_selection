{
 "cells": [
  {
   "cell_type": "code",
   "execution_count": 1,
   "metadata": {},
   "outputs": [],
   "source": [
    "import pandas as pd\n",
    "import numpy as np\n",
    "from sklearn import metrics"
   ]
  },
  {
   "cell_type": "code",
   "execution_count": 5,
   "metadata": {},
   "outputs": [
    {
     "data": {
      "text/html": [
       "<div>\n",
       "<style scoped>\n",
       "    .dataframe tbody tr th:only-of-type {\n",
       "        vertical-align: middle;\n",
       "    }\n",
       "\n",
       "    .dataframe tbody tr th {\n",
       "        vertical-align: top;\n",
       "    }\n",
       "\n",
       "    .dataframe thead th {\n",
       "        text-align: right;\n",
       "    }\n",
       "</style>\n",
       "<table border=\"1\" class=\"dataframe\">\n",
       "  <thead>\n",
       "    <tr style=\"text-align: right;\">\n",
       "      <th></th>\n",
       "      <th>SMILES</th>\n",
       "      <th>p_np_class</th>\n",
       "    </tr>\n",
       "  </thead>\n",
       "  <tbody>\n",
       "    <tr>\n",
       "      <th>0</th>\n",
       "      <td>[Cl].CC(C)NCC(O)COC1=C2C=CC=CC2=CC=C1</td>\n",
       "      <td>yes</td>\n",
       "    </tr>\n",
       "    <tr>\n",
       "      <th>1</th>\n",
       "      <td>CC(C)(C)OC(=O)CCCC1=CC=C(C=C1)N(CCCl)CCCl</td>\n",
       "      <td>yes</td>\n",
       "    </tr>\n",
       "    <tr>\n",
       "      <th>2</th>\n",
       "      <td>CC1COC2=C(N3CCN(C)CC3)C(F)=CC3=C2N1C=C(C(O)=O)...</td>\n",
       "      <td>yes</td>\n",
       "    </tr>\n",
       "    <tr>\n",
       "      <th>3</th>\n",
       "      <td>CC(=O)NCCCOC1=CC(CN2CCCCC2)=CC=C1</td>\n",
       "      <td>yes</td>\n",
       "    </tr>\n",
       "    <tr>\n",
       "      <th>4</th>\n",
       "      <td>CC1=C(C(=O)N[C@H]2[C@H]3SC(C)(C)[C@@H](N3C2=O)...</td>\n",
       "      <td>yes</td>\n",
       "    </tr>\n",
       "  </tbody>\n",
       "</table>\n",
       "</div>"
      ],
      "text/plain": [
       "                                              SMILES p_np_class\n",
       "0              [Cl].CC(C)NCC(O)COC1=C2C=CC=CC2=CC=C1        yes\n",
       "1          CC(C)(C)OC(=O)CCCC1=CC=C(C=C1)N(CCCl)CCCl        yes\n",
       "2  CC1COC2=C(N3CCN(C)CC3)C(F)=CC3=C2N1C=C(C(O)=O)...        yes\n",
       "3                  CC(=O)NCCCOC1=CC(CN2CCCCC2)=CC=C1        yes\n",
       "4  CC1=C(C(=O)N[C@H]2[C@H]3SC(C)(C)[C@@H](N3C2=O)...        yes"
      ]
     },
     "execution_count": 5,
     "metadata": {},
     "output_type": "execute_result"
    }
   ],
   "source": [
    "# Read in data into a dataframe \n",
    "data = pd.read_csv('6_class_bbbp.csv', sep=';')\n",
    "# Display top of dataframe\n",
    "data.head()"
   ]
  },
  {
   "cell_type": "code",
   "execution_count": 6,
   "metadata": {},
   "outputs": [
    {
     "data": {
      "text/html": [
       "<div>\n",
       "<style scoped>\n",
       "    .dataframe tbody tr th:only-of-type {\n",
       "        vertical-align: middle;\n",
       "    }\n",
       "\n",
       "    .dataframe tbody tr th {\n",
       "        vertical-align: top;\n",
       "    }\n",
       "\n",
       "    .dataframe thead th {\n",
       "        text-align: right;\n",
       "    }\n",
       "</style>\n",
       "<table border=\"1\" class=\"dataframe\">\n",
       "  <thead>\n",
       "    <tr style=\"text-align: right;\">\n",
       "      <th></th>\n",
       "      <th>SMILES</th>\n",
       "      <th>CASRN</th>\n",
       "      <th>EXTERNALID</th>\n",
       "      <th>N</th>\n",
       "      <th>NAME</th>\n",
       "      <th>NAME.1</th>\n",
       "      <th>ARTICLEID</th>\n",
       "      <th>PUBMEDID</th>\n",
       "      <th>PAGE</th>\n",
       "      <th>TABLE</th>\n",
       "      <th>...</th>\n",
       "      <th>Psychotic-80</th>\n",
       "      <th>Psychotic-50</th>\n",
       "      <th>Hypertens-80</th>\n",
       "      <th>Hypertens-50</th>\n",
       "      <th>Hypnotic-80</th>\n",
       "      <th>Hypnotic-50</th>\n",
       "      <th>Neoplastic-80</th>\n",
       "      <th>Neoplastic-50</th>\n",
       "      <th>Infective-80</th>\n",
       "      <th>Infective-50</th>\n",
       "    </tr>\n",
       "  </thead>\n",
       "  <tbody>\n",
       "    <tr>\n",
       "      <th>0</th>\n",
       "      <td>[Cl].CC(C)NCC(O)COC1=C2C=CC=CC2=CC=C1</td>\n",
       "      <td>-</td>\n",
       "      <td>-</td>\n",
       "      <td>-</td>\n",
       "      <td>-</td>\n",
       "      <td>-</td>\n",
       "      <td>-</td>\n",
       "      <td>-</td>\n",
       "      <td>-</td>\n",
       "      <td>-</td>\n",
       "      <td>...</td>\n",
       "      <td>0.0</td>\n",
       "      <td>0.0</td>\n",
       "      <td>1.0</td>\n",
       "      <td>0.0</td>\n",
       "      <td>1.0</td>\n",
       "      <td>0.0</td>\n",
       "      <td>1.0</td>\n",
       "      <td>1.0</td>\n",
       "      <td>1.0</td>\n",
       "      <td>1.0</td>\n",
       "    </tr>\n",
       "    <tr>\n",
       "      <th>1</th>\n",
       "      <td>CC(C)(C)OC(=O)CCCC1=CC=C(C=C1)N(CCCl)CCCl</td>\n",
       "      <td>-</td>\n",
       "      <td>-</td>\n",
       "      <td>-</td>\n",
       "      <td>-</td>\n",
       "      <td>-</td>\n",
       "      <td>-</td>\n",
       "      <td>-</td>\n",
       "      <td>-</td>\n",
       "      <td>-</td>\n",
       "      <td>...</td>\n",
       "      <td>1.0</td>\n",
       "      <td>0.0</td>\n",
       "      <td>0.0</td>\n",
       "      <td>0.0</td>\n",
       "      <td>0.0</td>\n",
       "      <td>0.0</td>\n",
       "      <td>0.0</td>\n",
       "      <td>0.0</td>\n",
       "      <td>1.0</td>\n",
       "      <td>0.0</td>\n",
       "    </tr>\n",
       "    <tr>\n",
       "      <th>2</th>\n",
       "      <td>CC1COC2=C(N3CCN(C)CC3)C(F)=CC3=C2N1C=C(C(O)=O)...</td>\n",
       "      <td>-</td>\n",
       "      <td>-</td>\n",
       "      <td>-</td>\n",
       "      <td>-</td>\n",
       "      <td>-</td>\n",
       "      <td>-</td>\n",
       "      <td>-</td>\n",
       "      <td>-</td>\n",
       "      <td>-</td>\n",
       "      <td>...</td>\n",
       "      <td>0.0</td>\n",
       "      <td>0.0</td>\n",
       "      <td>1.0</td>\n",
       "      <td>1.0</td>\n",
       "      <td>0.0</td>\n",
       "      <td>0.0</td>\n",
       "      <td>1.0</td>\n",
       "      <td>1.0</td>\n",
       "      <td>1.0</td>\n",
       "      <td>0.0</td>\n",
       "    </tr>\n",
       "    <tr>\n",
       "      <th>3</th>\n",
       "      <td>CC(=O)NCCCOC1=CC(CN2CCCCC2)=CC=C1</td>\n",
       "      <td>-</td>\n",
       "      <td>-</td>\n",
       "      <td>-</td>\n",
       "      <td>-</td>\n",
       "      <td>-</td>\n",
       "      <td>-</td>\n",
       "      <td>-</td>\n",
       "      <td>-</td>\n",
       "      <td>-</td>\n",
       "      <td>...</td>\n",
       "      <td>0.0</td>\n",
       "      <td>0.0</td>\n",
       "      <td>1.0</td>\n",
       "      <td>1.0</td>\n",
       "      <td>0.0</td>\n",
       "      <td>0.0</td>\n",
       "      <td>1.0</td>\n",
       "      <td>1.0</td>\n",
       "      <td>1.0</td>\n",
       "      <td>0.0</td>\n",
       "    </tr>\n",
       "    <tr>\n",
       "      <th>4</th>\n",
       "      <td>CC1=C(C(=O)N[C@H]2[C@H]3SC(C)(C)[C@@H](N3C2=O)...</td>\n",
       "      <td>-</td>\n",
       "      <td>-</td>\n",
       "      <td>-</td>\n",
       "      <td>-</td>\n",
       "      <td>-</td>\n",
       "      <td>-</td>\n",
       "      <td>-</td>\n",
       "      <td>-</td>\n",
       "      <td>-</td>\n",
       "      <td>...</td>\n",
       "      <td>1.0</td>\n",
       "      <td>0.0</td>\n",
       "      <td>1.0</td>\n",
       "      <td>0.0</td>\n",
       "      <td>0.0</td>\n",
       "      <td>0.0</td>\n",
       "      <td>1.0</td>\n",
       "      <td>0.0</td>\n",
       "      <td>1.0</td>\n",
       "      <td>0.0</td>\n",
       "    </tr>\n",
       "  </tbody>\n",
       "</table>\n",
       "<p>5 rows × 3697 columns</p>\n",
       "</div>"
      ],
      "text/plain": [
       "                                              SMILES CASRN EXTERNALID  N NAME  \\\n",
       "0              [Cl].CC(C)NCC(O)COC1=C2C=CC=CC2=CC=C1     -          -  -    -   \n",
       "1          CC(C)(C)OC(=O)CCCC1=CC=C(C=C1)N(CCCl)CCCl     -          -  -    -   \n",
       "2  CC1COC2=C(N3CCN(C)CC3)C(F)=CC3=C2N1C=C(C(O)=O)...     -          -  -    -   \n",
       "3                  CC(=O)NCCCOC1=CC(CN2CCCCC2)=CC=C1     -          -  -    -   \n",
       "4  CC1=C(C(=O)N[C@H]2[C@H]3SC(C)(C)[C@@H](N3C2=O)...     -          -  -    -   \n",
       "\n",
       "  NAME.1 ARTICLEID PUBMEDID PAGE TABLE  ... Psychotic-80  Psychotic-50  \\\n",
       "0      -         -        -    -     -  ...          0.0           0.0   \n",
       "1      -         -        -    -     -  ...          1.0           0.0   \n",
       "2      -         -        -    -     -  ...          0.0           0.0   \n",
       "3      -         -        -    -     -  ...          0.0           0.0   \n",
       "4      -         -        -    -     -  ...          1.0           0.0   \n",
       "\n",
       "   Hypertens-80  Hypertens-50  Hypnotic-80  Hypnotic-50  Neoplastic-80  \\\n",
       "0           1.0           0.0          1.0          0.0            1.0   \n",
       "1           0.0           0.0          0.0          0.0            0.0   \n",
       "2           1.0           1.0          0.0          0.0            1.0   \n",
       "3           1.0           1.0          0.0          0.0            1.0   \n",
       "4           1.0           0.0          0.0          0.0            1.0   \n",
       "\n",
       "   Neoplastic-50  Infective-80  Infective-50  \n",
       "0            1.0           1.0           1.0  \n",
       "1            0.0           1.0           0.0  \n",
       "2            1.0           1.0           0.0  \n",
       "3            1.0           1.0           0.0  \n",
       "4            0.0           1.0           0.0  \n",
       "\n",
       "[5 rows x 3697 columns]"
      ]
     },
     "execution_count": 6,
     "metadata": {},
     "output_type": "execute_result"
    }
   ],
   "source": [
    "data1 = pd.read_csv('desc.csv')\n",
    "# Display top of dataframe\n",
    "data1.head()"
   ]
  },
  {
   "cell_type": "code",
   "execution_count": 7,
   "metadata": {},
   "outputs": [
    {
     "data": {
      "text/html": [
       "<div>\n",
       "<style scoped>\n",
       "    .dataframe tbody tr th:only-of-type {\n",
       "        vertical-align: middle;\n",
       "    }\n",
       "\n",
       "    .dataframe tbody tr th {\n",
       "        vertical-align: top;\n",
       "    }\n",
       "\n",
       "    .dataframe thead th {\n",
       "        text-align: right;\n",
       "    }\n",
       "</style>\n",
       "<table border=\"1\" class=\"dataframe\">\n",
       "  <thead>\n",
       "    <tr style=\"text-align: right;\">\n",
       "      <th></th>\n",
       "      <th>MW</th>\n",
       "      <th>AMW</th>\n",
       "      <th>Sv</th>\n",
       "      <th>Se</th>\n",
       "      <th>Sp</th>\n",
       "      <th>Si</th>\n",
       "      <th>Mv</th>\n",
       "      <th>Me</th>\n",
       "      <th>Mp</th>\n",
       "      <th>Mi</th>\n",
       "      <th>...</th>\n",
       "      <th>Psychotic-80</th>\n",
       "      <th>Psychotic-50</th>\n",
       "      <th>Hypertens-80</th>\n",
       "      <th>Hypertens-50</th>\n",
       "      <th>Hypnotic-80</th>\n",
       "      <th>Hypnotic-50</th>\n",
       "      <th>Neoplastic-80</th>\n",
       "      <th>Neoplastic-50</th>\n",
       "      <th>Infective-80</th>\n",
       "      <th>Infective-50</th>\n",
       "    </tr>\n",
       "  </thead>\n",
       "  <tbody>\n",
       "    <tr>\n",
       "      <th>0</th>\n",
       "      <td>259.4</td>\n",
       "      <td>6.484</td>\n",
       "      <td>23.72</td>\n",
       "      <td>39.59</td>\n",
       "      <td>25.53</td>\n",
       "      <td>45.07</td>\n",
       "      <td>0.593</td>\n",
       "      <td>0.990</td>\n",
       "      <td>0.638</td>\n",
       "      <td>1.127</td>\n",
       "      <td>...</td>\n",
       "      <td>0.0</td>\n",
       "      <td>0.0</td>\n",
       "      <td>1.0</td>\n",
       "      <td>0.0</td>\n",
       "      <td>1.0</td>\n",
       "      <td>0.0</td>\n",
       "      <td>1.0</td>\n",
       "      <td>1.0</td>\n",
       "      <td>1.0</td>\n",
       "      <td>1.0</td>\n",
       "    </tr>\n",
       "    <tr>\n",
       "      <th>1</th>\n",
       "      <td>360.4</td>\n",
       "      <td>7.207</td>\n",
       "      <td>29.48</td>\n",
       "      <td>49.77</td>\n",
       "      <td>32.29</td>\n",
       "      <td>56.62</td>\n",
       "      <td>0.590</td>\n",
       "      <td>0.995</td>\n",
       "      <td>0.646</td>\n",
       "      <td>1.132</td>\n",
       "      <td>...</td>\n",
       "      <td>1.0</td>\n",
       "      <td>0.0</td>\n",
       "      <td>0.0</td>\n",
       "      <td>0.0</td>\n",
       "      <td>0.0</td>\n",
       "      <td>0.0</td>\n",
       "      <td>0.0</td>\n",
       "      <td>0.0</td>\n",
       "      <td>1.0</td>\n",
       "      <td>0.0</td>\n",
       "    </tr>\n",
       "    <tr>\n",
       "      <th>2</th>\n",
       "      <td>361.4</td>\n",
       "      <td>7.857</td>\n",
       "      <td>29.05</td>\n",
       "      <td>47.08</td>\n",
       "      <td>29.62</td>\n",
       "      <td>52.41</td>\n",
       "      <td>0.631</td>\n",
       "      <td>1.023</td>\n",
       "      <td>0.644</td>\n",
       "      <td>1.139</td>\n",
       "      <td>...</td>\n",
       "      <td>0.0</td>\n",
       "      <td>0.0</td>\n",
       "      <td>1.0</td>\n",
       "      <td>1.0</td>\n",
       "      <td>0.0</td>\n",
       "      <td>0.0</td>\n",
       "      <td>1.0</td>\n",
       "      <td>1.0</td>\n",
       "      <td>1.0</td>\n",
       "      <td>0.0</td>\n",
       "    </tr>\n",
       "    <tr>\n",
       "      <th>3</th>\n",
       "      <td>290.5</td>\n",
       "      <td>6.180</td>\n",
       "      <td>26.79</td>\n",
       "      <td>46.46</td>\n",
       "      <td>29.06</td>\n",
       "      <td>53.40</td>\n",
       "      <td>0.570</td>\n",
       "      <td>0.989</td>\n",
       "      <td>0.618</td>\n",
       "      <td>1.136</td>\n",
       "      <td>...</td>\n",
       "      <td>0.0</td>\n",
       "      <td>0.0</td>\n",
       "      <td>1.0</td>\n",
       "      <td>1.0</td>\n",
       "      <td>0.0</td>\n",
       "      <td>0.0</td>\n",
       "      <td>1.0</td>\n",
       "      <td>1.0</td>\n",
       "      <td>1.0</td>\n",
       "      <td>0.0</td>\n",
       "    </tr>\n",
       "    <tr>\n",
       "      <th>4</th>\n",
       "      <td>435.9</td>\n",
       "      <td>9.275</td>\n",
       "      <td>31.87</td>\n",
       "      <td>48.41</td>\n",
       "      <td>32.89</td>\n",
       "      <td>52.73</td>\n",
       "      <td>0.678</td>\n",
       "      <td>1.030</td>\n",
       "      <td>0.700</td>\n",
       "      <td>1.122</td>\n",
       "      <td>...</td>\n",
       "      <td>1.0</td>\n",
       "      <td>0.0</td>\n",
       "      <td>1.0</td>\n",
       "      <td>0.0</td>\n",
       "      <td>0.0</td>\n",
       "      <td>0.0</td>\n",
       "      <td>1.0</td>\n",
       "      <td>0.0</td>\n",
       "      <td>1.0</td>\n",
       "      <td>0.0</td>\n",
       "    </tr>\n",
       "    <tr>\n",
       "      <th>...</th>\n",
       "      <td>...</td>\n",
       "      <td>...</td>\n",
       "      <td>...</td>\n",
       "      <td>...</td>\n",
       "      <td>...</td>\n",
       "      <td>...</td>\n",
       "      <td>...</td>\n",
       "      <td>...</td>\n",
       "      <td>...</td>\n",
       "      <td>...</td>\n",
       "      <td>...</td>\n",
       "      <td>...</td>\n",
       "      <td>...</td>\n",
       "      <td>...</td>\n",
       "      <td>...</td>\n",
       "      <td>...</td>\n",
       "      <td>...</td>\n",
       "      <td>...</td>\n",
       "      <td>...</td>\n",
       "      <td>...</td>\n",
       "      <td>...</td>\n",
       "    </tr>\n",
       "    <tr>\n",
       "      <th>1987</th>\n",
       "      <td>276.0</td>\n",
       "      <td>13.800</td>\n",
       "      <td>16.10</td>\n",
       "      <td>22.15</td>\n",
       "      <td>15.31</td>\n",
       "      <td>22.64</td>\n",
       "      <td>0.805</td>\n",
       "      <td>1.107</td>\n",
       "      <td>0.766</td>\n",
       "      <td>1.132</td>\n",
       "      <td>...</td>\n",
       "      <td>0.0</td>\n",
       "      <td>0.0</td>\n",
       "      <td>0.0</td>\n",
       "      <td>0.0</td>\n",
       "      <td>1.0</td>\n",
       "      <td>0.0</td>\n",
       "      <td>0.0</td>\n",
       "      <td>0.0</td>\n",
       "      <td>1.0</td>\n",
       "      <td>0.0</td>\n",
       "    </tr>\n",
       "    <tr>\n",
       "      <th>1988</th>\n",
       "      <td>399.5</td>\n",
       "      <td>7.990</td>\n",
       "      <td>30.37</td>\n",
       "      <td>51.33</td>\n",
       "      <td>31.43</td>\n",
       "      <td>57.49</td>\n",
       "      <td>0.607</td>\n",
       "      <td>1.027</td>\n",
       "      <td>0.629</td>\n",
       "      <td>1.150</td>\n",
       "      <td>...</td>\n",
       "      <td>0.0</td>\n",
       "      <td>0.0</td>\n",
       "      <td>0.0</td>\n",
       "      <td>0.0</td>\n",
       "      <td>0.0</td>\n",
       "      <td>0.0</td>\n",
       "      <td>0.0</td>\n",
       "      <td>0.0</td>\n",
       "      <td>0.0</td>\n",
       "      <td>0.0</td>\n",
       "    </tr>\n",
       "    <tr>\n",
       "      <th>1989</th>\n",
       "      <td>323.4</td>\n",
       "      <td>7.521</td>\n",
       "      <td>27.47</td>\n",
       "      <td>43.19</td>\n",
       "      <td>28.64</td>\n",
       "      <td>48.53</td>\n",
       "      <td>0.639</td>\n",
       "      <td>1.004</td>\n",
       "      <td>0.666</td>\n",
       "      <td>1.129</td>\n",
       "      <td>...</td>\n",
       "      <td>1.0</td>\n",
       "      <td>0.0</td>\n",
       "      <td>1.0</td>\n",
       "      <td>0.0</td>\n",
       "      <td>1.0</td>\n",
       "      <td>0.0</td>\n",
       "      <td>1.0</td>\n",
       "      <td>0.0</td>\n",
       "      <td>1.0</td>\n",
       "      <td>0.0</td>\n",
       "    </tr>\n",
       "    <tr>\n",
       "      <th>1990</th>\n",
       "      <td>382.5</td>\n",
       "      <td>7.083</td>\n",
       "      <td>33.22</td>\n",
       "      <td>54.12</td>\n",
       "      <td>34.97</td>\n",
       "      <td>60.82</td>\n",
       "      <td>0.615</td>\n",
       "      <td>1.002</td>\n",
       "      <td>0.648</td>\n",
       "      <td>1.126</td>\n",
       "      <td>...</td>\n",
       "      <td>0.0</td>\n",
       "      <td>0.0</td>\n",
       "      <td>0.0</td>\n",
       "      <td>0.0</td>\n",
       "      <td>0.0</td>\n",
       "      <td>0.0</td>\n",
       "      <td>0.0</td>\n",
       "      <td>0.0</td>\n",
       "      <td>0.0</td>\n",
       "      <td>0.0</td>\n",
       "    </tr>\n",
       "    <tr>\n",
       "      <th>1991</th>\n",
       "      <td>295.3</td>\n",
       "      <td>8.685</td>\n",
       "      <td>21.79</td>\n",
       "      <td>35.68</td>\n",
       "      <td>21.35</td>\n",
       "      <td>39.20</td>\n",
       "      <td>0.641</td>\n",
       "      <td>1.049</td>\n",
       "      <td>0.628</td>\n",
       "      <td>1.153</td>\n",
       "      <td>...</td>\n",
       "      <td>0.0</td>\n",
       "      <td>0.0</td>\n",
       "      <td>0.0</td>\n",
       "      <td>0.0</td>\n",
       "      <td>0.0</td>\n",
       "      <td>0.0</td>\n",
       "      <td>0.0</td>\n",
       "      <td>0.0</td>\n",
       "      <td>0.0</td>\n",
       "      <td>0.0</td>\n",
       "    </tr>\n",
       "  </tbody>\n",
       "</table>\n",
       "<p>1992 rows × 3686 columns</p>\n",
       "</div>"
      ],
      "text/plain": [
       "         MW     AMW     Sv     Se     Sp     Si     Mv     Me     Mp     Mi  \\\n",
       "0     259.4   6.484  23.72  39.59  25.53  45.07  0.593  0.990  0.638  1.127   \n",
       "1     360.4   7.207  29.48  49.77  32.29  56.62  0.590  0.995  0.646  1.132   \n",
       "2     361.4   7.857  29.05  47.08  29.62  52.41  0.631  1.023  0.644  1.139   \n",
       "3     290.5   6.180  26.79  46.46  29.06  53.40  0.570  0.989  0.618  1.136   \n",
       "4     435.9   9.275  31.87  48.41  32.89  52.73  0.678  1.030  0.700  1.122   \n",
       "...     ...     ...    ...    ...    ...    ...    ...    ...    ...    ...   \n",
       "1987  276.0  13.800  16.10  22.15  15.31  22.64  0.805  1.107  0.766  1.132   \n",
       "1988  399.5   7.990  30.37  51.33  31.43  57.49  0.607  1.027  0.629  1.150   \n",
       "1989  323.4   7.521  27.47  43.19  28.64  48.53  0.639  1.004  0.666  1.129   \n",
       "1990  382.5   7.083  33.22  54.12  34.97  60.82  0.615  1.002  0.648  1.126   \n",
       "1991  295.3   8.685  21.79  35.68  21.35  39.20  0.641  1.049  0.628  1.153   \n",
       "\n",
       "      ...  Psychotic-80  Psychotic-50  Hypertens-80  Hypertens-50  \\\n",
       "0     ...           0.0           0.0           1.0           0.0   \n",
       "1     ...           1.0           0.0           0.0           0.0   \n",
       "2     ...           0.0           0.0           1.0           1.0   \n",
       "3     ...           0.0           0.0           1.0           1.0   \n",
       "4     ...           1.0           0.0           1.0           0.0   \n",
       "...   ...           ...           ...           ...           ...   \n",
       "1987  ...           0.0           0.0           0.0           0.0   \n",
       "1988  ...           0.0           0.0           0.0           0.0   \n",
       "1989  ...           1.0           0.0           1.0           0.0   \n",
       "1990  ...           0.0           0.0           0.0           0.0   \n",
       "1991  ...           0.0           0.0           0.0           0.0   \n",
       "\n",
       "      Hypnotic-80  Hypnotic-50  Neoplastic-80  Neoplastic-50  Infective-80  \\\n",
       "0             1.0          0.0            1.0            1.0           1.0   \n",
       "1             0.0          0.0            0.0            0.0           1.0   \n",
       "2             0.0          0.0            1.0            1.0           1.0   \n",
       "3             0.0          0.0            1.0            1.0           1.0   \n",
       "4             0.0          0.0            1.0            0.0           1.0   \n",
       "...           ...          ...            ...            ...           ...   \n",
       "1987          1.0          0.0            0.0            0.0           1.0   \n",
       "1988          0.0          0.0            0.0            0.0           0.0   \n",
       "1989          1.0          0.0            1.0            0.0           1.0   \n",
       "1990          0.0          0.0            0.0            0.0           0.0   \n",
       "1991          0.0          0.0            0.0            0.0           0.0   \n",
       "\n",
       "      Infective-50  \n",
       "0              1.0  \n",
       "1              0.0  \n",
       "2              0.0  \n",
       "3              0.0  \n",
       "4              0.0  \n",
       "...            ...  \n",
       "1987           0.0  \n",
       "1988           0.0  \n",
       "1989           0.0  \n",
       "1990           0.0  \n",
       "1991           0.0  \n",
       "\n",
       "[1992 rows x 3686 columns]"
      ]
     },
     "execution_count": 7,
     "metadata": {},
     "output_type": "execute_result"
    }
   ],
   "source": [
    "X=data1.drop(columns =['SMILES','CASRN','EXTERNALID','N','NAME.1','ARTICLEID','PUBMEDID','PAGE','NAME','TABLE','ERROR'])\n",
    "X"
   ]
  },
  {
   "cell_type": "code",
   "execution_count": 8,
   "metadata": {},
   "outputs": [
    {
     "data": {
      "text/plain": [
       "0       1\n",
       "1       1\n",
       "2       1\n",
       "3       1\n",
       "4       1\n",
       "       ..\n",
       "1987    1\n",
       "1988    1\n",
       "1989    1\n",
       "1990    1\n",
       "1991    1\n",
       "Length: 1992, dtype: int8"
      ]
     },
     "execution_count": 8,
     "metadata": {},
     "output_type": "execute_result"
    }
   ],
   "source": [
    "y = data['p_np_class'].astype('category').cat.codes\n",
    "y"
   ]
  },
  {
   "cell_type": "code",
   "execution_count": 9,
   "metadata": {},
   "outputs": [],
   "source": [
    "def getFeature(mask):\n",
    "    new_features = [] # The list of your K best features\n",
    "\n",
    "    for bool, feature in zip(mask, X.columns):\n",
    "        if bool:\n",
    "            new_features.append(feature)\n",
    "            \n",
    "    return new_features"
   ]
  },
  {
   "cell_type": "code",
   "execution_count": 10,
   "metadata": {},
   "outputs": [],
   "source": [
    "def myModel(myX,myY,X_test):\n",
    "    # instantiate the model (using the default parameters)\n",
    "    logreg = LogisticRegression()\n",
    "\n",
    "    # fit the model with data\n",
    "    logreg.fit(myX,myY)\n",
    "\n",
    "    # get predict\n",
    "    y_pred=logreg.predict(X_test)\n",
    "    \n",
    "    return y_pred\n",
    "   "
   ]
  },
  {
   "cell_type": "markdown",
   "metadata": {},
   "source": [
    "### 1. Chi-square"
   ]
  },
  {
   "cell_type": "code",
   "execution_count": 11,
   "metadata": {},
   "outputs": [
    {
     "data": {
      "text/plain": [
       "['B04[O-S]', 'B05[O-S]', 'B08[N-O]', 'B08[O-O]', 'B09[N-O]', 'Ro5']"
      ]
     },
     "execution_count": 11,
     "metadata": {},
     "output_type": "execute_result"
    }
   ],
   "source": [
    "from sklearn.feature_selection import chi2\n",
    "from sklearn.preprocessing import MinMaxScaler\n",
    "from sklearn.feature_selection import SelectKBest\n",
    "X_norm = MinMaxScaler().fit_transform(X)\n",
    "chi_selector = SelectKBest(chi2, k=6)\n",
    "chi_selector.fit(X_norm, y)\n",
    "chi_features = getFeature(chi_selector.get_support())\n",
    "chi_features"
   ]
  },
  {
   "cell_type": "code",
   "execution_count": 12,
   "metadata": {},
   "outputs": [
    {
     "data": {
      "text/html": [
       "<div>\n",
       "<style scoped>\n",
       "    .dataframe tbody tr th:only-of-type {\n",
       "        vertical-align: middle;\n",
       "    }\n",
       "\n",
       "    .dataframe tbody tr th {\n",
       "        vertical-align: top;\n",
       "    }\n",
       "\n",
       "    .dataframe thead th {\n",
       "        text-align: right;\n",
       "    }\n",
       "</style>\n",
       "<table border=\"1\" class=\"dataframe\">\n",
       "  <thead>\n",
       "    <tr style=\"text-align: right;\">\n",
       "      <th></th>\n",
       "      <th>B04[O-S]</th>\n",
       "      <th>B05[O-S]</th>\n",
       "      <th>B08[N-O]</th>\n",
       "      <th>B08[O-O]</th>\n",
       "      <th>B09[N-O]</th>\n",
       "      <th>Ro5</th>\n",
       "    </tr>\n",
       "  </thead>\n",
       "  <tbody>\n",
       "    <tr>\n",
       "      <th>0</th>\n",
       "      <td>0.0</td>\n",
       "      <td>0.0</td>\n",
       "      <td>0.0</td>\n",
       "      <td>0.0</td>\n",
       "      <td>0.0</td>\n",
       "      <td>0.0</td>\n",
       "    </tr>\n",
       "    <tr>\n",
       "      <th>1</th>\n",
       "      <td>0.0</td>\n",
       "      <td>0.0</td>\n",
       "      <td>0.0</td>\n",
       "      <td>0.0</td>\n",
       "      <td>1.0</td>\n",
       "      <td>0.0</td>\n",
       "    </tr>\n",
       "    <tr>\n",
       "      <th>2</th>\n",
       "      <td>0.0</td>\n",
       "      <td>0.0</td>\n",
       "      <td>1.0</td>\n",
       "      <td>0.0</td>\n",
       "      <td>1.0</td>\n",
       "      <td>0.0</td>\n",
       "    </tr>\n",
       "    <tr>\n",
       "      <th>3</th>\n",
       "      <td>0.0</td>\n",
       "      <td>0.0</td>\n",
       "      <td>0.0</td>\n",
       "      <td>0.0</td>\n",
       "      <td>0.0</td>\n",
       "      <td>0.0</td>\n",
       "    </tr>\n",
       "    <tr>\n",
       "      <th>4</th>\n",
       "      <td>1.0</td>\n",
       "      <td>1.0</td>\n",
       "      <td>0.0</td>\n",
       "      <td>1.0</td>\n",
       "      <td>0.0</td>\n",
       "      <td>0.0</td>\n",
       "    </tr>\n",
       "    <tr>\n",
       "      <th>...</th>\n",
       "      <td>...</td>\n",
       "      <td>...</td>\n",
       "      <td>...</td>\n",
       "      <td>...</td>\n",
       "      <td>...</td>\n",
       "      <td>...</td>\n",
       "    </tr>\n",
       "    <tr>\n",
       "      <th>1987</th>\n",
       "      <td>0.0</td>\n",
       "      <td>0.0</td>\n",
       "      <td>0.0</td>\n",
       "      <td>0.0</td>\n",
       "      <td>0.0</td>\n",
       "      <td>0.0</td>\n",
       "    </tr>\n",
       "    <tr>\n",
       "      <th>1988</th>\n",
       "      <td>1.0</td>\n",
       "      <td>1.0</td>\n",
       "      <td>1.0</td>\n",
       "      <td>1.0</td>\n",
       "      <td>1.0</td>\n",
       "      <td>1.0</td>\n",
       "    </tr>\n",
       "    <tr>\n",
       "      <th>1989</th>\n",
       "      <td>0.0</td>\n",
       "      <td>0.0</td>\n",
       "      <td>0.0</td>\n",
       "      <td>0.0</td>\n",
       "      <td>0.0</td>\n",
       "      <td>0.0</td>\n",
       "    </tr>\n",
       "    <tr>\n",
       "      <th>1990</th>\n",
       "      <td>0.0</td>\n",
       "      <td>0.0</td>\n",
       "      <td>0.0</td>\n",
       "      <td>1.0</td>\n",
       "      <td>0.0</td>\n",
       "      <td>0.0</td>\n",
       "    </tr>\n",
       "    <tr>\n",
       "      <th>1991</th>\n",
       "      <td>0.0</td>\n",
       "      <td>0.0</td>\n",
       "      <td>1.0</td>\n",
       "      <td>0.0</td>\n",
       "      <td>1.0</td>\n",
       "      <td>0.0</td>\n",
       "    </tr>\n",
       "  </tbody>\n",
       "</table>\n",
       "<p>1992 rows × 6 columns</p>\n",
       "</div>"
      ],
      "text/plain": [
       "      B04[O-S]  B05[O-S]  B08[N-O]  B08[O-O]  B09[N-O]  Ro5\n",
       "0          0.0       0.0       0.0       0.0       0.0  0.0\n",
       "1          0.0       0.0       0.0       0.0       1.0  0.0\n",
       "2          0.0       0.0       1.0       0.0       1.0  0.0\n",
       "3          0.0       0.0       0.0       0.0       0.0  0.0\n",
       "4          1.0       1.0       0.0       1.0       0.0  0.0\n",
       "...        ...       ...       ...       ...       ...  ...\n",
       "1987       0.0       0.0       0.0       0.0       0.0  0.0\n",
       "1988       1.0       1.0       1.0       1.0       1.0  1.0\n",
       "1989       0.0       0.0       0.0       0.0       0.0  0.0\n",
       "1990       0.0       0.0       0.0       1.0       0.0  0.0\n",
       "1991       0.0       0.0       1.0       0.0       1.0  0.0\n",
       "\n",
       "[1992 rows x 6 columns]"
      ]
     },
     "execution_count": 12,
     "metadata": {},
     "output_type": "execute_result"
    }
   ],
   "source": [
    "X_chi = X[chi_features]\n",
    "X_chi"
   ]
  },
  {
   "cell_type": "code",
   "execution_count": 13,
   "metadata": {},
   "outputs": [],
   "source": [
    "from sklearn.model_selection import train_test_split\n",
    "# import the class\n",
    "from sklearn.linear_model import LogisticRegression"
   ]
  },
  {
   "cell_type": "code",
   "execution_count": 14,
   "metadata": {},
   "outputs": [
    {
     "name": "stdout",
     "output_type": "stream",
     "text": [
      "Accuracy: 0.8313253012048193\n",
      "Precision: 0.8595641646489104\n",
      "Recall: 0.931758530183727\n"
     ]
    }
   ],
   "source": [
    "X_train,X_test,y_train,y_test=train_test_split(X_chi,y,test_size=0.25,random_state=0)\n",
    "y_pred = myModel(X_train,y_train,X_test)\n",
    "chi_acc = metrics.accuracy_score(y_test, y_pred)\n",
    "print(\"Accuracy:\",metrics.accuracy_score(y_test, y_pred))\n",
    "print(\"Precision:\",metrics.precision_score(y_test, y_pred))\n",
    "print(\"Recall:\",metrics.recall_score(y_test, y_pred))"
   ]
  },
  {
   "cell_type": "markdown",
   "metadata": {},
   "source": [
    "### 2. Mutual Information"
   ]
  },
  {
   "cell_type": "code",
   "execution_count": 15,
   "metadata": {},
   "outputs": [
    {
     "data": {
      "text/plain": [
       "['P_VSA_m_3', 'P_VSA_v_2', 'P_VSA_p_2', 'P_VSA_ppp_A', 'TPSA(NO)', 'TPSA(Tot)']"
      ]
     },
     "execution_count": 15,
     "metadata": {},
     "output_type": "execute_result"
    }
   ],
   "source": [
    "from sklearn.feature_selection import mutual_info_classif\n",
    "mi_selector = SelectKBest(mutual_info_classif, k=6)\n",
    "mi_selector.fit(X, y)\n",
    "mi_feature = getFeature(mi_selector.get_support())\n",
    "mi_feature"
   ]
  },
  {
   "cell_type": "code",
   "execution_count": 16,
   "metadata": {},
   "outputs": [
    {
     "name": "stdout",
     "output_type": "stream",
     "text": [
      "Accuracy: 0.8293172690763052\n",
      "Precision: 0.854066985645933\n",
      "Recall: 0.937007874015748\n"
     ]
    }
   ],
   "source": [
    "X_mi = X[mi_feature]\n",
    "X_train,X_test,y_train,y_test=train_test_split(X_mi,y,test_size=0.25,random_state=0)\n",
    "y_pred = myModel(X_train,y_train,X_test)\n",
    "mi_acc = metrics.accuracy_score(y_test, y_pred)\n",
    "print(\"Accuracy:\",metrics.accuracy_score(y_test, y_pred))\n",
    "print(\"Precision:\",metrics.precision_score(y_test, y_pred))\n",
    "print(\"Recall:\",metrics.recall_score(y_test, y_pred))"
   ]
  },
  {
   "cell_type": "markdown",
   "metadata": {},
   "source": [
    "### 3. Anova F-value"
   ]
  },
  {
   "cell_type": "code",
   "execution_count": 17,
   "metadata": {},
   "outputs": [
    {
     "name": "stderr",
     "output_type": "stream",
     "text": [
      "C:\\Users\\User\\anaconda3\\lib\\site-packages\\sklearn\\feature_selection\\_univariate_selection.py:114: UserWarning: Features [  45  376 1627 ... 3635 3636 3637] are constant.\n",
      "  warnings.warn(\"Features %s are constant.\" % constant_features_idx,\n",
      "C:\\Users\\User\\anaconda3\\lib\\site-packages\\sklearn\\feature_selection\\_univariate_selection.py:116: RuntimeWarning: invalid value encountered in true_divide\n",
      "  f = msb / msw\n"
     ]
    },
    {
     "data": {
      "text/plain": [
       "['P_VSA_v_2', 'P_VSA_p_2', 'P_VSA_ppp_A', 'TPSA(NO)', 'TPSA(Tot)', 'SAacc']"
      ]
     },
     "execution_count": 17,
     "metadata": {},
     "output_type": "execute_result"
    }
   ],
   "source": [
    "#3 Anova F-value\n",
    "from sklearn.feature_selection import f_classif\n",
    "anov_selector = SelectKBest(f_classif, k=6)\n",
    "anov_selector.fit(X, y)\n",
    "anova_feature = getFeature(anov_selector.get_support())\n",
    "anova_feature"
   ]
  },
  {
   "cell_type": "code",
   "execution_count": 18,
   "metadata": {},
   "outputs": [
    {
     "name": "stdout",
     "output_type": "stream",
     "text": [
      "Accuracy: 0.8393574297188755\n",
      "Precision: 0.864406779661017\n",
      "Recall: 0.937007874015748\n"
     ]
    }
   ],
   "source": [
    "X_anova = X[anova_feature]\n",
    "X_train,X_test,y_train,y_test=train_test_split(X_anova,y,test_size=0.25,random_state=0)\n",
    "y_pred = myModel(X_train,y_train,X_test)\n",
    "anova_acc = metrics.accuracy_score(y_test, y_pred)\n",
    "print(\"Accuracy:\",metrics.accuracy_score(y_test, y_pred))\n",
    "print(\"Precision:\",metrics.precision_score(y_test, y_pred))\n",
    "print(\"Recall:\",metrics.recall_score(y_test, y_pred))"
   ]
  },
  {
   "cell_type": "markdown",
   "metadata": {},
   "source": [
    "### 4. Variance Threshold"
   ]
  },
  {
   "cell_type": "code",
   "execution_count": 19,
   "metadata": {},
   "outputs": [
    {
     "data": {
      "text/plain": [
       "952"
      ]
     },
     "execution_count": 19,
     "metadata": {},
     "output_type": "execute_result"
    }
   ],
   "source": [
    "#4 Variance Threshold\n",
    "from sklearn.feature_selection import VarianceThreshold\n",
    "var_selector = VarianceThreshold(threshold=1)\n",
    "var_selector.fit_transform(X)\n",
    "var_feature = getFeature(var_selector.get_support())\n",
    "len(var_feature)"
   ]
  },
  {
   "cell_type": "code",
   "execution_count": 20,
   "metadata": {},
   "outputs": [
    {
     "name": "stdout",
     "output_type": "stream",
     "text": [
      "Accuracy: 0.8273092369477911\n",
      "Precision: 0.8454332552693209\n",
      "Recall: 0.94750656167979\n"
     ]
    },
    {
     "name": "stderr",
     "output_type": "stream",
     "text": [
      "C:\\Users\\User\\anaconda3\\lib\\site-packages\\sklearn\\linear_model\\_logistic.py:762: ConvergenceWarning: lbfgs failed to converge (status=1):\n",
      "STOP: TOTAL NO. of ITERATIONS REACHED LIMIT.\n",
      "\n",
      "Increase the number of iterations (max_iter) or scale the data as shown in:\n",
      "    https://scikit-learn.org/stable/modules/preprocessing.html\n",
      "Please also refer to the documentation for alternative solver options:\n",
      "    https://scikit-learn.org/stable/modules/linear_model.html#logistic-regression\n",
      "  n_iter_i = _check_optimize_result(\n"
     ]
    }
   ],
   "source": [
    "X_thresh = X[var_feature]\n",
    "X_train,X_test,y_train,y_test=train_test_split(X_thresh,y,test_size=0.25,random_state=0)\n",
    "y_pred = myModel(X_train,y_train,X_test)\n",
    "thresh_acc = metrics.accuracy_score(y_test, y_pred)\n",
    "print(\"Accuracy:\",metrics.accuracy_score(y_test, y_pred))\n",
    "print(\"Precision:\",metrics.precision_score(y_test, y_pred))\n",
    "print(\"Recall:\",metrics.recall_score(y_test, y_pred))"
   ]
  },
  {
   "cell_type": "markdown",
   "metadata": {},
   "source": [
    "### 5. Fisher Score"
   ]
  },
  {
   "cell_type": "code",
   "execution_count": 21,
   "metadata": {},
   "outputs": [
    {
     "data": {
      "text/plain": [
       "Index(['nCsp3', 'B05[Cl-B]', 'nCsp2', 'B05[I-Si]', 'nX', 'B05[P-F]'], dtype='object')"
      ]
     },
     "execution_count": 21,
     "metadata": {},
     "output_type": "execute_result"
    }
   ],
   "source": [
    "#5. Fisher Score\n",
    "from skfeature.function.similarity_based import fisher_score\n",
    "score = fisher_score.fisher_score(X.to_numpy(), y.to_numpy())\n",
    "X.columns[score[:6]]"
   ]
  },
  {
   "cell_type": "code",
   "execution_count": 22,
   "metadata": {},
   "outputs": [
    {
     "name": "stdout",
     "output_type": "stream",
     "text": [
      "Accuracy: 0.7811244979919679\n",
      "Precision: 0.779835390946502\n",
      "Recall: 0.994750656167979\n"
     ]
    }
   ],
   "source": [
    "X_fisher = X[X.columns[score[:6]]]\n",
    "X_train,X_test,y_train,y_test=train_test_split(X_fisher,y,test_size=0.25,random_state=0)\n",
    "y_pred = myModel(X_train,y_train,X_test)\n",
    "fisher_acc = metrics.accuracy_score(y_test, y_pred)\n",
    "print(\"Accuracy:\",metrics.accuracy_score(y_test, y_pred))\n",
    "print(\"Precision:\",metrics.precision_score(y_test, y_pred))\n",
    "print(\"Recall:\",metrics.recall_score(y_test, y_pred))"
   ]
  },
  {
   "cell_type": "markdown",
   "metadata": {},
   "source": [
    "### 6. MultiSURF"
   ]
  },
  {
   "cell_type": "code",
   "execution_count": 23,
   "metadata": {},
   "outputs": [
    {
     "data": {
      "text/plain": [
       "MultiSURF(n_features_to_select=Index(['MW', 'AMW', 'Sv', 'Se', 'Sp', 'Si', 'Mv', 'Me', 'Mp', 'Mi',\n",
       "       ...\n",
       "       'Psychotic-80', 'Psychotic-50', 'Hypertens-80', 'Hypertens-50',\n",
       "       'Hypnotic-80', 'Hypnotic-50', 'Neoplastic-80', 'Neoplastic-50',\n",
       "       'Infective-80', 'Infective-50'],\n",
       "      dtype='object', length=3686),\n",
       "          n_jobs=-1)"
      ]
     },
     "execution_count": 23,
     "metadata": {},
     "output_type": "execute_result"
    }
   ],
   "source": [
    "#6. MultiSURF\n",
    "from skrebate import MultiSURF\n",
    "fs = MultiSURF(n_jobs=-1, n_features_to_select=X.columns)\n",
    "fs.fit(X.values, y.values)\n",
    "fs"
   ]
  },
  {
   "cell_type": "code",
   "execution_count": 24,
   "metadata": {},
   "outputs": [
    {
     "name": "stdout",
     "output_type": "stream",
     "text": [
      "Accuracy: 0.8232931726907631\n",
      "Precision: 0.8447058823529412\n",
      "Recall: 0.9422572178477691\n"
     ]
    },
    {
     "name": "stderr",
     "output_type": "stream",
     "text": [
      "C:\\Users\\User\\anaconda3\\lib\\site-packages\\sklearn\\linear_model\\_logistic.py:762: ConvergenceWarning: lbfgs failed to converge (status=1):\n",
      "STOP: TOTAL NO. of ITERATIONS REACHED LIMIT.\n",
      "\n",
      "Increase the number of iterations (max_iter) or scale the data as shown in:\n",
      "    https://scikit-learn.org/stable/modules/preprocessing.html\n",
      "Please also refer to the documentation for alternative solver options:\n",
      "    https://scikit-learn.org/stable/modules/linear_model.html#logistic-regression\n",
      "  n_iter_i = _check_optimize_result(\n"
     ]
    }
   ],
   "source": [
    "X_multi = X[X.columns]\n",
    "X_train,X_test,y_train,y_test=train_test_split(X_multi,y,test_size=0.25,random_state=0)\n",
    "y_pred = myModel(X_train,y_train,X_test)\n",
    "multi_acc = metrics.accuracy_score(y_test, y_pred)\n",
    "print(\"Accuracy:\",metrics.accuracy_score(y_test, y_pred))\n",
    "print(\"Precision:\",metrics.precision_score(y_test, y_pred))\n",
    "print(\"Recall:\",metrics.recall_score(y_test, y_pred))"
   ]
  },
  {
   "cell_type": "markdown",
   "metadata": {},
   "source": [
    "### 7. Recursive Feature Elimination"
   ]
  },
  {
   "cell_type": "code",
   "execution_count": 21,
   "metadata": {},
   "outputs": [
    {
     "data": {
      "text/plain": [
       "['MAC3(IP)', 'MAC4(Ap)', 'MAC5(Mw)', 'MAC5(IP)', 'MAC5(Ap)', 'MAC7(At)']"
      ]
     },
     "execution_count": 21,
     "metadata": {},
     "output_type": "execute_result"
    }
   ],
   "source": [
    "from sklearn.feature_selection import RFE\n",
    "from sklearn.linear_model import LogisticRegression\n",
    "rfe_selector = RFE(estimator=LogisticRegression(), \n",
    "                   n_features_to_select=6, step=1, verbose=-1)\n",
    "rfe_selector.fit(X_norm, y)\n",
    "rfe_feature = getFeature(rfe_selector.get_support())\n",
    "rfe_feature"
   ]
  },
  {
   "cell_type": "code",
   "execution_count": 22,
   "metadata": {},
   "outputs": [
    {
     "name": "stdout",
     "output_type": "stream",
     "text": [
      "Accuracy: 0.92\n",
      "Precision: 0.8888888888888888\n",
      "Recall: 0.8888888888888888\n"
     ]
    }
   ],
   "source": [
    "X_rec = X[rfe_feature]\n",
    "X_train,X_test,y_train,y_test=train_test_split(X_rec,y,test_size=0.25,random_state=0)\n",
    "y_pred = myModel(X_train,y_train,X_test)\n",
    "rec_acc = metrics.accuracy_score(y_test, y_pred)\n",
    "print(\"Accuracy:\",metrics.accuracy_score(y_test, y_pred))\n",
    "print(\"Precision:\",metrics.precision_score(y_test, y_pred))\n",
    "print(\"Recall:\",metrics.recall_score(y_test, y_pred))"
   ]
  },
  {
   "cell_type": "markdown",
   "metadata": {},
   "source": [
    "### 8. Permutation Importance"
   ]
  },
  {
   "cell_type": "code",
   "execution_count": 23,
   "metadata": {},
   "outputs": [
    {
     "name": "stderr",
     "output_type": "stream",
     "text": [
      "C:\\Users\\User\\anaconda3\\lib\\site-packages\\sklearn\\utils\\validation.py:67: FutureWarning: Pass classifier=True as keyword args. From version 0.25 passing these as positional arguments will result in an error\n",
      "  warnings.warn(\"Pass {} as keyword args. From version 0.25 \"\n",
      "C:\\Users\\User\\anaconda3\\lib\\site-packages\\sklearn\\utils\\validation.py:67: FutureWarning: Pass classifier=True as keyword args. From version 0.25 passing these as positional arguments will result in an error\n",
      "  warnings.warn(\"Pass {} as keyword args. From version 0.25 \"\n"
     ]
    },
    {
     "data": {
      "text/plain": [
       "['MAC3(At)', 'MAC3(Ap)', 'MAC4(Ap)', 'MAC5(At)', 'MAC7(Mw)', 'MAC7(Vm)']"
      ]
     },
     "execution_count": 23,
     "metadata": {},
     "output_type": "execute_result"
    }
   ],
   "source": [
    "from eli5.sklearn import PermutationImportance\n",
    "from sklearn.feature_selection import SelectFromModel\n",
    "from sklearn.linear_model import LogisticRegression\n",
    "perm = PermutationImportance(LogisticRegression(solver='lbfgs', max_iter=10000), random_state=42, cv=10)\n",
    "perm.fit(X, y)\n",
    "perm_selector = SelectFromModel(perm,max_features=6).fit(X, y)\n",
    "perm_feature = getFeature(perm_selector.get_support())\n",
    "perm_feature"
   ]
  },
  {
   "cell_type": "code",
   "execution_count": 24,
   "metadata": {},
   "outputs": [
    {
     "name": "stdout",
     "output_type": "stream",
     "text": [
      "Accuracy: 0.84\n",
      "Precision: 0.8571428571428571\n",
      "Recall: 0.6666666666666666\n"
     ]
    }
   ],
   "source": [
    "X_perm = X[perm_feature]\n",
    "X_train,X_test,y_train,y_test=train_test_split(X_perm,y,test_size=0.25,random_state=0)\n",
    "y_pred = myModel(X_train,y_train,X_test)\n",
    "perm_acc = metrics.accuracy_score(y_test, y_pred)\n",
    "print(\"Accuracy:\",metrics.accuracy_score(y_test, y_pred))\n",
    "print(\"Precision:\",metrics.precision_score(y_test, y_pred))\n",
    "print(\"Recall:\",metrics.recall_score(y_test, y_pred))"
   ]
  },
  {
   "cell_type": "markdown",
   "metadata": {},
   "source": [
    "### 9. SHAP"
   ]
  },
  {
   "cell_type": "code",
   "execution_count": 25,
   "metadata": {},
   "outputs": [
    {
     "data": {
      "image/png": "[encoded data removed]",
      "text/plain": [
       "<Figure size 432x288 with 1 Axes>"
      ]
     },
     "metadata": {
      "needs_background": "light"
     },
     "output_type": "display_data"
    }
   ],
   "source": [
    "import shap\n",
    "import xgboost\n",
    "import matplotlib.pylab as pl\n",
    "model = xgboost.train({\"learning_rate\": 0.01}, xgboost.DMatrix(X, label=y), 100)\n",
    "explainer = shap.TreeExplainer(model)\n",
    "shap_values = explainer.shap_values(X)\n",
    "xgboost.plot_importance(model)\n",
    "pl.title(\"xgboost.plot_importance(model)\")\n",
    "pl.show()"
   ]
  },
  {
   "cell_type": "code",
   "execution_count": 26,
   "metadata": {},
   "outputs": [
    {
     "name": "stdout",
     "output_type": "stream",
     "text": [
      "Accuracy: 0.92\n",
      "Precision: 0.8888888888888888\n",
      "Recall: 0.8888888888888888\n"
     ]
    },
    {
     "name": "stderr",
     "output_type": "stream",
     "text": [
      "lbfgs failed to converge (status=1):\n",
      "STOP: TOTAL NO. of ITERATIONS REACHED LIMIT.\n",
      "\n",
      "Increase the number of iterations (max_iter) or scale the data as shown in:\n",
      "    https://scikit-learn.org/stable/modules/preprocessing.html\n",
      "Please also refer to the documentation for alternative solver options:\n",
      "    https://scikit-learn.org/stable/modules/linear_model.html#logistic-regression\n"
     ]
    }
   ],
   "source": [
    "X_shap = X[['MAC5(Mw)', 'MAC4(Ap)', 'MAC4(Z1)', 'MAC3(Z2)', 'MAC5(IP)', 'MAC1(IP)']]\n",
    "X_train,X_test,y_train,y_test=train_test_split(X_shap,y,test_size=0.25,random_state=0)\n",
    "y_pred = myModel(X_train,y_train,X_test)\n",
    "shap_acc = metrics.accuracy_score(y_test, y_pred)\n",
    "print(\"Accuracy:\",metrics.accuracy_score(y_test, y_pred))\n",
    "print(\"Precision:\",metrics.precision_score(y_test, y_pred))\n",
    "print(\"Recall:\",metrics.recall_score(y_test, y_pred))"
   ]
  },
  {
   "cell_type": "markdown",
   "metadata": {},
   "source": [
    "### 10. Boruta"
   ]
  },
  {
   "cell_type": "code",
   "execution_count": 27,
   "metadata": {},
   "outputs": [
    {
     "data": {
      "text/plain": [
       "BorutaPy(estimator=RandomForestClassifier(class_weight='balanced', max_depth=6,\n",
       "                                          n_estimators=145, n_jobs=-1,\n",
       "                                          random_state=RandomState(MT19937) at 0x224FD92B840),\n",
       "         n_estimators='auto',\n",
       "         random_state=RandomState(MT19937) at 0x224FD92B840)"
      ]
     },
     "execution_count": 27,
     "metadata": {},
     "output_type": "execute_result"
    }
   ],
   "source": [
    "from boruta import BorutaPy\n",
    "from sklearn.ensemble import RandomForestClassifier\n",
    "rf = RandomForestClassifier(n_jobs=-1, class_weight='balanced', max_depth=6)\n",
    "boru_selector = BorutaPy(rf, n_estimators='auto', verbose=0, random_state=1)\n",
    "boru_selector.fit(X.values, y.values)"
   ]
  },
  {
   "cell_type": "code",
   "execution_count": 28,
   "metadata": {},
   "outputs": [],
   "source": [
    "accept = X.columns[boru_selector.support_].to_list()\n",
    "#accept"
   ]
  },
  {
   "cell_type": "code",
   "execution_count": 29,
   "metadata": {},
   "outputs": [
    {
     "name": "stdout",
     "output_type": "stream",
     "text": [
      "Accuracy: 0.88\n",
      "Precision: 0.8\n",
      "Recall: 0.8888888888888888\n"
     ]
    },
    {
     "name": "stderr",
     "output_type": "stream",
     "text": [
      "lbfgs failed to converge (status=1):\n",
      "STOP: TOTAL NO. of ITERATIONS REACHED LIMIT.\n",
      "\n",
      "Increase the number of iterations (max_iter) or scale the data as shown in:\n",
      "    https://scikit-learn.org/stable/modules/preprocessing.html\n",
      "Please also refer to the documentation for alternative solver options:\n",
      "    https://scikit-learn.org/stable/modules/linear_model.html#logistic-regression\n"
     ]
    }
   ],
   "source": [
    "X_boruta = X[accept]\n",
    "X_train,X_test,y_train,y_test=train_test_split(X_boruta,y,test_size=0.25,random_state=0)\n",
    "y_pred = myModel(X_train,y_train,X_test)\n",
    "boruta_acc = metrics.accuracy_score(y_test, y_pred)\n",
    "print(\"Accuracy:\",metrics.accuracy_score(y_test, y_pred))\n",
    "print(\"Precision:\",metrics.precision_score(y_test, y_pred))\n",
    "print(\"Recall:\",metrics.recall_score(y_test, y_pred))"
   ]
  },
  {
   "cell_type": "markdown",
   "metadata": {},
   "source": [
    "### 11. Embedded Random Forest"
   ]
  },
  {
   "cell_type": "code",
   "execution_count": 30,
   "metadata": {},
   "outputs": [
    {
     "data": {
      "text/plain": [
       "['MAC3(Ap)', 'MAC4(Ap)', 'MAC5(Mw)', 'MAC5(At)', 'MAC6(Ap)', 'MAC7(At)']"
      ]
     },
     "execution_count": 30,
     "metadata": {},
     "output_type": "execute_result"
    }
   ],
   "source": [
    "from sklearn.feature_selection import SelectFromModel\n",
    "from sklearn.ensemble import RandomForestClassifier\n",
    "embeded_rf_selector = SelectFromModel(RandomForestClassifier(n_estimators=100, random_state=42), max_features=6)\n",
    "embeded_rf_selector.fit(X, y)\n",
    "embeded_rf_feature = getFeature(embeded_rf_selector.get_support())\n",
    "embeded_rf_feature"
   ]
  },
  {
   "cell_type": "code",
   "execution_count": 31,
   "metadata": {},
   "outputs": [
    {
     "name": "stdout",
     "output_type": "stream",
     "text": [
      "Accuracy: 0.8\n",
      "Precision: 0.75\n",
      "Recall: 0.6666666666666666\n"
     ]
    }
   ],
   "source": [
    "X_rf = X[embeded_rf_feature]\n",
    "X_train,X_test,y_train,y_test=train_test_split(X_rf,y,test_size=0.25,random_state=0)\n",
    "y_pred = myModel(X_train,y_train,X_test)\n",
    "rf_acc = metrics.accuracy_score(y_test, y_pred)\n",
    "print(\"Accuracy:\",metrics.accuracy_score(y_test, y_pred))\n",
    "print(\"Precision:\",metrics.precision_score(y_test, y_pred))\n",
    "print(\"Recall:\",metrics.recall_score(y_test, y_pred))"
   ]
  },
  {
   "cell_type": "markdown",
   "metadata": {},
   "source": [
    "### 12. Embedded LightGBM"
   ]
  },
  {
   "cell_type": "code",
   "execution_count": 32,
   "metadata": {},
   "outputs": [
    {
     "data": {
      "text/plain": [
       "['MAC1(Mw)', 'MAC1(HP)', 'MAC1(IP)', 'MAC1(ECI)', 'MAC1(Vm)', 'MAC1(Anp)']"
      ]
     },
     "execution_count": 32,
     "metadata": {},
     "output_type": "execute_result"
    }
   ],
   "source": [
    "from lightgbm import LGBMClassifier\n",
    "from sklearn.feature_selection import SelectFromModel\n",
    "lgbc=LGBMClassifier(n_estimators=500, learning_rate=0.05,\n",
    "                    num_leaves=32, colsample_bytree=0.2,                                           \n",
    "                    reg_alpha=3, reg_lambda=1, min_split_gain=0.01,    \n",
    "                    min_child_weight=40)\n",
    "embeded_lgb_selector = SelectFromModel(lgbc, max_features=6)\n",
    "embeded_lgb_selector.fit(X, y)\n",
    "embeded_lgb_feature = getFeature(embeded_lgb_selector.get_support())\n",
    "embeded_lgb_feature"
   ]
  },
  {
   "cell_type": "code",
   "execution_count": 33,
   "metadata": {},
   "outputs": [
    {
     "name": "stdout",
     "output_type": "stream",
     "text": [
      "Accuracy: 0.72\n",
      "Precision: 0.625\n",
      "Recall: 0.5555555555555556\n"
     ]
    }
   ],
   "source": [
    "X_lgbm = X[embeded_lgb_feature]\n",
    "X_train,X_test,y_train,y_test=train_test_split(X_lgbm,y,test_size=0.25,random_state=0)\n",
    "y_pred = myModel(X_train,y_train,X_test)\n",
    "lgbm_acc = metrics.accuracy_score(y_test, y_pred)\n",
    "print(\"Accuracy:\",metrics.accuracy_score(y_test, y_pred))\n",
    "print(\"Precision:\",metrics.precision_score(y_test, y_pred))\n",
    "print(\"Recall:\",metrics.recall_score(y_test, y_pred))"
   ]
  },
  {
   "cell_type": "code",
   "execution_count": 34,
   "metadata": {},
   "outputs": [],
   "source": [
    "chi_table = ['Chi-square', chi_acc, 'MAC3(Ap)', 'MAC4(ECI)', 'MAC4(Ap)', 'MAC5(Ap)', 'MAC6(Ap)', 'MAC7(Ap)' ]\n",
    "mi_table = ['Mutual Information', mi_acc, 'MAC4(Ap)', 'MAC5(Mw)', 'MAC5(At)', 'MAC5(Ap)', 'MAC6(Mw)', 'MAC6(Ap)']\n",
    "anova_table = ['Anova F-value', anova_acc, 'MAC4(IP)', 'MAC4(Ap)', 'MAC5(IP)', 'MAC5(At)', 'MAC5(Ap)', 'MAC7(Ap)']\n",
    "var_table = ['Variance Threshold',thresh_acc,'-','-','-','-','-','-']\n",
    "fisher_table = ['Fisher Score', fisher_acc, 'MAC4(ECI)', 'MAC3(Pa)', 'MAC3(ECI)', 'MAC3(Vm)', 'MAC1(ECI)','MAC4(Pa)']\n",
    "multi_table = ['MultiSURF',multi_acc,'-','-','-','-','-','-']\n",
    "rec_table = ['Recursive Feature Elimination',rec_acc, 'MAC3(IP)', 'MAC4(Ap)', 'MAC5(Mw)', 'MAC5(IP)', 'MAC5(Ap)', 'MAC7(At)']\n",
    "perm_table = ['Permutation Importance',perm_acc,'MAC3(At)', 'MAC3(Ap)', 'MAC4(Ap)', 'MAC5(At)', 'MAC7(Mw)', 'MAC7(Vm)']\n",
    "shap_table = ['SHAP', shap_acc, 'MAC5(Mw)', 'MAC4(Ap)', 'MAC4(Z1)', 'MAC3(Z2)', 'MAC5(IP)', 'MAC1(IP)']\n",
    "boruta_table = ['Boruta',boruta_acc,'-','-','-','-','-','-']\n",
    "rf_table = ['Embedded Random Forest', rf_acc,'MAC3(Ap)', 'MAC4(Ap)', 'MAC5(Mw)', 'MAC5(At)', 'MAC6(Ap)', 'MAC7(At)']\n",
    "lgbm_table =['Embedded LightGBM', lgbm_acc, 'MAC1(Mw)', 'MAC1(HP)', 'MAC1(IP)', 'MAC1(ECI)', 'MAC1(Vm)', 'MAC1(Anp)']\n",
    "\n",
    "\n"
   ]
  },
  {
   "cell_type": "code",
   "execution_count": 35,
   "metadata": {},
   "outputs": [],
   "source": [
    "myTable = [chi_table, mi_table, anova_table,var_table, fisher_table, multi_table, rec_table, perm_table, shap_table,\n",
    "          boruta_table, rf_table, lgbm_table]\n",
    "\n",
    "\n"
   ]
  },
  {
   "cell_type": "code",
   "execution_count": 36,
   "metadata": {},
   "outputs": [
    {
     "data": {
      "text/html": [
       "<div>\n",
       "<style scoped>\n",
       "    .dataframe tbody tr th:only-of-type {\n",
       "        vertical-align: middle;\n",
       "    }\n",
       "\n",
       "    .dataframe tbody tr th {\n",
       "        vertical-align: top;\n",
       "    }\n",
       "\n",
       "    .dataframe thead th {\n",
       "        text-align: right;\n",
       "    }\n",
       "</style>\n",
       "<table border=\"1\" class=\"dataframe\">\n",
       "  <thead>\n",
       "    <tr style=\"text-align: right;\">\n",
       "      <th></th>\n",
       "      <th>Method</th>\n",
       "      <th>Accuracy</th>\n",
       "      <th>Feature 1</th>\n",
       "      <th>Feature 2</th>\n",
       "      <th>Feature 3</th>\n",
       "      <th>Feature 4</th>\n",
       "      <th>Feature 5</th>\n",
       "      <th>Feature 6</th>\n",
       "    </tr>\n",
       "  </thead>\n",
       "  <tbody>\n",
       "    <tr>\n",
       "      <th>0</th>\n",
       "      <td>Chi-square</td>\n",
       "      <td>0.88</td>\n",
       "      <td>MAC3(Ap)</td>\n",
       "      <td>MAC4(ECI)</td>\n",
       "      <td>MAC4(Ap)</td>\n",
       "      <td>MAC5(Ap)</td>\n",
       "      <td>MAC6(Ap)</td>\n",
       "      <td>MAC7(Ap)</td>\n",
       "    </tr>\n",
       "    <tr>\n",
       "      <th>1</th>\n",
       "      <td>Mutual Information</td>\n",
       "      <td>0.76</td>\n",
       "      <td>MAC4(Ap)</td>\n",
       "      <td>MAC5(Mw)</td>\n",
       "      <td>MAC5(At)</td>\n",
       "      <td>MAC5(Ap)</td>\n",
       "      <td>MAC6(Mw)</td>\n",
       "      <td>MAC6(Ap)</td>\n",
       "    </tr>\n",
       "    <tr>\n",
       "      <th>2</th>\n",
       "      <td>Anova F-value</td>\n",
       "      <td>0.80</td>\n",
       "      <td>MAC4(IP)</td>\n",
       "      <td>MAC4(Ap)</td>\n",
       "      <td>MAC5(IP)</td>\n",
       "      <td>MAC5(At)</td>\n",
       "      <td>MAC5(Ap)</td>\n",
       "      <td>MAC7(Ap)</td>\n",
       "    </tr>\n",
       "    <tr>\n",
       "      <th>3</th>\n",
       "      <td>Variance Threshold</td>\n",
       "      <td>0.72</td>\n",
       "      <td>-</td>\n",
       "      <td>-</td>\n",
       "      <td>-</td>\n",
       "      <td>-</td>\n",
       "      <td>-</td>\n",
       "      <td>-</td>\n",
       "    </tr>\n",
       "    <tr>\n",
       "      <th>4</th>\n",
       "      <td>Fisher Score</td>\n",
       "      <td>0.64</td>\n",
       "      <td>MAC4(ECI)</td>\n",
       "      <td>MAC3(Pa)</td>\n",
       "      <td>MAC3(ECI)</td>\n",
       "      <td>MAC3(Vm)</td>\n",
       "      <td>MAC1(ECI)</td>\n",
       "      <td>MAC4(Pa)</td>\n",
       "    </tr>\n",
       "    <tr>\n",
       "      <th>5</th>\n",
       "      <td>MultiSURF</td>\n",
       "      <td>0.72</td>\n",
       "      <td>-</td>\n",
       "      <td>-</td>\n",
       "      <td>-</td>\n",
       "      <td>-</td>\n",
       "      <td>-</td>\n",
       "      <td>-</td>\n",
       "    </tr>\n",
       "    <tr>\n",
       "      <th>6</th>\n",
       "      <td>Recursive Feature Elimination</td>\n",
       "      <td>0.92</td>\n",
       "      <td>MAC3(IP)</td>\n",
       "      <td>MAC4(Ap)</td>\n",
       "      <td>MAC5(Mw)</td>\n",
       "      <td>MAC5(IP)</td>\n",
       "      <td>MAC5(Ap)</td>\n",
       "      <td>MAC7(At)</td>\n",
       "    </tr>\n",
       "    <tr>\n",
       "      <th>7</th>\n",
       "      <td>Permutation Importance</td>\n",
       "      <td>0.84</td>\n",
       "      <td>MAC3(At)</td>\n",
       "      <td>MAC3(Ap)</td>\n",
       "      <td>MAC4(Ap)</td>\n",
       "      <td>MAC5(At)</td>\n",
       "      <td>MAC7(Mw)</td>\n",
       "      <td>MAC7(Vm)</td>\n",
       "    </tr>\n",
       "    <tr>\n",
       "      <th>8</th>\n",
       "      <td>SHAP</td>\n",
       "      <td>0.92</td>\n",
       "      <td>MAC5(Mw)</td>\n",
       "      <td>MAC4(Ap)</td>\n",
       "      <td>MAC4(Z1)</td>\n",
       "      <td>MAC3(Z2)</td>\n",
       "      <td>MAC5(IP)</td>\n",
       "      <td>MAC1(IP)</td>\n",
       "    </tr>\n",
       "    <tr>\n",
       "      <th>9</th>\n",
       "      <td>Boruta</td>\n",
       "      <td>0.88</td>\n",
       "      <td>-</td>\n",
       "      <td>-</td>\n",
       "      <td>-</td>\n",
       "      <td>-</td>\n",
       "      <td>-</td>\n",
       "      <td>-</td>\n",
       "    </tr>\n",
       "    <tr>\n",
       "      <th>10</th>\n",
       "      <td>Embedded Random Forest</td>\n",
       "      <td>0.80</td>\n",
       "      <td>MAC3(Ap)</td>\n",
       "      <td>MAC4(Ap)</td>\n",
       "      <td>MAC5(Mw)</td>\n",
       "      <td>MAC5(At)</td>\n",
       "      <td>MAC6(Ap)</td>\n",
       "      <td>MAC7(At)</td>\n",
       "    </tr>\n",
       "    <tr>\n",
       "      <th>11</th>\n",
       "      <td>Embedded LightGBM</td>\n",
       "      <td>0.72</td>\n",
       "      <td>MAC1(Mw)</td>\n",
       "      <td>MAC1(HP)</td>\n",
       "      <td>MAC1(IP)</td>\n",
       "      <td>MAC1(ECI)</td>\n",
       "      <td>MAC1(Vm)</td>\n",
       "      <td>MAC1(Anp)</td>\n",
       "    </tr>\n",
       "  </tbody>\n",
       "</table>\n",
       "</div>"
      ],
      "text/plain": [
       "                           Method  Accuracy  Feature 1  Feature 2  Feature 3  \\\n",
       "0                      Chi-square      0.88   MAC3(Ap)  MAC4(ECI)   MAC4(Ap)   \n",
       "1              Mutual Information      0.76   MAC4(Ap)   MAC5(Mw)   MAC5(At)   \n",
       "2                   Anova F-value      0.80   MAC4(IP)   MAC4(Ap)   MAC5(IP)   \n",
       "3              Variance Threshold      0.72          -          -          -   \n",
       "4                    Fisher Score      0.64  MAC4(ECI)   MAC3(Pa)  MAC3(ECI)   \n",
       "5                       MultiSURF      0.72          -          -          -   \n",
       "6   Recursive Feature Elimination      0.92   MAC3(IP)   MAC4(Ap)   MAC5(Mw)   \n",
       "7          Permutation Importance      0.84   MAC3(At)   MAC3(Ap)   MAC4(Ap)   \n",
       "8                            SHAP      0.92   MAC5(Mw)   MAC4(Ap)   MAC4(Z1)   \n",
       "9                          Boruta      0.88          -          -          -   \n",
       "10         Embedded Random Forest      0.80   MAC3(Ap)   MAC4(Ap)   MAC5(Mw)   \n",
       "11              Embedded LightGBM      0.72   MAC1(Mw)   MAC1(HP)   MAC1(IP)   \n",
       "\n",
       "    Feature 4  Feature 5  Feature 6  \n",
       "0    MAC5(Ap)   MAC6(Ap)   MAC7(Ap)  \n",
       "1    MAC5(Ap)   MAC6(Mw)   MAC6(Ap)  \n",
       "2    MAC5(At)   MAC5(Ap)   MAC7(Ap)  \n",
       "3           -          -          -  \n",
       "4    MAC3(Vm)  MAC1(ECI)   MAC4(Pa)  \n",
       "5           -          -          -  \n",
       "6    MAC5(IP)   MAC5(Ap)   MAC7(At)  \n",
       "7    MAC5(At)   MAC7(Mw)   MAC7(Vm)  \n",
       "8    MAC3(Z2)   MAC5(IP)   MAC1(IP)  \n",
       "9           -          -          -  \n",
       "10   MAC5(At)   MAC6(Ap)   MAC7(At)  \n",
       "11  MAC1(ECI)   MAC1(Vm)  MAC1(Anp)  "
      ]
     },
     "execution_count": 36,
     "metadata": {},
     "output_type": "execute_result"
    }
   ],
   "source": [
    "results = pd.DataFrame(myTable,columns=['Method', 'Accuracy','Feature 1','Feature 2','Feature 3','Feature 4','Feature 5','Feature 6'])\n",
    "\n",
    "results                    "
   ]
  },
  {
   "cell_type": "code",
   "execution_count": null,
   "metadata": {},
   "outputs": [],
   "source": []
  },
  {
   "cell_type": "code",
   "execution_count": null,
   "metadata": {},
   "outputs": [],
   "source": []
  },
  {
   "cell_type": "code",
   "execution_count": null,
   "metadata": {},
   "outputs": [],
   "source": []
  },
  {
   "cell_type": "code",
   "execution_count": null,
   "metadata": {},
   "outputs": [],
   "source": []
  },
  {
   "cell_type": "code",
   "execution_count": null,
   "metadata": {},
   "outputs": [],
   "source": []
  },
  {
   "cell_type": "code",
   "execution_count": 26,
   "metadata": {},
   "outputs": [],
   "source": [
    "results.to_csv('result.csv')"
   ]
  },
  {
   "cell_type": "code",
   "execution_count": 27,
   "metadata": {},
   "outputs": [],
   "source": [
    "results.to_excel(\"result.xlsx\", sheet_name='Sheet_name_1') "
   ]
  },
  {
   "cell_type": "code",
   "execution_count": 15,
   "metadata": {},
   "outputs": [
    {
     "data": {
      "text/plain": [
       "-7.3755193267135635"
      ]
     },
     "execution_count": 15,
     "metadata": {},
     "output_type": "execute_result"
    }
   ],
   "source": [
    "from sklearn.datasets import load_diabetes\n",
    "from sklearn.model_selection import train_test_split\n",
    "from sklearn.linear_model import Ridge\n",
    "diabetes = load_diabetes()\n",
    "X_train, X_val, y_train, y_val = train_test_split(\n",
    "    X, y, test_size=0.25,random_state=0)\n",
    "\n",
    "model = Ridge(alpha=1e-2).fit(X_train, y_train)\n",
    "model.score(X_val, y_val)"
   ]
  },
  {
   "cell_type": "code",
   "execution_count": 16,
   "metadata": {},
   "outputs": [
    {
     "name": "stdout",
     "output_type": "stream",
     "text": [
      "Accuracy: 0.72\n"
     ]
    },
    {
     "name": "stderr",
     "output_type": "stream",
     "text": [
      "C:\\Users\\User\\anaconda3\\lib\\site-packages\\sklearn\\linear_model\\_logistic.py:762: ConvergenceWarning: lbfgs failed to converge (status=1):\n",
      "STOP: TOTAL NO. of ITERATIONS REACHED LIMIT.\n",
      "\n",
      "Increase the number of iterations (max_iter) or scale the data as shown in:\n",
      "    https://scikit-learn.org/stable/modules/preprocessing.html\n",
      "Please also refer to the documentation for alternative solver options:\n",
      "    https://scikit-learn.org/stable/modules/linear_model.html#logistic-regression\n",
      "  n_iter_i = _check_optimize_result(\n"
     ]
    }
   ],
   "source": [
    "from sklearn.linear_model import LogisticRegression\n",
    "logreg = LogisticRegression()\n",
    "\n",
    "    # fit the model with data\n",
    "logreg.fit(X_train,y_train)\n",
    "\n",
    "    # get predict\n",
    "y_pred=logreg.predict(X_val)\n",
    "pp_im = metrics.accuracy_score(y_val, y_pred)\n",
    "print(\"Accuracy:\",metrics.accuracy_score(y_val, y_pred))"
   ]
  },
  {
   "cell_type": "code",
   "execution_count": 17,
   "metadata": {},
   "outputs": [
    {
     "name": "stdout",
     "output_type": "stream",
     "text": [
      "MAC7(Z1)1165.723 +/- 206.355\n",
      "MAC2(Z1)619.053 +/- 125.856\n",
      "MAC7(Mw)445.093 +/- 78.788\n",
      "MAC3(Z1)325.653 +/- 65.469\n",
      "MAC1(Mw)325.040 +/- 68.574\n",
      "MAC5(Mw)301.063 +/- 54.619\n",
      "MAC2(Mw)288.199 +/- 53.579\n",
      "MAC4(Z1)218.922 +/- 42.216\n",
      "MAC6(Z1)200.863 +/- 33.593\n",
      "MAC6(HP)147.973 +/- 29.946\n",
      "MAC3(Ap)146.277 +/- 31.166\n",
      "MAC3(HP)138.040 +/- 28.945\n",
      "MAC2(HP)134.440 +/- 25.928\n",
      "MAC4(HP)120.941 +/- 26.972\n",
      "MAC2(Anp)68.624 +/- 15.016\n",
      "MAC1(Z1)64.465 +/- 14.540\n",
      "ID      42.625 +/- 9.762\n",
      "MAC6(Ap)41.045 +/- 8.018\n",
      "MAC2(Pb)35.842 +/- 8.133\n",
      "MAC1(Ap)32.609 +/- 7.728\n",
      "MAC5(Ap)32.016 +/- 7.120\n",
      "MAC5(HP)29.192 +/- 7.033\n",
      "MAC1(Pb)26.298 +/- 5.917\n",
      "MAC3(Z2)25.562 +/- 7.107\n",
      "MAC3(Pb)24.707 +/- 5.793\n",
      "MAC3(Mw)23.074 +/- 5.522\n",
      "MAC4(Anp)21.567 +/- 5.498\n",
      "MAC4(Mw)20.694 +/- 4.832\n",
      "MAC5(Pb)16.975 +/- 4.504\n",
      "MAC6(Anp)15.981 +/- 4.661\n",
      "MAC4(Z2)11.866 +/- 3.682\n",
      "MAC5(Z1)11.369 +/- 3.312\n",
      "MAC4(Ap)10.522 +/- 2.862\n",
      "MAC1(Anp)7.779 +/- 2.848\n",
      "MAC7(HP)6.746 +/- 2.626\n",
      "MAC5(Z2)4.108 +/- 1.423\n",
      "MAC3(IP)3.876 +/- 1.552\n",
      "MAC2(Z2)2.550 +/- 0.830\n",
      "MAC7(Z2)2.537 +/- 1.041\n",
      "MAC5(IP)1.926 +/- 0.745\n",
      "MAC2(Ap)1.862 +/- 0.592\n",
      "MAC6(Z2)1.584 +/- 0.737\n",
      "MAC4(IP)1.533 +/- 0.728\n",
      "MAC5(ECI)1.044 +/- 0.360\n",
      "MAC2(ECI)0.234 +/- 0.107\n",
      "MAC3(Pt)0.113 +/- 0.041\n",
      "MAC1(Pt)0.053 +/- 0.025\n"
     ]
    }
   ],
   "source": [
    "from sklearn.inspection import permutation_importance\n",
    "r = permutation_importance(model, X_val, y_val,\n",
    "                            n_repeats=30,\n",
    "                            random_state=0)\n",
    "\n",
    "for i in r.importances_mean.argsort()[::-1]:\n",
    "    if r.importances_mean[i] - 2 * r.importances_std[i] > 0:\n",
    "        print(f\"{data.columns[i]:<8}\"\n",
    "               f\"{r.importances_mean[i]:.3f}\"\n",
    "               f\" +/- {r.importances_std[i]:.3f}\")\n"
   ]
  },
  {
   "cell_type": "code",
   "execution_count": 18,
   "metadata": {},
   "outputs": [
    {
     "name": "stdout",
     "output_type": "stream",
     "text": [
      "Accuracy: 0.64\n",
      "Precision: 0.5\n",
      "Recall: 0.3333333333333333\n"
     ]
    }
   ],
   "source": [
    "X_perm1 = X[['MAC7(Z1)','MAC2(Z1)', 'MAC7(Mw)', 'MAC3(Z1)', 'MAC1(Mw)', 'MAC5(Mw)']]\n",
    "X_train,X_test,y_train,y_test=train_test_split(X_perm1,y,test_size=0.25,random_state=0)\n",
    "logreg = LogisticRegression()\n",
    "\n",
    "    # fit the model with data\n",
    "logreg.fit(X_train,y_train)\n",
    "\n",
    "    # get predict\n",
    "y_pred=logreg.predict(X_test)\n",
    "perm_acc = metrics.accuracy_score(y_test, y_pred)\n",
    "\n",
    "print(\"Accuracy:\",metrics.accuracy_score(y_test, y_pred))\n",
    "print(\"Precision:\",metrics.precision_score(y_test, y_pred))\n",
    "print(\"Recall:\",metrics.recall_score(y_test, y_pred))"
   ]
  },
  {
   "cell_type": "code",
   "execution_count": null,
   "metadata": {},
   "outputs": [],
   "source": []
  }
 ],
 "metadata": {
  "kernelspec": {
   "display_name": "Python 3 (ipykernel)",
   "language": "python",
   "name": "python3"
  },
  "language_info": {
   "codemirror_mode": {
    "name": "ipython",
    "version": 3
   },
   "file_extension": ".py",
   "mimetype": "text/x-python",
   "name": "python",
   "nbconvert_exporter": "python",
   "pygments_lexer": "ipython3",
   "version": "3.9.7"
  }
 },
 "nbformat": 4,
 "nbformat_minor": 4
}
