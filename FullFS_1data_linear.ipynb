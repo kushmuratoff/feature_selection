{
 "cells": [
  {
   "cell_type": "code",
   "execution_count": 11,
   "metadata": {},
   "outputs": [],
   "source": [
    "import pandas as pd\n",
    "import numpy as np\n",
    "from sklearn import metrics\n",
    "from sklearn.linear_model import LinearRegression\n",
    "from sklearn.model_selection import train_test_split"
   ]
  },
  {
   "cell_type": "code",
   "execution_count": 2,
   "metadata": {},
   "outputs": [
    {
     "data": {
      "text/html": [
       "<div>\n",
       "<style scoped>\n",
       "    .dataframe tbody tr th:only-of-type {\n",
       "        vertical-align: middle;\n",
       "    }\n",
       "\n",
       "    .dataframe tbody tr th {\n",
       "        vertical-align: top;\n",
       "    }\n",
       "\n",
       "    .dataframe thead th {\n",
       "        text-align: right;\n",
       "    }\n",
       "</style>\n",
       "<table border=\"1\" class=\"dataframe\">\n",
       "  <thead>\n",
       "    <tr style=\"text-align: right;\">\n",
       "      <th></th>\n",
       "      <th>ID</th>\n",
       "      <th>BEq(cr)</th>\n",
       "      <th>C1_me</th>\n",
       "      <th>C2_bs</th>\n",
       "      <th>MAC1(Mw)</th>\n",
       "      <th>MAC1(HP)</th>\n",
       "      <th>MAC1(IP)</th>\n",
       "      <th>MAC1(ECI)</th>\n",
       "      <th>MAC1(Vm)</th>\n",
       "      <th>MAC1(Anp)</th>\n",
       "      <th>...</th>\n",
       "      <th>MAC7(Z1)</th>\n",
       "      <th>MAC7(Z2)</th>\n",
       "      <th>MAC7(Z3)</th>\n",
       "      <th>MAC7(ISA)</th>\n",
       "      <th>MAC7(At)</th>\n",
       "      <th>MAC7(Ap)</th>\n",
       "      <th>MAC7(Pa)</th>\n",
       "      <th>MAC7(Pb)</th>\n",
       "      <th>MAC7(Pt)</th>\n",
       "      <th>Set</th>\n",
       "    </tr>\n",
       "  </thead>\n",
       "  <tbody>\n",
       "    <tr>\n",
       "      <th>0</th>\n",
       "      <td>1</td>\n",
       "      <td>-1</td>\n",
       "      <td>MIC (uM)</td>\n",
       "      <td>Escherichia coli</td>\n",
       "      <td>18766.50</td>\n",
       "      <td>3.16</td>\n",
       "      <td>77.31</td>\n",
       "      <td>0.28</td>\n",
       "      <td>29700.05</td>\n",
       "      <td>19965.60</td>\n",
       "      <td>...</td>\n",
       "      <td>-2.21</td>\n",
       "      <td>2.66</td>\n",
       "      <td>-0.65</td>\n",
       "      <td>9625.47</td>\n",
       "      <td>25264.62</td>\n",
       "      <td>1374.12</td>\n",
       "      <td>1.48</td>\n",
       "      <td>1.39</td>\n",
       "      <td>0.97</td>\n",
       "      <td>Train</td>\n",
       "    </tr>\n",
       "    <tr>\n",
       "      <th>1</th>\n",
       "      <td>2</td>\n",
       "      <td>1</td>\n",
       "      <td>MIC (uM)</td>\n",
       "      <td>Escherichia coli</td>\n",
       "      <td>22420.21</td>\n",
       "      <td>-4.44</td>\n",
       "      <td>99.13</td>\n",
       "      <td>0.42</td>\n",
       "      <td>32496.79</td>\n",
       "      <td>16664.04</td>\n",
       "      <td>...</td>\n",
       "      <td>3.12</td>\n",
       "      <td>-1.06</td>\n",
       "      <td>1.74</td>\n",
       "      <td>8169.21</td>\n",
       "      <td>39940.07</td>\n",
       "      <td>6203.67</td>\n",
       "      <td>1.57</td>\n",
       "      <td>1.60</td>\n",
       "      <td>1.62</td>\n",
       "      <td>Train</td>\n",
       "    </tr>\n",
       "    <tr>\n",
       "      <th>2</th>\n",
       "      <td>3</td>\n",
       "      <td>-1</td>\n",
       "      <td>HC50 (uM)</td>\n",
       "      <td>Human erythrocytes</td>\n",
       "      <td>27623.55</td>\n",
       "      <td>5.11</td>\n",
       "      <td>91.88</td>\n",
       "      <td>0.49</td>\n",
       "      <td>44321.25</td>\n",
       "      <td>28677.85</td>\n",
       "      <td>...</td>\n",
       "      <td>7.54</td>\n",
       "      <td>-2.37</td>\n",
       "      <td>1.26</td>\n",
       "      <td>13886.31</td>\n",
       "      <td>29654.90</td>\n",
       "      <td>2433.19</td>\n",
       "      <td>1.40</td>\n",
       "      <td>1.24</td>\n",
       "      <td>0.73</td>\n",
       "      <td>Train</td>\n",
       "    </tr>\n",
       "    <tr>\n",
       "      <th>3</th>\n",
       "      <td>4</td>\n",
       "      <td>1</td>\n",
       "      <td>MIC (uM)</td>\n",
       "      <td>Salmonella enterica subsp. enterica serovar Ty...</td>\n",
       "      <td>29326.84</td>\n",
       "      <td>-4.77</td>\n",
       "      <td>98.67</td>\n",
       "      <td>0.31</td>\n",
       "      <td>48094.77</td>\n",
       "      <td>30257.87</td>\n",
       "      <td>...</td>\n",
       "      <td>9.14</td>\n",
       "      <td>1.58</td>\n",
       "      <td>2.09</td>\n",
       "      <td>17344.28</td>\n",
       "      <td>43139.05</td>\n",
       "      <td>4670.11</td>\n",
       "      <td>1.65</td>\n",
       "      <td>1.30</td>\n",
       "      <td>0.85</td>\n",
       "      <td>Train</td>\n",
       "    </tr>\n",
       "    <tr>\n",
       "      <th>4</th>\n",
       "      <td>5</td>\n",
       "      <td>1</td>\n",
       "      <td>MIC (uM)</td>\n",
       "      <td>Escherichia coli</td>\n",
       "      <td>29443.58</td>\n",
       "      <td>-0.25</td>\n",
       "      <td>94.84</td>\n",
       "      <td>0.66</td>\n",
       "      <td>46870.09</td>\n",
       "      <td>28039.24</td>\n",
       "      <td>...</td>\n",
       "      <td>5.41</td>\n",
       "      <td>1.73</td>\n",
       "      <td>1.84</td>\n",
       "      <td>14534.03</td>\n",
       "      <td>42398.55</td>\n",
       "      <td>5022.12</td>\n",
       "      <td>1.64</td>\n",
       "      <td>1.22</td>\n",
       "      <td>0.92</td>\n",
       "      <td>Train</td>\n",
       "    </tr>\n",
       "  </tbody>\n",
       "</table>\n",
       "<p>5 rows × 110 columns</p>\n",
       "</div>"
      ],
      "text/plain": [
       "   ID  BEq(cr)      C1_me                                              C2_bs  \\\n",
       "0   1       -1   MIC (uM)                                   Escherichia coli   \n",
       "1   2        1   MIC (uM)                                   Escherichia coli   \n",
       "2   3       -1  HC50 (uM)                                 Human erythrocytes   \n",
       "3   4        1   MIC (uM)  Salmonella enterica subsp. enterica serovar Ty...   \n",
       "4   5        1   MIC (uM)                                   Escherichia coli   \n",
       "\n",
       "   MAC1(Mw)  MAC1(HP)  MAC1(IP)  MAC1(ECI)  MAC1(Vm)  MAC1(Anp)  ...  \\\n",
       "0  18766.50      3.16     77.31       0.28  29700.05   19965.60  ...   \n",
       "1  22420.21     -4.44     99.13       0.42  32496.79   16664.04  ...   \n",
       "2  27623.55      5.11     91.88       0.49  44321.25   28677.85  ...   \n",
       "3  29326.84     -4.77     98.67       0.31  48094.77   30257.87  ...   \n",
       "4  29443.58     -0.25     94.84       0.66  46870.09   28039.24  ...   \n",
       "\n",
       "   MAC7(Z1)  MAC7(Z2)  MAC7(Z3)  MAC7(ISA)  MAC7(At)  MAC7(Ap)  MAC7(Pa)  \\\n",
       "0     -2.21      2.66     -0.65    9625.47  25264.62   1374.12      1.48   \n",
       "1      3.12     -1.06      1.74    8169.21  39940.07   6203.67      1.57   \n",
       "2      7.54     -2.37      1.26   13886.31  29654.90   2433.19      1.40   \n",
       "3      9.14      1.58      2.09   17344.28  43139.05   4670.11      1.65   \n",
       "4      5.41      1.73      1.84   14534.03  42398.55   5022.12      1.64   \n",
       "\n",
       "   MAC7(Pb)  MAC7(Pt)    Set  \n",
       "0      1.39      0.97  Train  \n",
       "1      1.60      1.62  Train  \n",
       "2      1.24      0.73  Train  \n",
       "3      1.30      0.85  Train  \n",
       "4      1.22      0.92  Train  \n",
       "\n",
       "[5 rows x 110 columns]"
      ]
     },
     "execution_count": 2,
     "metadata": {},
     "output_type": "execute_result"
    }
   ],
   "source": [
    "# Read in data into a dataframe \n",
    "data = pd.read_excel('Data1_Feature_selection.xlsx')\n",
    "# Display top of dataframe\n",
    "data.head()"
   ]
  },
  {
   "cell_type": "code",
   "execution_count": 3,
   "metadata": {},
   "outputs": [
    {
     "data": {
      "text/html": [
       "<div>\n",
       "<style scoped>\n",
       "    .dataframe tbody tr th:only-of-type {\n",
       "        vertical-align: middle;\n",
       "    }\n",
       "\n",
       "    .dataframe tbody tr th {\n",
       "        vertical-align: top;\n",
       "    }\n",
       "\n",
       "    .dataframe thead th {\n",
       "        text-align: right;\n",
       "    }\n",
       "</style>\n",
       "<table border=\"1\" class=\"dataframe\">\n",
       "  <thead>\n",
       "    <tr style=\"text-align: right;\">\n",
       "      <th></th>\n",
       "      <th>MAC1(Mw)</th>\n",
       "      <th>MAC1(HP)</th>\n",
       "      <th>MAC1(IP)</th>\n",
       "      <th>MAC1(ECI)</th>\n",
       "      <th>MAC1(Vm)</th>\n",
       "      <th>MAC1(Anp)</th>\n",
       "      <th>MAC1(Z1)</th>\n",
       "      <th>MAC1(Z2)</th>\n",
       "      <th>MAC1(Z3)</th>\n",
       "      <th>MAC1(ISA)</th>\n",
       "      <th>...</th>\n",
       "      <th>MAC7(Anp)</th>\n",
       "      <th>MAC7(Z1)</th>\n",
       "      <th>MAC7(Z2)</th>\n",
       "      <th>MAC7(Z3)</th>\n",
       "      <th>MAC7(ISA)</th>\n",
       "      <th>MAC7(At)</th>\n",
       "      <th>MAC7(Ap)</th>\n",
       "      <th>MAC7(Pa)</th>\n",
       "      <th>MAC7(Pb)</th>\n",
       "      <th>MAC7(Pt)</th>\n",
       "    </tr>\n",
       "  </thead>\n",
       "  <tbody>\n",
       "    <tr>\n",
       "      <th>0</th>\n",
       "      <td>18766.50</td>\n",
       "      <td>3.16</td>\n",
       "      <td>77.31</td>\n",
       "      <td>0.28</td>\n",
       "      <td>29700.05</td>\n",
       "      <td>19965.60</td>\n",
       "      <td>3.76</td>\n",
       "      <td>3.30</td>\n",
       "      <td>0.76</td>\n",
       "      <td>15053.39</td>\n",
       "      <td>...</td>\n",
       "      <td>13511.82</td>\n",
       "      <td>-2.21</td>\n",
       "      <td>2.66</td>\n",
       "      <td>-0.65</td>\n",
       "      <td>9625.47</td>\n",
       "      <td>25264.62</td>\n",
       "      <td>1374.12</td>\n",
       "      <td>1.48</td>\n",
       "      <td>1.39</td>\n",
       "      <td>0.97</td>\n",
       "    </tr>\n",
       "    <tr>\n",
       "      <th>1</th>\n",
       "      <td>22420.21</td>\n",
       "      <td>-4.44</td>\n",
       "      <td>99.13</td>\n",
       "      <td>0.42</td>\n",
       "      <td>32496.79</td>\n",
       "      <td>16664.04</td>\n",
       "      <td>1.44</td>\n",
       "      <td>-2.59</td>\n",
       "      <td>1.15</td>\n",
       "      <td>9813.25</td>\n",
       "      <td>...</td>\n",
       "      <td>14177.47</td>\n",
       "      <td>3.12</td>\n",
       "      <td>-1.06</td>\n",
       "      <td>1.74</td>\n",
       "      <td>8169.21</td>\n",
       "      <td>39940.07</td>\n",
       "      <td>6203.67</td>\n",
       "      <td>1.57</td>\n",
       "      <td>1.60</td>\n",
       "      <td>1.62</td>\n",
       "    </tr>\n",
       "    <tr>\n",
       "      <th>2</th>\n",
       "      <td>27623.55</td>\n",
       "      <td>5.11</td>\n",
       "      <td>91.88</td>\n",
       "      <td>0.49</td>\n",
       "      <td>44321.25</td>\n",
       "      <td>28677.85</td>\n",
       "      <td>1.74</td>\n",
       "      <td>1.82</td>\n",
       "      <td>2.43</td>\n",
       "      <td>22188.24</td>\n",
       "      <td>...</td>\n",
       "      <td>16639.72</td>\n",
       "      <td>7.54</td>\n",
       "      <td>-2.37</td>\n",
       "      <td>1.26</td>\n",
       "      <td>13886.31</td>\n",
       "      <td>29654.90</td>\n",
       "      <td>2433.19</td>\n",
       "      <td>1.40</td>\n",
       "      <td>1.24</td>\n",
       "      <td>0.73</td>\n",
       "    </tr>\n",
       "    <tr>\n",
       "      <th>3</th>\n",
       "      <td>29326.84</td>\n",
       "      <td>-4.77</td>\n",
       "      <td>98.67</td>\n",
       "      <td>0.31</td>\n",
       "      <td>48094.77</td>\n",
       "      <td>30257.87</td>\n",
       "      <td>-4.08</td>\n",
       "      <td>-1.10</td>\n",
       "      <td>3.55</td>\n",
       "      <td>22535.35</td>\n",
       "      <td>...</td>\n",
       "      <td>21541.75</td>\n",
       "      <td>9.14</td>\n",
       "      <td>1.58</td>\n",
       "      <td>2.09</td>\n",
       "      <td>17344.28</td>\n",
       "      <td>43139.05</td>\n",
       "      <td>4670.11</td>\n",
       "      <td>1.65</td>\n",
       "      <td>1.30</td>\n",
       "      <td>0.85</td>\n",
       "    </tr>\n",
       "    <tr>\n",
       "      <th>4</th>\n",
       "      <td>29443.58</td>\n",
       "      <td>-0.25</td>\n",
       "      <td>94.84</td>\n",
       "      <td>0.66</td>\n",
       "      <td>46870.09</td>\n",
       "      <td>28039.24</td>\n",
       "      <td>1.36</td>\n",
       "      <td>-1.21</td>\n",
       "      <td>3.08</td>\n",
       "      <td>20183.11</td>\n",
       "      <td>...</td>\n",
       "      <td>19492.40</td>\n",
       "      <td>5.41</td>\n",
       "      <td>1.73</td>\n",
       "      <td>1.84</td>\n",
       "      <td>14534.03</td>\n",
       "      <td>42398.55</td>\n",
       "      <td>5022.12</td>\n",
       "      <td>1.64</td>\n",
       "      <td>1.22</td>\n",
       "      <td>0.92</td>\n",
       "    </tr>\n",
       "    <tr>\n",
       "      <th>...</th>\n",
       "      <td>...</td>\n",
       "      <td>...</td>\n",
       "      <td>...</td>\n",
       "      <td>...</td>\n",
       "      <td>...</td>\n",
       "      <td>...</td>\n",
       "      <td>...</td>\n",
       "      <td>...</td>\n",
       "      <td>...</td>\n",
       "      <td>...</td>\n",
       "      <td>...</td>\n",
       "      <td>...</td>\n",
       "      <td>...</td>\n",
       "      <td>...</td>\n",
       "      <td>...</td>\n",
       "      <td>...</td>\n",
       "      <td>...</td>\n",
       "      <td>...</td>\n",
       "      <td>...</td>\n",
       "      <td>...</td>\n",
       "      <td>...</td>\n",
       "    </tr>\n",
       "    <tr>\n",
       "      <th>95</th>\n",
       "      <td>21393.83</td>\n",
       "      <td>-4.59</td>\n",
       "      <td>82.69</td>\n",
       "      <td>0.24</td>\n",
       "      <td>33665.40</td>\n",
       "      <td>20664.90</td>\n",
       "      <td>-4.11</td>\n",
       "      <td>1.93</td>\n",
       "      <td>0.29</td>\n",
       "      <td>12921.03</td>\n",
       "      <td>...</td>\n",
       "      <td>17926.88</td>\n",
       "      <td>0.02</td>\n",
       "      <td>4.13</td>\n",
       "      <td>0.45</td>\n",
       "      <td>11660.37</td>\n",
       "      <td>38477.93</td>\n",
       "      <td>3967.51</td>\n",
       "      <td>1.68</td>\n",
       "      <td>1.76</td>\n",
       "      <td>1.57</td>\n",
       "    </tr>\n",
       "    <tr>\n",
       "      <th>96</th>\n",
       "      <td>22452.96</td>\n",
       "      <td>-4.45</td>\n",
       "      <td>85.24</td>\n",
       "      <td>0.27</td>\n",
       "      <td>34963.22</td>\n",
       "      <td>21181.17</td>\n",
       "      <td>-3.06</td>\n",
       "      <td>1.12</td>\n",
       "      <td>0.95</td>\n",
       "      <td>13371.76</td>\n",
       "      <td>...</td>\n",
       "      <td>19061.72</td>\n",
       "      <td>1.23</td>\n",
       "      <td>2.40</td>\n",
       "      <td>1.15</td>\n",
       "      <td>12599.22</td>\n",
       "      <td>40367.01</td>\n",
       "      <td>4275.58</td>\n",
       "      <td>1.71</td>\n",
       "      <td>1.84</td>\n",
       "      <td>1.54</td>\n",
       "    </tr>\n",
       "    <tr>\n",
       "      <th>97</th>\n",
       "      <td>19829.20</td>\n",
       "      <td>0.65</td>\n",
       "      <td>90.09</td>\n",
       "      <td>0.15</td>\n",
       "      <td>30763.30</td>\n",
       "      <td>20289.06</td>\n",
       "      <td>-2.81</td>\n",
       "      <td>6.40</td>\n",
       "      <td>0.12</td>\n",
       "      <td>12336.33</td>\n",
       "      <td>...</td>\n",
       "      <td>16519.71</td>\n",
       "      <td>4.67</td>\n",
       "      <td>4.70</td>\n",
       "      <td>0.03</td>\n",
       "      <td>11615.95</td>\n",
       "      <td>31043.48</td>\n",
       "      <td>2607.85</td>\n",
       "      <td>1.65</td>\n",
       "      <td>1.64</td>\n",
       "      <td>1.70</td>\n",
       "    </tr>\n",
       "    <tr>\n",
       "      <th>98</th>\n",
       "      <td>25790.01</td>\n",
       "      <td>-1.94</td>\n",
       "      <td>94.54</td>\n",
       "      <td>0.22</td>\n",
       "      <td>41330.55</td>\n",
       "      <td>28753.67</td>\n",
       "      <td>-0.13</td>\n",
       "      <td>-0.45</td>\n",
       "      <td>0.64</td>\n",
       "      <td>20896.43</td>\n",
       "      <td>...</td>\n",
       "      <td>19421.73</td>\n",
       "      <td>-2.08</td>\n",
       "      <td>1.30</td>\n",
       "      <td>0.78</td>\n",
       "      <td>12649.15</td>\n",
       "      <td>39358.34</td>\n",
       "      <td>3029.84</td>\n",
       "      <td>1.68</td>\n",
       "      <td>1.63</td>\n",
       "      <td>1.33</td>\n",
       "    </tr>\n",
       "    <tr>\n",
       "      <th>99</th>\n",
       "      <td>20815.13</td>\n",
       "      <td>-2.17</td>\n",
       "      <td>82.65</td>\n",
       "      <td>0.11</td>\n",
       "      <td>32843.57</td>\n",
       "      <td>23601.45</td>\n",
       "      <td>-1.08</td>\n",
       "      <td>-0.19</td>\n",
       "      <td>-0.64</td>\n",
       "      <td>16174.81</td>\n",
       "      <td>...</td>\n",
       "      <td>15807.11</td>\n",
       "      <td>0.16</td>\n",
       "      <td>5.51</td>\n",
       "      <td>0.49</td>\n",
       "      <td>10332.70</td>\n",
       "      <td>31060.28</td>\n",
       "      <td>2436.67</td>\n",
       "      <td>1.45</td>\n",
       "      <td>1.42</td>\n",
       "      <td>1.33</td>\n",
       "    </tr>\n",
       "  </tbody>\n",
       "</table>\n",
       "<p>100 rows × 105 columns</p>\n",
       "</div>"
      ],
      "text/plain": [
       "    MAC1(Mw)  MAC1(HP)  MAC1(IP)  MAC1(ECI)  MAC1(Vm)  MAC1(Anp)  MAC1(Z1)  \\\n",
       "0   18766.50      3.16     77.31       0.28  29700.05   19965.60      3.76   \n",
       "1   22420.21     -4.44     99.13       0.42  32496.79   16664.04      1.44   \n",
       "2   27623.55      5.11     91.88       0.49  44321.25   28677.85      1.74   \n",
       "3   29326.84     -4.77     98.67       0.31  48094.77   30257.87     -4.08   \n",
       "4   29443.58     -0.25     94.84       0.66  46870.09   28039.24      1.36   \n",
       "..       ...       ...       ...        ...       ...        ...       ...   \n",
       "95  21393.83     -4.59     82.69       0.24  33665.40   20664.90     -4.11   \n",
       "96  22452.96     -4.45     85.24       0.27  34963.22   21181.17     -3.06   \n",
       "97  19829.20      0.65     90.09       0.15  30763.30   20289.06     -2.81   \n",
       "98  25790.01     -1.94     94.54       0.22  41330.55   28753.67     -0.13   \n",
       "99  20815.13     -2.17     82.65       0.11  32843.57   23601.45     -1.08   \n",
       "\n",
       "    MAC1(Z2)  MAC1(Z3)  MAC1(ISA)  ...  MAC7(Anp)  MAC7(Z1)  MAC7(Z2)  \\\n",
       "0       3.30      0.76   15053.39  ...   13511.82     -2.21      2.66   \n",
       "1      -2.59      1.15    9813.25  ...   14177.47      3.12     -1.06   \n",
       "2       1.82      2.43   22188.24  ...   16639.72      7.54     -2.37   \n",
       "3      -1.10      3.55   22535.35  ...   21541.75      9.14      1.58   \n",
       "4      -1.21      3.08   20183.11  ...   19492.40      5.41      1.73   \n",
       "..       ...       ...        ...  ...        ...       ...       ...   \n",
       "95      1.93      0.29   12921.03  ...   17926.88      0.02      4.13   \n",
       "96      1.12      0.95   13371.76  ...   19061.72      1.23      2.40   \n",
       "97      6.40      0.12   12336.33  ...   16519.71      4.67      4.70   \n",
       "98     -0.45      0.64   20896.43  ...   19421.73     -2.08      1.30   \n",
       "99     -0.19     -0.64   16174.81  ...   15807.11      0.16      5.51   \n",
       "\n",
       "    MAC7(Z3)  MAC7(ISA)  MAC7(At)  MAC7(Ap)  MAC7(Pa)  MAC7(Pb)  MAC7(Pt)  \n",
       "0      -0.65    9625.47  25264.62   1374.12      1.48      1.39      0.97  \n",
       "1       1.74    8169.21  39940.07   6203.67      1.57      1.60      1.62  \n",
       "2       1.26   13886.31  29654.90   2433.19      1.40      1.24      0.73  \n",
       "3       2.09   17344.28  43139.05   4670.11      1.65      1.30      0.85  \n",
       "4       1.84   14534.03  42398.55   5022.12      1.64      1.22      0.92  \n",
       "..       ...        ...       ...       ...       ...       ...       ...  \n",
       "95      0.45   11660.37  38477.93   3967.51      1.68      1.76      1.57  \n",
       "96      1.15   12599.22  40367.01   4275.58      1.71      1.84      1.54  \n",
       "97      0.03   11615.95  31043.48   2607.85      1.65      1.64      1.70  \n",
       "98      0.78   12649.15  39358.34   3029.84      1.68      1.63      1.33  \n",
       "99      0.49   10332.70  31060.28   2436.67      1.45      1.42      1.33  \n",
       "\n",
       "[100 rows x 105 columns]"
      ]
     },
     "execution_count": 3,
     "metadata": {},
     "output_type": "execute_result"
    }
   ],
   "source": [
    "X = data.drop(columns =['ID','BEq(cr)','C1_me','C2_bs','Set'])\n",
    "X"
   ]
  },
  {
   "cell_type": "code",
   "execution_count": 4,
   "metadata": {},
   "outputs": [
    {
     "data": {
      "text/plain": [
       "0    -1\n",
       "1     1\n",
       "2    -1\n",
       "3     1\n",
       "4     1\n",
       "     ..\n",
       "95    1\n",
       "96    1\n",
       "97   -1\n",
       "98    1\n",
       "99   -1\n",
       "Name: BEq(cr), Length: 100, dtype: int64"
      ]
     },
     "execution_count": 4,
     "metadata": {},
     "output_type": "execute_result"
    }
   ],
   "source": [
    "y = data['BEq(cr)']\n",
    "y"
   ]
  },
  {
   "cell_type": "code",
   "execution_count": 5,
   "metadata": {},
   "outputs": [],
   "source": [
    "def getFeature(mask):\n",
    "    new_features = [] # The list of your K best features\n",
    "\n",
    "    for bool, feature in zip(mask, X.columns):\n",
    "        if bool:\n",
    "            new_features.append(feature)\n",
    "            \n",
    "    return new_features"
   ]
  },
  {
   "cell_type": "code",
   "execution_count": 18,
   "metadata": {},
   "outputs": [],
   "source": [
    "def myModel(myX,myY,X_test,y_test):\n",
    "    # instantiate the model (using the default parameters)\n",
    "    reg = LinearRegression().fit(myX, myY)\n",
    "    y_pred = reg.predict(X_test)\n",
    "   \n",
    "    return metrics.r2_score(y_test,y_pred)"
   ]
  },
  {
   "cell_type": "markdown",
   "metadata": {},
   "source": [
    "### 1. Chi-square"
   ]
  },
  {
   "cell_type": "code",
   "execution_count": 9,
   "metadata": {},
   "outputs": [
    {
     "data": {
      "text/plain": [
       "['MAC3(Ap)', 'MAC4(ECI)', 'MAC4(Ap)', 'MAC5(Ap)', 'MAC6(Ap)', 'MAC7(Ap)']"
      ]
     },
     "execution_count": 9,
     "metadata": {},
     "output_type": "execute_result"
    }
   ],
   "source": [
    "from sklearn.feature_selection import chi2\n",
    "from sklearn.preprocessing import MinMaxScaler\n",
    "from sklearn.feature_selection import SelectKBest\n",
    "X_norm = MinMaxScaler().fit_transform(X)\n",
    "chi_selector = SelectKBest(chi2, k=6)\n",
    "chi_selector.fit(X_norm, y)\n",
    "chi_features = getFeature(chi_selector.get_support())\n",
    "chi_features"
   ]
  },
  {
   "cell_type": "code",
   "execution_count": 10,
   "metadata": {},
   "outputs": [
    {
     "data": {
      "text/html": [
       "<div>\n",
       "<style scoped>\n",
       "    .dataframe tbody tr th:only-of-type {\n",
       "        vertical-align: middle;\n",
       "    }\n",
       "\n",
       "    .dataframe tbody tr th {\n",
       "        vertical-align: top;\n",
       "    }\n",
       "\n",
       "    .dataframe thead th {\n",
       "        text-align: right;\n",
       "    }\n",
       "</style>\n",
       "<table border=\"1\" class=\"dataframe\">\n",
       "  <thead>\n",
       "    <tr style=\"text-align: right;\">\n",
       "      <th></th>\n",
       "      <th>MAC3(Ap)</th>\n",
       "      <th>MAC4(ECI)</th>\n",
       "      <th>MAC4(Ap)</th>\n",
       "      <th>MAC5(Ap)</th>\n",
       "      <th>MAC6(Ap)</th>\n",
       "      <th>MAC7(Ap)</th>\n",
       "    </tr>\n",
       "  </thead>\n",
       "  <tbody>\n",
       "    <tr>\n",
       "      <th>0</th>\n",
       "      <td>1988.32</td>\n",
       "      <td>0.08</td>\n",
       "      <td>1814.01</td>\n",
       "      <td>1764.67</td>\n",
       "      <td>1603.11</td>\n",
       "      <td>1374.12</td>\n",
       "    </tr>\n",
       "    <tr>\n",
       "      <th>1</th>\n",
       "      <td>8055.34</td>\n",
       "      <td>0.50</td>\n",
       "      <td>6956.89</td>\n",
       "      <td>5979.79</td>\n",
       "      <td>6800.44</td>\n",
       "      <td>6203.67</td>\n",
       "    </tr>\n",
       "    <tr>\n",
       "      <th>2</th>\n",
       "      <td>4928.10</td>\n",
       "      <td>0.41</td>\n",
       "      <td>3539.88</td>\n",
       "      <td>2296.57</td>\n",
       "      <td>2540.93</td>\n",
       "      <td>2433.19</td>\n",
       "    </tr>\n",
       "    <tr>\n",
       "      <th>3</th>\n",
       "      <td>5454.37</td>\n",
       "      <td>0.38</td>\n",
       "      <td>5575.22</td>\n",
       "      <td>4668.40</td>\n",
       "      <td>3903.08</td>\n",
       "      <td>4670.11</td>\n",
       "    </tr>\n",
       "    <tr>\n",
       "      <th>4</th>\n",
       "      <td>5882.24</td>\n",
       "      <td>0.45</td>\n",
       "      <td>6164.12</td>\n",
       "      <td>5085.04</td>\n",
       "      <td>4202.42</td>\n",
       "      <td>5022.12</td>\n",
       "    </tr>\n",
       "    <tr>\n",
       "      <th>...</th>\n",
       "      <td>...</td>\n",
       "      <td>...</td>\n",
       "      <td>...</td>\n",
       "      <td>...</td>\n",
       "      <td>...</td>\n",
       "      <td>...</td>\n",
       "    </tr>\n",
       "    <tr>\n",
       "      <th>95</th>\n",
       "      <td>4040.72</td>\n",
       "      <td>0.48</td>\n",
       "      <td>4666.66</td>\n",
       "      <td>3655.56</td>\n",
       "      <td>2850.24</td>\n",
       "      <td>3967.51</td>\n",
       "    </tr>\n",
       "    <tr>\n",
       "      <th>96</th>\n",
       "      <td>4477.34</td>\n",
       "      <td>0.47</td>\n",
       "      <td>4771.52</td>\n",
       "      <td>4249.04</td>\n",
       "      <td>3214.36</td>\n",
       "      <td>4275.58</td>\n",
       "    </tr>\n",
       "    <tr>\n",
       "      <th>97</th>\n",
       "      <td>2934.72</td>\n",
       "      <td>0.15</td>\n",
       "      <td>3515.47</td>\n",
       "      <td>2760.46</td>\n",
       "      <td>2417.63</td>\n",
       "      <td>2607.85</td>\n",
       "    </tr>\n",
       "    <tr>\n",
       "      <th>98</th>\n",
       "      <td>4535.95</td>\n",
       "      <td>0.19</td>\n",
       "      <td>3830.74</td>\n",
       "      <td>2939.84</td>\n",
       "      <td>2996.82</td>\n",
       "      <td>3029.84</td>\n",
       "    </tr>\n",
       "    <tr>\n",
       "      <th>99</th>\n",
       "      <td>3427.69</td>\n",
       "      <td>0.14</td>\n",
       "      <td>2869.13</td>\n",
       "      <td>2388.60</td>\n",
       "      <td>2126.59</td>\n",
       "      <td>2436.67</td>\n",
       "    </tr>\n",
       "  </tbody>\n",
       "</table>\n",
       "<p>100 rows × 6 columns</p>\n",
       "</div>"
      ],
      "text/plain": [
       "    MAC3(Ap)  MAC4(ECI)  MAC4(Ap)  MAC5(Ap)  MAC6(Ap)  MAC7(Ap)\n",
       "0    1988.32       0.08   1814.01   1764.67   1603.11   1374.12\n",
       "1    8055.34       0.50   6956.89   5979.79   6800.44   6203.67\n",
       "2    4928.10       0.41   3539.88   2296.57   2540.93   2433.19\n",
       "3    5454.37       0.38   5575.22   4668.40   3903.08   4670.11\n",
       "4    5882.24       0.45   6164.12   5085.04   4202.42   5022.12\n",
       "..       ...        ...       ...       ...       ...       ...\n",
       "95   4040.72       0.48   4666.66   3655.56   2850.24   3967.51\n",
       "96   4477.34       0.47   4771.52   4249.04   3214.36   4275.58\n",
       "97   2934.72       0.15   3515.47   2760.46   2417.63   2607.85\n",
       "98   4535.95       0.19   3830.74   2939.84   2996.82   3029.84\n",
       "99   3427.69       0.14   2869.13   2388.60   2126.59   2436.67\n",
       "\n",
       "[100 rows x 6 columns]"
      ]
     },
     "execution_count": 10,
     "metadata": {},
     "output_type": "execute_result"
    }
   ],
   "source": [
    "X_chi = X[chi_features]\n",
    "X_chi"
   ]
  },
  {
   "cell_type": "code",
   "execution_count": 19,
   "metadata": {},
   "outputs": [
    {
     "data": {
      "text/plain": [
       "0.5843232433363965"
      ]
     },
     "execution_count": 19,
     "metadata": {},
     "output_type": "execute_result"
    }
   ],
   "source": [
    "X_train,X_test,y_train,y_test=train_test_split(X_chi,y,test_size=0.25,random_state=0)\n",
    "y_pred = myModel(X_train,y_train,X_test,y_test)\n",
    "y_pred"
   ]
  },
  {
   "cell_type": "markdown",
   "metadata": {},
   "source": [
    "### 2. Mutual Information"
   ]
  },
  {
   "cell_type": "code",
   "execution_count": 20,
   "metadata": {},
   "outputs": [
    {
     "data": {
      "text/plain": [
       "['MAC4(Ap)', 'MAC5(Mw)', 'MAC5(At)', 'MAC5(Ap)', 'MAC6(Mw)', 'MAC6(Ap)']"
      ]
     },
     "execution_count": 20,
     "metadata": {},
     "output_type": "execute_result"
    }
   ],
   "source": [
    "from sklearn.feature_selection import mutual_info_classif\n",
    "mi_selector = SelectKBest(mutual_info_classif, k=6)\n",
    "mi_selector.fit(X, y)\n",
    "mi_feature = getFeature(mi_selector.get_support())\n",
    "mi_feature"
   ]
  },
  {
   "cell_type": "code",
   "execution_count": 21,
   "metadata": {},
   "outputs": [
    {
     "data": {
      "text/plain": [
       "0.5873251451932215"
      ]
     },
     "execution_count": 21,
     "metadata": {},
     "output_type": "execute_result"
    }
   ],
   "source": [
    "X_mi = X[mi_feature]\n",
    "X_train,X_test,y_train,y_test=train_test_split(X_mi,y,test_size=0.25,random_state=0)\n",
    "y_pred = myModel(X_train,y_train,X_test,y_test)\n",
    "y_pred"
   ]
  },
  {
   "cell_type": "markdown",
   "metadata": {},
   "source": [
    "### 3. Anova F-value"
   ]
  },
  {
   "cell_type": "code",
   "execution_count": 22,
   "metadata": {},
   "outputs": [
    {
     "data": {
      "text/plain": [
       "['MAC4(IP)', 'MAC4(Ap)', 'MAC5(IP)', 'MAC5(At)', 'MAC5(Ap)', 'MAC7(Ap)']"
      ]
     },
     "execution_count": 22,
     "metadata": {},
     "output_type": "execute_result"
    }
   ],
   "source": [
    "#3 Anova F-value\n",
    "from sklearn.feature_selection import f_classif\n",
    "anov_selector = SelectKBest(f_classif, k=6)\n",
    "anov_selector.fit(X, y)\n",
    "anova_feature = getFeature(anov_selector.get_support())\n",
    "anova_feature"
   ]
  },
  {
   "cell_type": "code",
   "execution_count": 24,
   "metadata": {},
   "outputs": [
    {
     "data": {
      "text/plain": [
       "0.5062165479591421"
      ]
     },
     "execution_count": 24,
     "metadata": {},
     "output_type": "execute_result"
    }
   ],
   "source": [
    "X_anova = X[anova_feature]\n",
    "X_train,X_test,y_train,y_test=train_test_split(X_anova,y,test_size=0.25,random_state=0)\n",
    "y_pred = myModel(X_train,y_train,X_test,y_test)\n",
    "y_pred"
   ]
  },
  {
   "cell_type": "markdown",
   "metadata": {},
   "source": [
    "### 4. Variance Threshold"
   ]
  },
  {
   "cell_type": "code",
   "execution_count": 25,
   "metadata": {},
   "outputs": [
    {
     "data": {
      "text/plain": [
       "77"
      ]
     },
     "execution_count": 25,
     "metadata": {},
     "output_type": "execute_result"
    }
   ],
   "source": [
    "#4 Variance Threshold\n",
    "from sklearn.feature_selection import VarianceThreshold\n",
    "var_selector = VarianceThreshold(threshold=1)\n",
    "var_selector.fit_transform(X)\n",
    "var_feature = getFeature(var_selector.get_support())\n",
    "len(var_feature)"
   ]
  },
  {
   "cell_type": "code",
   "execution_count": 26,
   "metadata": {},
   "outputs": [
    {
     "data": {
      "text/plain": [
       "-18.040047523047928"
      ]
     },
     "execution_count": 26,
     "metadata": {},
     "output_type": "execute_result"
    }
   ],
   "source": [
    "X_thresh = X[var_feature]\n",
    "X_train,X_test,y_train,y_test=train_test_split(X_thresh,y,test_size=0.25,random_state=0)\n",
    "y_pred = myModel(X_train,y_train,X_test,y_test)\n",
    "y_pred"
   ]
  },
  {
   "cell_type": "markdown",
   "metadata": {},
   "source": [
    "### 5. Fisher Score"
   ]
  },
  {
   "cell_type": "code",
   "execution_count": 27,
   "metadata": {},
   "outputs": [
    {
     "data": {
      "text/plain": [
       "Index(['MAC4(ECI)', 'MAC3(Pa)', 'MAC3(ECI)', 'MAC3(Vm)', 'MAC1(ECI)',\n",
       "       'MAC4(Pa)'],\n",
       "      dtype='object')"
      ]
     },
     "execution_count": 27,
     "metadata": {},
     "output_type": "execute_result"
    }
   ],
   "source": [
    "#5. Fisher Score\n",
    "from skfeature.function.similarity_based import fisher_score\n",
    "score = fisher_score.fisher_score(X.to_numpy(), y.to_numpy())\n",
    "X.columns[score[:6]]"
   ]
  },
  {
   "cell_type": "code",
   "execution_count": 28,
   "metadata": {},
   "outputs": [
    {
     "data": {
      "text/plain": [
       "0.18079973119880965"
      ]
     },
     "execution_count": 28,
     "metadata": {},
     "output_type": "execute_result"
    }
   ],
   "source": [
    "X_fisher = X[X.columns[score[:6]]]\n",
    "X_train,X_test,y_train,y_test=train_test_split(X_fisher,y,test_size=0.25,random_state=0)\n",
    "y_pred = myModel(X_train,y_train,X_test,y_test)\n",
    "y_pred"
   ]
  },
  {
   "cell_type": "markdown",
   "metadata": {},
   "source": [
    "### 6. MultiSURF"
   ]
  },
  {
   "cell_type": "code",
   "execution_count": 29,
   "metadata": {},
   "outputs": [
    {
     "data": {
      "text/plain": [
       "MultiSURF(n_features_to_select=Index(['MAC1(Mw)', 'MAC1(HP)', 'MAC1(IP)', 'MAC1(ECI)', 'MAC1(Vm)',\n",
       "       'MAC1(Anp)', 'MAC1(Z1)', 'MAC1(Z2)', 'MAC1(Z3)', 'MAC1(ISA)',\n",
       "       ...\n",
       "       'MAC7(Anp)', 'MAC7(Z1)', 'MAC7(Z2)', 'MAC7(Z3)', 'MAC7(ISA)',\n",
       "       'MAC7(At)', 'MAC7(Ap)', 'MAC7(Pa)', 'MAC7(Pb)', 'MAC7(Pt)'],\n",
       "      dtype='object', length=105),\n",
       "          n_jobs=-1)"
      ]
     },
     "execution_count": 29,
     "metadata": {},
     "output_type": "execute_result"
    }
   ],
   "source": [
    "#6. MultiSURF\n",
    "from skrebate import MultiSURF\n",
    "fs = MultiSURF(n_jobs=-1, n_features_to_select=X.columns)\n",
    "fs.fit(X.values, y.values)\n",
    "fs"
   ]
  },
  {
   "cell_type": "code",
   "execution_count": 30,
   "metadata": {},
   "outputs": [
    {
     "data": {
      "text/plain": [
       "-7.625654383855272"
      ]
     },
     "execution_count": 30,
     "metadata": {},
     "output_type": "execute_result"
    }
   ],
   "source": [
    "X_multi = X[X.columns]\n",
    "X_train,X_test,y_train,y_test=train_test_split(X_multi,y,test_size=0.25,random_state=0)\n",
    "y_pred = myModel(X_train,y_train,X_test,y_test)\n",
    "y_pred"
   ]
  },
  {
   "cell_type": "markdown",
   "metadata": {},
   "source": [
    "### 7. Recursive Feature Elimination"
   ]
  },
  {
   "cell_type": "code",
   "execution_count": 31,
   "metadata": {},
   "outputs": [
    {
     "data": {
      "text/plain": [
       "['MAC3(Vm)', 'MAC3(ISA)', 'MAC3(Pa)', 'MAC4(Anp)', 'MAC4(Pa)', 'MAC5(IP)']"
      ]
     },
     "execution_count": 31,
     "metadata": {},
     "output_type": "execute_result"
    }
   ],
   "source": [
    "from sklearn.feature_selection import RFE\n",
    "from sklearn.linear_model import LogisticRegression\n",
    "rfe_selector = RFE(estimator=LinearRegression(), \n",
    "                   n_features_to_select=6, step=1, verbose=-1)\n",
    "rfe_selector.fit(X_norm, y)\n",
    "rfe_feature = getFeature(rfe_selector.get_support())\n",
    "rfe_feature"
   ]
  },
  {
   "cell_type": "code",
   "execution_count": 32,
   "metadata": {},
   "outputs": [
    {
     "data": {
      "text/plain": [
       "0.5930049667339994"
      ]
     },
     "execution_count": 32,
     "metadata": {},
     "output_type": "execute_result"
    }
   ],
   "source": [
    "X_rec = X[rfe_feature]\n",
    "X_train,X_test,y_train,y_test=train_test_split(X_rec,y,test_size=0.25,random_state=0)\n",
    "y_pred = myModel(X_train,y_train,X_test,y_test)\n",
    "y_pred"
   ]
  },
  {
   "cell_type": "code",
   "execution_count": 33,
   "metadata": {},
   "outputs": [
    {
     "name": "stderr",
     "output_type": "stream",
     "text": [
      "C:\\Users\\User\\anaconda3\\lib\\site-packages\\sklearn\\utils\\validation.py:67: FutureWarning: Pass classifier=False as keyword args. From version 0.25 passing these as positional arguments will result in an error\n",
      "  warnings.warn(\"Pass {} as keyword args. From version 0.25 \"\n",
      "C:\\Users\\User\\anaconda3\\lib\\site-packages\\sklearn\\utils\\validation.py:67: FutureWarning: Pass classifier=False as keyword args. From version 0.25 passing these as positional arguments will result in an error\n",
      "  warnings.warn(\"Pass {} as keyword args. From version 0.25 \"\n"
     ]
    },
    {
     "data": {
      "text/plain": [
       "['MAC1(Vm)', 'MAC1(At)', 'MAC4(Vm)', 'MAC5(Vm)', 'MAC7(Vm)', 'MAC7(At)']"
      ]
     },
     "execution_count": 33,
     "metadata": {},
     "output_type": "execute_result"
    }
   ],
   "source": [
    "from eli5.sklearn import PermutationImportance\n",
    "from sklearn.feature_selection import SelectFromModel\n",
    "from sklearn.linear_model import LogisticRegression\n",
    "perm = PermutationImportance(LinearRegression(), random_state=42, cv=10)\n",
    "perm.fit(X, y)\n",
    "perm_selector = SelectFromModel(perm,max_features=6).fit(X, y)\n",
    "perm_feature = getFeature(perm_selector.get_support())\n",
    "perm_feature"
   ]
  },
  {
   "cell_type": "code",
   "execution_count": 34,
   "metadata": {},
   "outputs": [
    {
     "data": {
      "text/plain": [
       "0.592986831205462"
      ]
     },
     "execution_count": 34,
     "metadata": {},
     "output_type": "execute_result"
    }
   ],
   "source": [
    "X_perm = X[perm_feature]\n",
    "X_train,X_test,y_train,y_test=train_test_split(X_perm,y,test_size=0.25,random_state=0)\n",
    "y_pred = myModel(X_train,y_train,X_test,y_test)\n",
    "y_pred"
   ]
  },
  {
   "cell_type": "markdown",
   "metadata": {},
   "source": [
    "### 9. SHAP"
   ]
  },
  {
   "cell_type": "code",
   "execution_count": 35,
   "metadata": {},
   "outputs": [
    {
     "data": {
      "image/png": "[encoded data removed]",
      "text/plain": [
       "<Figure size 432x288 with 1 Axes>"
      ]
     },
     "metadata": {
      "needs_background": "light"
     },
     "output_type": "display_data"
    }
   ],
   "source": [
    "import shap\n",
    "import xgboost\n",
    "import matplotlib.pylab as pl\n",
    "model = xgboost.train({\"learning_rate\": 0.01}, xgboost.DMatrix(X, label=y), 100)\n",
    "explainer = shap.TreeExplainer(model)\n",
    "shap_values = explainer.shap_values(X)\n",
    "xgboost.plot_importance(model)\n",
    "pl.title(\"xgboost.plot_importance(model)\")\n",
    "pl.show()"
   ]
  },
  {
   "cell_type": "code",
   "execution_count": 36,
   "metadata": {},
   "outputs": [
    {
     "data": {
      "text/plain": [
       "0.6100274063130735"
      ]
     },
     "execution_count": 36,
     "metadata": {},
     "output_type": "execute_result"
    }
   ],
   "source": [
    "X_shap = X[['MAC5(Mw)', 'MAC4(Ap)', 'MAC4(Z1)', 'MAC3(Z2)', 'MAC5(IP)', 'MAC1(IP)']]\n",
    "X_train,X_test,y_train,y_test=train_test_split(X_shap,y,test_size=0.25,random_state=0)\n",
    "y_pred = myModel(X_train,y_train,X_test,y_test)\n",
    "y_pred"
   ]
  },
  {
   "cell_type": "markdown",
   "metadata": {},
   "source": [
    "### 10. Boruta"
   ]
  },
  {
   "cell_type": "code",
   "execution_count": 37,
   "metadata": {},
   "outputs": [
    {
     "data": {
      "text/plain": [
       "BorutaPy(estimator=RandomForestClassifier(class_weight='balanced', max_depth=6,\n",
       "                                          n_estimators=145, n_jobs=-1,\n",
       "                                          random_state=RandomState(MT19937) at 0x293ADD6BB40),\n",
       "         n_estimators='auto',\n",
       "         random_state=RandomState(MT19937) at 0x293ADD6BB40)"
      ]
     },
     "execution_count": 37,
     "metadata": {},
     "output_type": "execute_result"
    }
   ],
   "source": [
    "from boruta import BorutaPy\n",
    "from sklearn.ensemble import RandomForestClassifier\n",
    "rf = RandomForestClassifier(n_jobs=-1, class_weight='balanced', max_depth=6)\n",
    "boru_selector = BorutaPy(rf, n_estimators='auto', verbose=0, random_state=1)\n",
    "boru_selector.fit(X.values, y.values)"
   ]
  },
  {
   "cell_type": "code",
   "execution_count": 38,
   "metadata": {},
   "outputs": [],
   "source": [
    "accept = X.columns[boru_selector.support_].to_list()\n",
    "#accept"
   ]
  },
  {
   "cell_type": "code",
   "execution_count": 39,
   "metadata": {},
   "outputs": [
    {
     "data": {
      "text/plain": [
       "0.4892379289401443"
      ]
     },
     "execution_count": 39,
     "metadata": {},
     "output_type": "execute_result"
    }
   ],
   "source": [
    "X_boruta = X[accept]\n",
    "X_train,X_test,y_train,y_test=train_test_split(X_boruta,y,test_size=0.25,random_state=0)\n",
    "y_pred = myModel(X_train,y_train,X_test,y_test)\n",
    "y_pred"
   ]
  },
  {
   "cell_type": "markdown",
   "metadata": {},
   "source": [
    "### 11. Embedded Random Forest"
   ]
  },
  {
   "cell_type": "code",
   "execution_count": 40,
   "metadata": {},
   "outputs": [
    {
     "data": {
      "text/plain": [
       "['MAC3(Ap)', 'MAC4(Ap)', 'MAC5(Mw)', 'MAC5(At)', 'MAC6(Ap)', 'MAC7(At)']"
      ]
     },
     "execution_count": 40,
     "metadata": {},
     "output_type": "execute_result"
    }
   ],
   "source": [
    "from sklearn.feature_selection import SelectFromModel\n",
    "from sklearn.ensemble import RandomForestClassifier\n",
    "embeded_rf_selector = SelectFromModel(RandomForestClassifier(n_estimators=100, random_state=42), max_features=6)\n",
    "embeded_rf_selector.fit(X, y)\n",
    "embeded_rf_feature = getFeature(embeded_rf_selector.get_support())\n",
    "embeded_rf_feature"
   ]
  },
  {
   "cell_type": "code",
   "execution_count": 41,
   "metadata": {},
   "outputs": [
    {
     "data": {
      "text/plain": [
       "0.5731933114562582"
      ]
     },
     "execution_count": 41,
     "metadata": {},
     "output_type": "execute_result"
    }
   ],
   "source": [
    "X_rf = X[embeded_rf_feature]\n",
    "X_train,X_test,y_train,y_test=train_test_split(X_rf,y,test_size=0.25,random_state=0)\n",
    "y_pred = myModel(X_train,y_train,X_test,y_test)\n",
    "y_pred"
   ]
  },
  {
   "cell_type": "markdown",
   "metadata": {},
   "source": [
    "### 12. Embedded LightGBM"
   ]
  },
  {
   "cell_type": "code",
   "execution_count": 42,
   "metadata": {},
   "outputs": [
    {
     "data": {
      "text/plain": [
       "['MAC1(Mw)', 'MAC1(HP)', 'MAC1(IP)', 'MAC1(ECI)', 'MAC1(Vm)', 'MAC1(Anp)']"
      ]
     },
     "execution_count": 42,
     "metadata": {},
     "output_type": "execute_result"
    }
   ],
   "source": [
    "from lightgbm import LGBMClassifier\n",
    "from sklearn.feature_selection import SelectFromModel\n",
    "lgbc=LGBMClassifier(n_estimators=500, learning_rate=0.05,\n",
    "                    num_leaves=32, colsample_bytree=0.2,                                           \n",
    "                    reg_alpha=3, reg_lambda=1, min_split_gain=0.01,    \n",
    "                    min_child_weight=40)\n",
    "embeded_lgb_selector = SelectFromModel(lgbc, max_features=6)\n",
    "embeded_lgb_selector.fit(X, y)\n",
    "embeded_lgb_feature = getFeature(embeded_lgb_selector.get_support())\n",
    "embeded_lgb_feature"
   ]
  },
  {
   "cell_type": "code",
   "execution_count": 43,
   "metadata": {},
   "outputs": [
    {
     "data": {
      "text/plain": [
       "0.1186533574076285"
      ]
     },
     "execution_count": 43,
     "metadata": {},
     "output_type": "execute_result"
    }
   ],
   "source": [
    "X_lgbm = X[embeded_lgb_feature]\n",
    "X_train,X_test,y_train,y_test=train_test_split(X_lgbm,y,test_size=0.25,random_state=0)\n",
    "y_pred = myModel(X_train,y_train,X_test,y_test)\n",
    "y_pred"
   ]
  },
  {
   "cell_type": "code",
   "execution_count": null,
   "metadata": {},
   "outputs": [],
   "source": []
  }
 ],
 "metadata": {
  "kernelspec": {
   "display_name": "Python 3 (ipykernel)",
   "language": "python",
   "name": "python3"
  },
  "language_info": {
   "codemirror_mode": {
    "name": "ipython",
    "version": 3
   },
   "file_extension": ".py",
   "mimetype": "text/x-python",
   "name": "python",
   "nbconvert_exporter": "python",
   "pygments_lexer": "ipython3",
   "version": "3.9.7"
  }
 },
 "nbformat": 4,
 "nbformat_minor": 4
}
