{
 "cells": [
  {
   "cell_type": "code",
   "execution_count": 2,
   "metadata": {},
   "outputs": [],
   "source": [
    "import pandas as pd\n",
    "import numpy as np\n",
    "from sklearn import metrics"
   ]
  },
  {
   "cell_type": "code",
   "execution_count": 3,
   "metadata": {},
   "outputs": [
    {
     "data": {
      "text/html": [
       "<div>\n",
       "<style scoped>\n",
       "    .dataframe tbody tr th:only-of-type {\n",
       "        vertical-align: middle;\n",
       "    }\n",
       "\n",
       "    .dataframe tbody tr th {\n",
       "        vertical-align: top;\n",
       "    }\n",
       "\n",
       "    .dataframe thead th {\n",
       "        text-align: right;\n",
       "    }\n",
       "</style>\n",
       "<table border=\"1\" class=\"dataframe\">\n",
       "  <thead>\n",
       "    <tr style=\"text-align: right;\">\n",
       "      <th></th>\n",
       "      <th>ID</th>\n",
       "      <th>BEq(cr)</th>\n",
       "      <th>C1_me</th>\n",
       "      <th>C2_bs</th>\n",
       "      <th>MAC1(Mw)</th>\n",
       "      <th>MAC1(HP)</th>\n",
       "      <th>MAC1(IP)</th>\n",
       "      <th>MAC1(ECI)</th>\n",
       "      <th>MAC1(Vm)</th>\n",
       "      <th>MAC1(Anp)</th>\n",
       "      <th>...</th>\n",
       "      <th>MAC7(Z1)</th>\n",
       "      <th>MAC7(Z2)</th>\n",
       "      <th>MAC7(Z3)</th>\n",
       "      <th>MAC7(ISA)</th>\n",
       "      <th>MAC7(At)</th>\n",
       "      <th>MAC7(Ap)</th>\n",
       "      <th>MAC7(Pa)</th>\n",
       "      <th>MAC7(Pb)</th>\n",
       "      <th>MAC7(Pt)</th>\n",
       "      <th>Set</th>\n",
       "    </tr>\n",
       "  </thead>\n",
       "  <tbody>\n",
       "    <tr>\n",
       "      <th>0</th>\n",
       "      <td>1</td>\n",
       "      <td>-1</td>\n",
       "      <td>MIC (uM)</td>\n",
       "      <td>Escherichia coli</td>\n",
       "      <td>18766.50</td>\n",
       "      <td>3.16</td>\n",
       "      <td>77.31</td>\n",
       "      <td>0.28</td>\n",
       "      <td>29700.05</td>\n",
       "      <td>19965.60</td>\n",
       "      <td>...</td>\n",
       "      <td>-2.21</td>\n",
       "      <td>2.66</td>\n",
       "      <td>-0.65</td>\n",
       "      <td>9625.47</td>\n",
       "      <td>25264.62</td>\n",
       "      <td>1374.12</td>\n",
       "      <td>1.48</td>\n",
       "      <td>1.39</td>\n",
       "      <td>0.97</td>\n",
       "      <td>Train</td>\n",
       "    </tr>\n",
       "    <tr>\n",
       "      <th>1</th>\n",
       "      <td>2</td>\n",
       "      <td>1</td>\n",
       "      <td>MIC (uM)</td>\n",
       "      <td>Escherichia coli</td>\n",
       "      <td>22420.21</td>\n",
       "      <td>-4.44</td>\n",
       "      <td>99.13</td>\n",
       "      <td>0.42</td>\n",
       "      <td>32496.79</td>\n",
       "      <td>16664.04</td>\n",
       "      <td>...</td>\n",
       "      <td>3.12</td>\n",
       "      <td>-1.06</td>\n",
       "      <td>1.74</td>\n",
       "      <td>8169.21</td>\n",
       "      <td>39940.07</td>\n",
       "      <td>6203.67</td>\n",
       "      <td>1.57</td>\n",
       "      <td>1.60</td>\n",
       "      <td>1.62</td>\n",
       "      <td>Train</td>\n",
       "    </tr>\n",
       "    <tr>\n",
       "      <th>2</th>\n",
       "      <td>3</td>\n",
       "      <td>-1</td>\n",
       "      <td>HC50 (uM)</td>\n",
       "      <td>Human erythrocytes</td>\n",
       "      <td>27623.55</td>\n",
       "      <td>5.11</td>\n",
       "      <td>91.88</td>\n",
       "      <td>0.49</td>\n",
       "      <td>44321.25</td>\n",
       "      <td>28677.85</td>\n",
       "      <td>...</td>\n",
       "      <td>7.54</td>\n",
       "      <td>-2.37</td>\n",
       "      <td>1.26</td>\n",
       "      <td>13886.31</td>\n",
       "      <td>29654.90</td>\n",
       "      <td>2433.19</td>\n",
       "      <td>1.40</td>\n",
       "      <td>1.24</td>\n",
       "      <td>0.73</td>\n",
       "      <td>Train</td>\n",
       "    </tr>\n",
       "    <tr>\n",
       "      <th>3</th>\n",
       "      <td>4</td>\n",
       "      <td>1</td>\n",
       "      <td>MIC (uM)</td>\n",
       "      <td>Salmonella enterica subsp. enterica serovar Ty...</td>\n",
       "      <td>29326.84</td>\n",
       "      <td>-4.77</td>\n",
       "      <td>98.67</td>\n",
       "      <td>0.31</td>\n",
       "      <td>48094.77</td>\n",
       "      <td>30257.87</td>\n",
       "      <td>...</td>\n",
       "      <td>9.14</td>\n",
       "      <td>1.58</td>\n",
       "      <td>2.09</td>\n",
       "      <td>17344.28</td>\n",
       "      <td>43139.05</td>\n",
       "      <td>4670.11</td>\n",
       "      <td>1.65</td>\n",
       "      <td>1.30</td>\n",
       "      <td>0.85</td>\n",
       "      <td>Train</td>\n",
       "    </tr>\n",
       "    <tr>\n",
       "      <th>4</th>\n",
       "      <td>5</td>\n",
       "      <td>1</td>\n",
       "      <td>MIC (uM)</td>\n",
       "      <td>Escherichia coli</td>\n",
       "      <td>29443.58</td>\n",
       "      <td>-0.25</td>\n",
       "      <td>94.84</td>\n",
       "      <td>0.66</td>\n",
       "      <td>46870.09</td>\n",
       "      <td>28039.24</td>\n",
       "      <td>...</td>\n",
       "      <td>5.41</td>\n",
       "      <td>1.73</td>\n",
       "      <td>1.84</td>\n",
       "      <td>14534.03</td>\n",
       "      <td>42398.55</td>\n",
       "      <td>5022.12</td>\n",
       "      <td>1.64</td>\n",
       "      <td>1.22</td>\n",
       "      <td>0.92</td>\n",
       "      <td>Train</td>\n",
       "    </tr>\n",
       "  </tbody>\n",
       "</table>\n",
       "<p>5 rows × 110 columns</p>\n",
       "</div>"
      ],
      "text/plain": [
       "   ID  BEq(cr)      C1_me                                              C2_bs  \\\n",
       "0   1       -1   MIC (uM)                                   Escherichia coli   \n",
       "1   2        1   MIC (uM)                                   Escherichia coli   \n",
       "2   3       -1  HC50 (uM)                                 Human erythrocytes   \n",
       "3   4        1   MIC (uM)  Salmonella enterica subsp. enterica serovar Ty...   \n",
       "4   5        1   MIC (uM)                                   Escherichia coli   \n",
       "\n",
       "   MAC1(Mw)  MAC1(HP)  MAC1(IP)  MAC1(ECI)  MAC1(Vm)  MAC1(Anp)  ...  \\\n",
       "0  18766.50      3.16     77.31       0.28  29700.05   19965.60  ...   \n",
       "1  22420.21     -4.44     99.13       0.42  32496.79   16664.04  ...   \n",
       "2  27623.55      5.11     91.88       0.49  44321.25   28677.85  ...   \n",
       "3  29326.84     -4.77     98.67       0.31  48094.77   30257.87  ...   \n",
       "4  29443.58     -0.25     94.84       0.66  46870.09   28039.24  ...   \n",
       "\n",
       "   MAC7(Z1)  MAC7(Z2)  MAC7(Z3)  MAC7(ISA)  MAC7(At)  MAC7(Ap)  MAC7(Pa)  \\\n",
       "0     -2.21      2.66     -0.65    9625.47  25264.62   1374.12      1.48   \n",
       "1      3.12     -1.06      1.74    8169.21  39940.07   6203.67      1.57   \n",
       "2      7.54     -2.37      1.26   13886.31  29654.90   2433.19      1.40   \n",
       "3      9.14      1.58      2.09   17344.28  43139.05   4670.11      1.65   \n",
       "4      5.41      1.73      1.84   14534.03  42398.55   5022.12      1.64   \n",
       "\n",
       "   MAC7(Pb)  MAC7(Pt)    Set  \n",
       "0      1.39      0.97  Train  \n",
       "1      1.60      1.62  Train  \n",
       "2      1.24      0.73  Train  \n",
       "3      1.30      0.85  Train  \n",
       "4      1.22      0.92  Train  \n",
       "\n",
       "[5 rows x 110 columns]"
      ]
     },
     "execution_count": 3,
     "metadata": {},
     "output_type": "execute_result"
    }
   ],
   "source": [
    "# Read in data into a dataframe \n",
    "data = pd.read_excel('Data1_Feature_selection.xlsx')\n",
    "# Display top of dataframe\n",
    "data.head()"
   ]
  },
  {
   "cell_type": "code",
   "execution_count": 4,
   "metadata": {},
   "outputs": [
    {
     "data": {
      "text/html": [
       "<div>\n",
       "<style scoped>\n",
       "    .dataframe tbody tr th:only-of-type {\n",
       "        vertical-align: middle;\n",
       "    }\n",
       "\n",
       "    .dataframe tbody tr th {\n",
       "        vertical-align: top;\n",
       "    }\n",
       "\n",
       "    .dataframe thead th {\n",
       "        text-align: right;\n",
       "    }\n",
       "</style>\n",
       "<table border=\"1\" class=\"dataframe\">\n",
       "  <thead>\n",
       "    <tr style=\"text-align: right;\">\n",
       "      <th></th>\n",
       "      <th>MAC1(Mw)</th>\n",
       "      <th>MAC1(HP)</th>\n",
       "      <th>MAC1(IP)</th>\n",
       "      <th>MAC1(ECI)</th>\n",
       "      <th>MAC1(Vm)</th>\n",
       "      <th>MAC1(Anp)</th>\n",
       "      <th>MAC1(Z1)</th>\n",
       "      <th>MAC1(Z2)</th>\n",
       "      <th>MAC1(Z3)</th>\n",
       "      <th>MAC1(ISA)</th>\n",
       "      <th>...</th>\n",
       "      <th>MAC7(Anp)</th>\n",
       "      <th>MAC7(Z1)</th>\n",
       "      <th>MAC7(Z2)</th>\n",
       "      <th>MAC7(Z3)</th>\n",
       "      <th>MAC7(ISA)</th>\n",
       "      <th>MAC7(At)</th>\n",
       "      <th>MAC7(Ap)</th>\n",
       "      <th>MAC7(Pa)</th>\n",
       "      <th>MAC7(Pb)</th>\n",
       "      <th>MAC7(Pt)</th>\n",
       "    </tr>\n",
       "  </thead>\n",
       "  <tbody>\n",
       "    <tr>\n",
       "      <th>0</th>\n",
       "      <td>18766.50</td>\n",
       "      <td>3.16</td>\n",
       "      <td>77.31</td>\n",
       "      <td>0.28</td>\n",
       "      <td>29700.05</td>\n",
       "      <td>19965.60</td>\n",
       "      <td>3.76</td>\n",
       "      <td>3.30</td>\n",
       "      <td>0.76</td>\n",
       "      <td>15053.39</td>\n",
       "      <td>...</td>\n",
       "      <td>13511.82</td>\n",
       "      <td>-2.21</td>\n",
       "      <td>2.66</td>\n",
       "      <td>-0.65</td>\n",
       "      <td>9625.47</td>\n",
       "      <td>25264.62</td>\n",
       "      <td>1374.12</td>\n",
       "      <td>1.48</td>\n",
       "      <td>1.39</td>\n",
       "      <td>0.97</td>\n",
       "    </tr>\n",
       "    <tr>\n",
       "      <th>1</th>\n",
       "      <td>22420.21</td>\n",
       "      <td>-4.44</td>\n",
       "      <td>99.13</td>\n",
       "      <td>0.42</td>\n",
       "      <td>32496.79</td>\n",
       "      <td>16664.04</td>\n",
       "      <td>1.44</td>\n",
       "      <td>-2.59</td>\n",
       "      <td>1.15</td>\n",
       "      <td>9813.25</td>\n",
       "      <td>...</td>\n",
       "      <td>14177.47</td>\n",
       "      <td>3.12</td>\n",
       "      <td>-1.06</td>\n",
       "      <td>1.74</td>\n",
       "      <td>8169.21</td>\n",
       "      <td>39940.07</td>\n",
       "      <td>6203.67</td>\n",
       "      <td>1.57</td>\n",
       "      <td>1.60</td>\n",
       "      <td>1.62</td>\n",
       "    </tr>\n",
       "    <tr>\n",
       "      <th>2</th>\n",
       "      <td>27623.55</td>\n",
       "      <td>5.11</td>\n",
       "      <td>91.88</td>\n",
       "      <td>0.49</td>\n",
       "      <td>44321.25</td>\n",
       "      <td>28677.85</td>\n",
       "      <td>1.74</td>\n",
       "      <td>1.82</td>\n",
       "      <td>2.43</td>\n",
       "      <td>22188.24</td>\n",
       "      <td>...</td>\n",
       "      <td>16639.72</td>\n",
       "      <td>7.54</td>\n",
       "      <td>-2.37</td>\n",
       "      <td>1.26</td>\n",
       "      <td>13886.31</td>\n",
       "      <td>29654.90</td>\n",
       "      <td>2433.19</td>\n",
       "      <td>1.40</td>\n",
       "      <td>1.24</td>\n",
       "      <td>0.73</td>\n",
       "    </tr>\n",
       "    <tr>\n",
       "      <th>3</th>\n",
       "      <td>29326.84</td>\n",
       "      <td>-4.77</td>\n",
       "      <td>98.67</td>\n",
       "      <td>0.31</td>\n",
       "      <td>48094.77</td>\n",
       "      <td>30257.87</td>\n",
       "      <td>-4.08</td>\n",
       "      <td>-1.10</td>\n",
       "      <td>3.55</td>\n",
       "      <td>22535.35</td>\n",
       "      <td>...</td>\n",
       "      <td>21541.75</td>\n",
       "      <td>9.14</td>\n",
       "      <td>1.58</td>\n",
       "      <td>2.09</td>\n",
       "      <td>17344.28</td>\n",
       "      <td>43139.05</td>\n",
       "      <td>4670.11</td>\n",
       "      <td>1.65</td>\n",
       "      <td>1.30</td>\n",
       "      <td>0.85</td>\n",
       "    </tr>\n",
       "    <tr>\n",
       "      <th>4</th>\n",
       "      <td>29443.58</td>\n",
       "      <td>-0.25</td>\n",
       "      <td>94.84</td>\n",
       "      <td>0.66</td>\n",
       "      <td>46870.09</td>\n",
       "      <td>28039.24</td>\n",
       "      <td>1.36</td>\n",
       "      <td>-1.21</td>\n",
       "      <td>3.08</td>\n",
       "      <td>20183.11</td>\n",
       "      <td>...</td>\n",
       "      <td>19492.40</td>\n",
       "      <td>5.41</td>\n",
       "      <td>1.73</td>\n",
       "      <td>1.84</td>\n",
       "      <td>14534.03</td>\n",
       "      <td>42398.55</td>\n",
       "      <td>5022.12</td>\n",
       "      <td>1.64</td>\n",
       "      <td>1.22</td>\n",
       "      <td>0.92</td>\n",
       "    </tr>\n",
       "    <tr>\n",
       "      <th>...</th>\n",
       "      <td>...</td>\n",
       "      <td>...</td>\n",
       "      <td>...</td>\n",
       "      <td>...</td>\n",
       "      <td>...</td>\n",
       "      <td>...</td>\n",
       "      <td>...</td>\n",
       "      <td>...</td>\n",
       "      <td>...</td>\n",
       "      <td>...</td>\n",
       "      <td>...</td>\n",
       "      <td>...</td>\n",
       "      <td>...</td>\n",
       "      <td>...</td>\n",
       "      <td>...</td>\n",
       "      <td>...</td>\n",
       "      <td>...</td>\n",
       "      <td>...</td>\n",
       "      <td>...</td>\n",
       "      <td>...</td>\n",
       "      <td>...</td>\n",
       "    </tr>\n",
       "    <tr>\n",
       "      <th>95</th>\n",
       "      <td>21393.83</td>\n",
       "      <td>-4.59</td>\n",
       "      <td>82.69</td>\n",
       "      <td>0.24</td>\n",
       "      <td>33665.40</td>\n",
       "      <td>20664.90</td>\n",
       "      <td>-4.11</td>\n",
       "      <td>1.93</td>\n",
       "      <td>0.29</td>\n",
       "      <td>12921.03</td>\n",
       "      <td>...</td>\n",
       "      <td>17926.88</td>\n",
       "      <td>0.02</td>\n",
       "      <td>4.13</td>\n",
       "      <td>0.45</td>\n",
       "      <td>11660.37</td>\n",
       "      <td>38477.93</td>\n",
       "      <td>3967.51</td>\n",
       "      <td>1.68</td>\n",
       "      <td>1.76</td>\n",
       "      <td>1.57</td>\n",
       "    </tr>\n",
       "    <tr>\n",
       "      <th>96</th>\n",
       "      <td>22452.96</td>\n",
       "      <td>-4.45</td>\n",
       "      <td>85.24</td>\n",
       "      <td>0.27</td>\n",
       "      <td>34963.22</td>\n",
       "      <td>21181.17</td>\n",
       "      <td>-3.06</td>\n",
       "      <td>1.12</td>\n",
       "      <td>0.95</td>\n",
       "      <td>13371.76</td>\n",
       "      <td>...</td>\n",
       "      <td>19061.72</td>\n",
       "      <td>1.23</td>\n",
       "      <td>2.40</td>\n",
       "      <td>1.15</td>\n",
       "      <td>12599.22</td>\n",
       "      <td>40367.01</td>\n",
       "      <td>4275.58</td>\n",
       "      <td>1.71</td>\n",
       "      <td>1.84</td>\n",
       "      <td>1.54</td>\n",
       "    </tr>\n",
       "    <tr>\n",
       "      <th>97</th>\n",
       "      <td>19829.20</td>\n",
       "      <td>0.65</td>\n",
       "      <td>90.09</td>\n",
       "      <td>0.15</td>\n",
       "      <td>30763.30</td>\n",
       "      <td>20289.06</td>\n",
       "      <td>-2.81</td>\n",
       "      <td>6.40</td>\n",
       "      <td>0.12</td>\n",
       "      <td>12336.33</td>\n",
       "      <td>...</td>\n",
       "      <td>16519.71</td>\n",
       "      <td>4.67</td>\n",
       "      <td>4.70</td>\n",
       "      <td>0.03</td>\n",
       "      <td>11615.95</td>\n",
       "      <td>31043.48</td>\n",
       "      <td>2607.85</td>\n",
       "      <td>1.65</td>\n",
       "      <td>1.64</td>\n",
       "      <td>1.70</td>\n",
       "    </tr>\n",
       "    <tr>\n",
       "      <th>98</th>\n",
       "      <td>25790.01</td>\n",
       "      <td>-1.94</td>\n",
       "      <td>94.54</td>\n",
       "      <td>0.22</td>\n",
       "      <td>41330.55</td>\n",
       "      <td>28753.67</td>\n",
       "      <td>-0.13</td>\n",
       "      <td>-0.45</td>\n",
       "      <td>0.64</td>\n",
       "      <td>20896.43</td>\n",
       "      <td>...</td>\n",
       "      <td>19421.73</td>\n",
       "      <td>-2.08</td>\n",
       "      <td>1.30</td>\n",
       "      <td>0.78</td>\n",
       "      <td>12649.15</td>\n",
       "      <td>39358.34</td>\n",
       "      <td>3029.84</td>\n",
       "      <td>1.68</td>\n",
       "      <td>1.63</td>\n",
       "      <td>1.33</td>\n",
       "    </tr>\n",
       "    <tr>\n",
       "      <th>99</th>\n",
       "      <td>20815.13</td>\n",
       "      <td>-2.17</td>\n",
       "      <td>82.65</td>\n",
       "      <td>0.11</td>\n",
       "      <td>32843.57</td>\n",
       "      <td>23601.45</td>\n",
       "      <td>-1.08</td>\n",
       "      <td>-0.19</td>\n",
       "      <td>-0.64</td>\n",
       "      <td>16174.81</td>\n",
       "      <td>...</td>\n",
       "      <td>15807.11</td>\n",
       "      <td>0.16</td>\n",
       "      <td>5.51</td>\n",
       "      <td>0.49</td>\n",
       "      <td>10332.70</td>\n",
       "      <td>31060.28</td>\n",
       "      <td>2436.67</td>\n",
       "      <td>1.45</td>\n",
       "      <td>1.42</td>\n",
       "      <td>1.33</td>\n",
       "    </tr>\n",
       "  </tbody>\n",
       "</table>\n",
       "<p>100 rows × 105 columns</p>\n",
       "</div>"
      ],
      "text/plain": [
       "    MAC1(Mw)  MAC1(HP)  MAC1(IP)  MAC1(ECI)  MAC1(Vm)  MAC1(Anp)  MAC1(Z1)  \\\n",
       "0   18766.50      3.16     77.31       0.28  29700.05   19965.60      3.76   \n",
       "1   22420.21     -4.44     99.13       0.42  32496.79   16664.04      1.44   \n",
       "2   27623.55      5.11     91.88       0.49  44321.25   28677.85      1.74   \n",
       "3   29326.84     -4.77     98.67       0.31  48094.77   30257.87     -4.08   \n",
       "4   29443.58     -0.25     94.84       0.66  46870.09   28039.24      1.36   \n",
       "..       ...       ...       ...        ...       ...        ...       ...   \n",
       "95  21393.83     -4.59     82.69       0.24  33665.40   20664.90     -4.11   \n",
       "96  22452.96     -4.45     85.24       0.27  34963.22   21181.17     -3.06   \n",
       "97  19829.20      0.65     90.09       0.15  30763.30   20289.06     -2.81   \n",
       "98  25790.01     -1.94     94.54       0.22  41330.55   28753.67     -0.13   \n",
       "99  20815.13     -2.17     82.65       0.11  32843.57   23601.45     -1.08   \n",
       "\n",
       "    MAC1(Z2)  MAC1(Z3)  MAC1(ISA)  ...  MAC7(Anp)  MAC7(Z1)  MAC7(Z2)  \\\n",
       "0       3.30      0.76   15053.39  ...   13511.82     -2.21      2.66   \n",
       "1      -2.59      1.15    9813.25  ...   14177.47      3.12     -1.06   \n",
       "2       1.82      2.43   22188.24  ...   16639.72      7.54     -2.37   \n",
       "3      -1.10      3.55   22535.35  ...   21541.75      9.14      1.58   \n",
       "4      -1.21      3.08   20183.11  ...   19492.40      5.41      1.73   \n",
       "..       ...       ...        ...  ...        ...       ...       ...   \n",
       "95      1.93      0.29   12921.03  ...   17926.88      0.02      4.13   \n",
       "96      1.12      0.95   13371.76  ...   19061.72      1.23      2.40   \n",
       "97      6.40      0.12   12336.33  ...   16519.71      4.67      4.70   \n",
       "98     -0.45      0.64   20896.43  ...   19421.73     -2.08      1.30   \n",
       "99     -0.19     -0.64   16174.81  ...   15807.11      0.16      5.51   \n",
       "\n",
       "    MAC7(Z3)  MAC7(ISA)  MAC7(At)  MAC7(Ap)  MAC7(Pa)  MAC7(Pb)  MAC7(Pt)  \n",
       "0      -0.65    9625.47  25264.62   1374.12      1.48      1.39      0.97  \n",
       "1       1.74    8169.21  39940.07   6203.67      1.57      1.60      1.62  \n",
       "2       1.26   13886.31  29654.90   2433.19      1.40      1.24      0.73  \n",
       "3       2.09   17344.28  43139.05   4670.11      1.65      1.30      0.85  \n",
       "4       1.84   14534.03  42398.55   5022.12      1.64      1.22      0.92  \n",
       "..       ...        ...       ...       ...       ...       ...       ...  \n",
       "95      0.45   11660.37  38477.93   3967.51      1.68      1.76      1.57  \n",
       "96      1.15   12599.22  40367.01   4275.58      1.71      1.84      1.54  \n",
       "97      0.03   11615.95  31043.48   2607.85      1.65      1.64      1.70  \n",
       "98      0.78   12649.15  39358.34   3029.84      1.68      1.63      1.33  \n",
       "99      0.49   10332.70  31060.28   2436.67      1.45      1.42      1.33  \n",
       "\n",
       "[100 rows x 105 columns]"
      ]
     },
     "execution_count": 4,
     "metadata": {},
     "output_type": "execute_result"
    }
   ],
   "source": [
    "X = data.drop(columns =['ID','BEq(cr)','C1_me','C2_bs','Set'])\n",
    "X"
   ]
  },
  {
   "cell_type": "code",
   "execution_count": 5,
   "metadata": {},
   "outputs": [
    {
     "data": {
      "text/plain": [
       "0    -1\n",
       "1     1\n",
       "2    -1\n",
       "3     1\n",
       "4     1\n",
       "     ..\n",
       "95    1\n",
       "96    1\n",
       "97   -1\n",
       "98    1\n",
       "99   -1\n",
       "Name: BEq(cr), Length: 100, dtype: int64"
      ]
     },
     "execution_count": 5,
     "metadata": {},
     "output_type": "execute_result"
    }
   ],
   "source": [
    "y = data['BEq(cr)']\n",
    "y"
   ]
  },
  {
   "cell_type": "code",
   "execution_count": 6,
   "metadata": {},
   "outputs": [
    {
     "data": {
      "text/plain": [
       "pandas.core.series.Series"
      ]
     },
     "execution_count": 6,
     "metadata": {},
     "output_type": "execute_result"
    }
   ],
   "source": [
    "type(y)"
   ]
  },
  {
   "cell_type": "code",
   "execution_count": 7,
   "metadata": {},
   "outputs": [],
   "source": [
    "def getFeature(mask):\n",
    "    new_features = [] # The list of your K best features\n",
    "\n",
    "    for bool, feature in zip(mask, X.columns):\n",
    "        if bool:\n",
    "            new_features.append(feature)\n",
    "            \n",
    "    return new_features"
   ]
  },
  {
   "cell_type": "code",
   "execution_count": 8,
   "metadata": {},
   "outputs": [],
   "source": [
    "def myModel(myX,myY,X_test):\n",
    "    # instantiate the model (using the default parameters)\n",
    "    logreg = LogisticRegression()\n",
    "\n",
    "    # fit the model with data\n",
    "    logreg.fit(myX,myY)\n",
    "\n",
    "    # get predict\n",
    "    y_pred=logreg.predict(X_test)\n",
    "    \n",
    "    return y_pred\n",
    "   "
   ]
  },
  {
   "cell_type": "markdown",
   "metadata": {},
   "source": [
    "### 1. Chi-square"
   ]
  },
  {
   "cell_type": "code",
   "execution_count": 9,
   "metadata": {},
   "outputs": [
    {
     "data": {
      "text/plain": [
       "['MAC3(Ap)', 'MAC4(ECI)', 'MAC4(Ap)', 'MAC5(Ap)', 'MAC6(Ap)', 'MAC7(Ap)']"
      ]
     },
     "execution_count": 9,
     "metadata": {},
     "output_type": "execute_result"
    }
   ],
   "source": [
    "from sklearn.feature_selection import chi2\n",
    "from sklearn.preprocessing import MinMaxScaler\n",
    "from sklearn.feature_selection import SelectKBest\n",
    "X_norm = MinMaxScaler().fit_transform(X)\n",
    "chi_selector = SelectKBest(chi2, k=6)\n",
    "chi_selector.fit(X_norm, y)\n",
    "chi_features = getFeature(chi_selector.get_support())\n",
    "chi_features"
   ]
  },
  {
   "cell_type": "code",
   "execution_count": 10,
   "metadata": {},
   "outputs": [
    {
     "data": {
      "text/html": [
       "<div>\n",
       "<style scoped>\n",
       "    .dataframe tbody tr th:only-of-type {\n",
       "        vertical-align: middle;\n",
       "    }\n",
       "\n",
       "    .dataframe tbody tr th {\n",
       "        vertical-align: top;\n",
       "    }\n",
       "\n",
       "    .dataframe thead th {\n",
       "        text-align: right;\n",
       "    }\n",
       "</style>\n",
       "<table border=\"1\" class=\"dataframe\">\n",
       "  <thead>\n",
       "    <tr style=\"text-align: right;\">\n",
       "      <th></th>\n",
       "      <th>MAC3(Ap)</th>\n",
       "      <th>MAC4(ECI)</th>\n",
       "      <th>MAC4(Ap)</th>\n",
       "      <th>MAC5(Ap)</th>\n",
       "      <th>MAC6(Ap)</th>\n",
       "      <th>MAC7(Ap)</th>\n",
       "    </tr>\n",
       "  </thead>\n",
       "  <tbody>\n",
       "    <tr>\n",
       "      <th>0</th>\n",
       "      <td>1988.32</td>\n",
       "      <td>0.08</td>\n",
       "      <td>1814.01</td>\n",
       "      <td>1764.67</td>\n",
       "      <td>1603.11</td>\n",
       "      <td>1374.12</td>\n",
       "    </tr>\n",
       "    <tr>\n",
       "      <th>1</th>\n",
       "      <td>8055.34</td>\n",
       "      <td>0.50</td>\n",
       "      <td>6956.89</td>\n",
       "      <td>5979.79</td>\n",
       "      <td>6800.44</td>\n",
       "      <td>6203.67</td>\n",
       "    </tr>\n",
       "    <tr>\n",
       "      <th>2</th>\n",
       "      <td>4928.10</td>\n",
       "      <td>0.41</td>\n",
       "      <td>3539.88</td>\n",
       "      <td>2296.57</td>\n",
       "      <td>2540.93</td>\n",
       "      <td>2433.19</td>\n",
       "    </tr>\n",
       "    <tr>\n",
       "      <th>3</th>\n",
       "      <td>5454.37</td>\n",
       "      <td>0.38</td>\n",
       "      <td>5575.22</td>\n",
       "      <td>4668.40</td>\n",
       "      <td>3903.08</td>\n",
       "      <td>4670.11</td>\n",
       "    </tr>\n",
       "    <tr>\n",
       "      <th>4</th>\n",
       "      <td>5882.24</td>\n",
       "      <td>0.45</td>\n",
       "      <td>6164.12</td>\n",
       "      <td>5085.04</td>\n",
       "      <td>4202.42</td>\n",
       "      <td>5022.12</td>\n",
       "    </tr>\n",
       "    <tr>\n",
       "      <th>...</th>\n",
       "      <td>...</td>\n",
       "      <td>...</td>\n",
       "      <td>...</td>\n",
       "      <td>...</td>\n",
       "      <td>...</td>\n",
       "      <td>...</td>\n",
       "    </tr>\n",
       "    <tr>\n",
       "      <th>95</th>\n",
       "      <td>4040.72</td>\n",
       "      <td>0.48</td>\n",
       "      <td>4666.66</td>\n",
       "      <td>3655.56</td>\n",
       "      <td>2850.24</td>\n",
       "      <td>3967.51</td>\n",
       "    </tr>\n",
       "    <tr>\n",
       "      <th>96</th>\n",
       "      <td>4477.34</td>\n",
       "      <td>0.47</td>\n",
       "      <td>4771.52</td>\n",
       "      <td>4249.04</td>\n",
       "      <td>3214.36</td>\n",
       "      <td>4275.58</td>\n",
       "    </tr>\n",
       "    <tr>\n",
       "      <th>97</th>\n",
       "      <td>2934.72</td>\n",
       "      <td>0.15</td>\n",
       "      <td>3515.47</td>\n",
       "      <td>2760.46</td>\n",
       "      <td>2417.63</td>\n",
       "      <td>2607.85</td>\n",
       "    </tr>\n",
       "    <tr>\n",
       "      <th>98</th>\n",
       "      <td>4535.95</td>\n",
       "      <td>0.19</td>\n",
       "      <td>3830.74</td>\n",
       "      <td>2939.84</td>\n",
       "      <td>2996.82</td>\n",
       "      <td>3029.84</td>\n",
       "    </tr>\n",
       "    <tr>\n",
       "      <th>99</th>\n",
       "      <td>3427.69</td>\n",
       "      <td>0.14</td>\n",
       "      <td>2869.13</td>\n",
       "      <td>2388.60</td>\n",
       "      <td>2126.59</td>\n",
       "      <td>2436.67</td>\n",
       "    </tr>\n",
       "  </tbody>\n",
       "</table>\n",
       "<p>100 rows × 6 columns</p>\n",
       "</div>"
      ],
      "text/plain": [
       "    MAC3(Ap)  MAC4(ECI)  MAC4(Ap)  MAC5(Ap)  MAC6(Ap)  MAC7(Ap)\n",
       "0    1988.32       0.08   1814.01   1764.67   1603.11   1374.12\n",
       "1    8055.34       0.50   6956.89   5979.79   6800.44   6203.67\n",
       "2    4928.10       0.41   3539.88   2296.57   2540.93   2433.19\n",
       "3    5454.37       0.38   5575.22   4668.40   3903.08   4670.11\n",
       "4    5882.24       0.45   6164.12   5085.04   4202.42   5022.12\n",
       "..       ...        ...       ...       ...       ...       ...\n",
       "95   4040.72       0.48   4666.66   3655.56   2850.24   3967.51\n",
       "96   4477.34       0.47   4771.52   4249.04   3214.36   4275.58\n",
       "97   2934.72       0.15   3515.47   2760.46   2417.63   2607.85\n",
       "98   4535.95       0.19   3830.74   2939.84   2996.82   3029.84\n",
       "99   3427.69       0.14   2869.13   2388.60   2126.59   2436.67\n",
       "\n",
       "[100 rows x 6 columns]"
      ]
     },
     "execution_count": 10,
     "metadata": {},
     "output_type": "execute_result"
    }
   ],
   "source": [
    "X_chi = X[chi_features]\n",
    "X_chi"
   ]
  },
  {
   "cell_type": "code",
   "execution_count": 11,
   "metadata": {},
   "outputs": [],
   "source": [
    "from sklearn.model_selection import train_test_split\n",
    "# import the class\n",
    "from sklearn.linear_model import LogisticRegression"
   ]
  },
  {
   "cell_type": "code",
   "execution_count": 12,
   "metadata": {},
   "outputs": [
    {
     "name": "stdout",
     "output_type": "stream",
     "text": [
      "Accuracy: 0.88\n",
      "Precision: 0.8\n",
      "Recall: 0.8888888888888888\n"
     ]
    }
   ],
   "source": [
    "X_train,X_test,y_train,y_test=train_test_split(X_chi,y,test_size=0.25,random_state=0)\n",
    "y_pred = myModel(X_train,y_train,X_test)\n",
    "chi_acc = metrics.accuracy_score(y_test, y_pred)\n",
    "print(\"Accuracy:\",metrics.accuracy_score(y_test, y_pred))\n",
    "print(\"Precision:\",metrics.precision_score(y_test, y_pred))\n",
    "print(\"Recall:\",metrics.recall_score(y_test, y_pred))"
   ]
  },
  {
   "cell_type": "markdown",
   "metadata": {},
   "source": [
    "### 2. Mutual Information"
   ]
  },
  {
   "cell_type": "code",
   "execution_count": 13,
   "metadata": {},
   "outputs": [
    {
     "data": {
      "text/plain": [
       "['MAC4(Ap)', 'MAC5(Mw)', 'MAC5(At)', 'MAC5(Ap)', 'MAC6(Mw)', 'MAC6(Ap)']"
      ]
     },
     "execution_count": 13,
     "metadata": {},
     "output_type": "execute_result"
    }
   ],
   "source": [
    "from sklearn.feature_selection import mutual_info_classif\n",
    "mi_selector = SelectKBest(mutual_info_classif, k=6)\n",
    "mi_selector.fit(X, y)\n",
    "mi_feature = getFeature(mi_selector.get_support())\n",
    "mi_feature"
   ]
  },
  {
   "cell_type": "code",
   "execution_count": 14,
   "metadata": {},
   "outputs": [
    {
     "name": "stdout",
     "output_type": "stream",
     "text": [
      "Accuracy: 0.76\n",
      "Precision: 0.6666666666666666\n",
      "Recall: 0.6666666666666666\n"
     ]
    }
   ],
   "source": [
    "X_mi = X[mi_feature]\n",
    "X_train,X_test,y_train,y_test=train_test_split(X_mi,y,test_size=0.25,random_state=0)\n",
    "y_pred = myModel(X_train,y_train,X_test)\n",
    "mi_acc = metrics.accuracy_score(y_test, y_pred)\n",
    "print(\"Accuracy:\",metrics.accuracy_score(y_test, y_pred))\n",
    "print(\"Precision:\",metrics.precision_score(y_test, y_pred))\n",
    "print(\"Recall:\",metrics.recall_score(y_test, y_pred))"
   ]
  },
  {
   "cell_type": "markdown",
   "metadata": {},
   "source": [
    "### 3. Anova F-value"
   ]
  },
  {
   "cell_type": "code",
   "execution_count": 15,
   "metadata": {},
   "outputs": [
    {
     "data": {
      "text/plain": [
       "['MAC4(IP)', 'MAC4(Ap)', 'MAC5(IP)', 'MAC5(At)', 'MAC5(Ap)', 'MAC7(Ap)']"
      ]
     },
     "execution_count": 15,
     "metadata": {},
     "output_type": "execute_result"
    }
   ],
   "source": [
    "#3 Anova F-value\n",
    "from sklearn.feature_selection import f_classif\n",
    "anov_selector = SelectKBest(f_classif, k=6)\n",
    "anov_selector.fit(X, y)\n",
    "anova_feature = getFeature(anov_selector.get_support())\n",
    "anova_feature"
   ]
  },
  {
   "cell_type": "code",
   "execution_count": 16,
   "metadata": {},
   "outputs": [
    {
     "name": "stdout",
     "output_type": "stream",
     "text": [
      "Accuracy: 0.8\n",
      "Precision: 0.7\n",
      "Recall: 0.7777777777777778\n"
     ]
    }
   ],
   "source": [
    "X_anova = X[anova_feature]\n",
    "X_train,X_test,y_train,y_test=train_test_split(X_anova,y,test_size=0.25,random_state=0)\n",
    "y_pred = myModel(X_train,y_train,X_test)\n",
    "anova_acc = metrics.accuracy_score(y_test, y_pred)\n",
    "print(\"Accuracy:\",metrics.accuracy_score(y_test, y_pred))\n",
    "print(\"Precision:\",metrics.precision_score(y_test, y_pred))\n",
    "print(\"Recall:\",metrics.recall_score(y_test, y_pred))"
   ]
  },
  {
   "cell_type": "markdown",
   "metadata": {},
   "source": [
    "### 4. Variance Threshold"
   ]
  },
  {
   "cell_type": "code",
   "execution_count": 17,
   "metadata": {},
   "outputs": [
    {
     "data": {
      "text/plain": [
       "77"
      ]
     },
     "execution_count": 17,
     "metadata": {},
     "output_type": "execute_result"
    }
   ],
   "source": [
    "#4 Variance Threshold\n",
    "from sklearn.feature_selection import VarianceThreshold\n",
    "var_selector = VarianceThreshold(threshold=1)\n",
    "var_selector.fit_transform(X)\n",
    "var_feature = getFeature(var_selector.get_support())\n",
    "len(var_feature)"
   ]
  },
  {
   "cell_type": "code",
   "execution_count": 18,
   "metadata": {},
   "outputs": [
    {
     "name": "stdout",
     "output_type": "stream",
     "text": [
      "Accuracy: 0.72\n",
      "Precision: 0.5714285714285714\n",
      "Recall: 0.8888888888888888\n"
     ]
    },
    {
     "name": "stderr",
     "output_type": "stream",
     "text": [
      "/home/jupyter-samariddin/.local/lib/python3.9/site-packages/sklearn/linear_model/_logistic.py:814: ConvergenceWarning: lbfgs failed to converge (status=1):\n",
      "STOP: TOTAL NO. of ITERATIONS REACHED LIMIT.\n",
      "\n",
      "Increase the number of iterations (max_iter) or scale the data as shown in:\n",
      "    https://scikit-learn.org/stable/modules/preprocessing.html\n",
      "Please also refer to the documentation for alternative solver options:\n",
      "    https://scikit-learn.org/stable/modules/linear_model.html#logistic-regression\n",
      "  n_iter_i = _check_optimize_result(\n"
     ]
    }
   ],
   "source": [
    "X_thresh = X[var_feature]\n",
    "X_train,X_test,y_train,y_test=train_test_split(X_thresh,y,test_size=0.25,random_state=0)\n",
    "y_pred = myModel(X_train,y_train,X_test)\n",
    "thresh_acc = metrics.accuracy_score(y_test, y_pred)\n",
    "print(\"Accuracy:\",metrics.accuracy_score(y_test, y_pred))\n",
    "print(\"Precision:\",metrics.precision_score(y_test, y_pred))\n",
    "print(\"Recall:\",metrics.recall_score(y_test, y_pred))"
   ]
  },
  {
   "cell_type": "markdown",
   "metadata": {},
   "source": [
    "### 5. Fisher Score"
   ]
  },
  {
   "cell_type": "code",
   "execution_count": 20,
   "metadata": {},
   "outputs": [
    {
     "data": {
      "text/plain": [
       "Index(['MAC4(ECI)', 'MAC3(Pa)', 'MAC3(ECI)', 'MAC3(Vm)', 'MAC1(ECI)',\n",
       "       'MAC4(Pa)'],\n",
       "      dtype='object')"
      ]
     },
     "execution_count": 20,
     "metadata": {},
     "output_type": "execute_result"
    }
   ],
   "source": [
    "#5. Fisher Score\n",
    "from skfeature.function.similarity_based import fisher_score\n",
    "score = fisher_score.fisher_score(X.to_numpy(), y.to_numpy())\n",
    "X.columns[score[:6]]"
   ]
  },
  {
   "cell_type": "code",
   "execution_count": 21,
   "metadata": {},
   "outputs": [
    {
     "name": "stdout",
     "output_type": "stream",
     "text": [
      "Accuracy: 0.64\n",
      "Precision: 0.0\n",
      "Recall: 0.0\n"
     ]
    },
    {
     "name": "stderr",
     "output_type": "stream",
     "text": [
      "/home/jupyter-samariddin/.local/lib/python3.9/site-packages/sklearn/metrics/_classification.py:1318: UndefinedMetricWarning: Precision is ill-defined and being set to 0.0 due to no predicted samples. Use `zero_division` parameter to control this behavior.\n",
      "  _warn_prf(average, modifier, msg_start, len(result))\n"
     ]
    }
   ],
   "source": [
    "X_fisher = X[X.columns[score[:6]]]\n",
    "X_train,X_test,y_train,y_test=train_test_split(X_fisher,y,test_size=0.25,random_state=0)\n",
    "y_pred = myModel(X_train,y_train,X_test)\n",
    "fisher_acc = metrics.accuracy_score(y_test, y_pred)\n",
    "print(\"Accuracy:\",metrics.accuracy_score(y_test, y_pred))\n",
    "print(\"Precision:\",metrics.precision_score(y_test, y_pred))\n",
    "print(\"Recall:\",metrics.recall_score(y_test, y_pred))"
   ]
  },
  {
   "cell_type": "markdown",
   "metadata": {},
   "source": [
    "### 6. MultiSURF"
   ]
  },
  {
   "cell_type": "code",
   "execution_count": 22,
   "metadata": {},
   "outputs": [
    {
     "data": {
      "text/plain": [
       "MultiSURF(n_features_to_select=Index(['MAC1(Mw)', 'MAC1(HP)', 'MAC1(IP)', 'MAC1(ECI)', 'MAC1(Vm)',\n",
       "       'MAC1(Anp)', 'MAC1(Z1)', 'MAC1(Z2)', 'MAC1(Z3)', 'MAC1(ISA)',\n",
       "       ...\n",
       "       'MAC7(Anp)', 'MAC7(Z1)', 'MAC7(Z2)', 'MAC7(Z3)', 'MAC7(ISA)',\n",
       "       'MAC7(At)', 'MAC7(Ap)', 'MAC7(Pa)', 'MAC7(Pb)', 'MAC7(Pt)'],\n",
       "      dtype='object', length=105),\n",
       "          n_jobs=-1)"
      ]
     },
     "execution_count": 22,
     "metadata": {},
     "output_type": "execute_result"
    }
   ],
   "source": [
    "#6. MultiSURF\n",
    "from skrebate import MultiSURF\n",
    "fs = MultiSURF(n_jobs=-1, n_features_to_select=X.columns)\n",
    "fs.fit(X.values, y.values)\n",
    "fs"
   ]
  },
  {
   "cell_type": "code",
   "execution_count": 23,
   "metadata": {},
   "outputs": [
    {
     "name": "stdout",
     "output_type": "stream",
     "text": [
      "Accuracy: 0.72\n",
      "Precision: 0.5714285714285714\n",
      "Recall: 0.8888888888888888\n"
     ]
    },
    {
     "name": "stderr",
     "output_type": "stream",
     "text": [
      "/home/jupyter-samariddin/.local/lib/python3.9/site-packages/sklearn/linear_model/_logistic.py:814: ConvergenceWarning: lbfgs failed to converge (status=1):\n",
      "STOP: TOTAL NO. of ITERATIONS REACHED LIMIT.\n",
      "\n",
      "Increase the number of iterations (max_iter) or scale the data as shown in:\n",
      "    https://scikit-learn.org/stable/modules/preprocessing.html\n",
      "Please also refer to the documentation for alternative solver options:\n",
      "    https://scikit-learn.org/stable/modules/linear_model.html#logistic-regression\n",
      "  n_iter_i = _check_optimize_result(\n"
     ]
    }
   ],
   "source": [
    "X_multi = X[X.columns]\n",
    "X_train,X_test,y_train,y_test=train_test_split(X_multi,y,test_size=0.25,random_state=0)\n",
    "y_pred = myModel(X_train,y_train,X_test)\n",
    "multi_acc = metrics.accuracy_score(y_test, y_pred)\n",
    "print(\"Accuracy:\",metrics.accuracy_score(y_test, y_pred))\n",
    "print(\"Precision:\",metrics.precision_score(y_test, y_pred))\n",
    "print(\"Recall:\",metrics.recall_score(y_test, y_pred))"
   ]
  },
  {
   "cell_type": "markdown",
   "metadata": {},
   "source": [
    "### 7. Recursive Feature Elimination"
   ]
  },
  {
   "cell_type": "code",
   "execution_count": 24,
   "metadata": {},
   "outputs": [
    {
     "data": {
      "text/plain": [
       "['MAC3(IP)', 'MAC4(Ap)', 'MAC5(Mw)', 'MAC5(IP)', 'MAC5(Ap)', 'MAC7(At)']"
      ]
     },
     "execution_count": 24,
     "metadata": {},
     "output_type": "execute_result"
    }
   ],
   "source": [
    "from sklearn.feature_selection import RFE\n",
    "from sklearn.linear_model import LogisticRegression\n",
    "rfe_selector = RFE(estimator=LogisticRegression(), \n",
    "                   n_features_to_select=6, step=1, verbose=-1)\n",
    "rfe_selector.fit(X_norm, y)\n",
    "rfe_feature = getFeature(rfe_selector.get_support())\n",
    "rfe_feature"
   ]
  },
  {
   "cell_type": "code",
   "execution_count": 25,
   "metadata": {},
   "outputs": [
    {
     "name": "stdout",
     "output_type": "stream",
     "text": [
      "Accuracy: 0.92\n",
      "Precision: 0.8888888888888888\n",
      "Recall: 0.8888888888888888\n"
     ]
    }
   ],
   "source": [
    "X_rec = X[rfe_feature]\n",
    "X_train,X_test,y_train,y_test=train_test_split(X_rec,y,test_size=0.25,random_state=0)\n",
    "y_pred = myModel(X_train,y_train,X_test)\n",
    "rec_acc = metrics.accuracy_score(y_test, y_pred)\n",
    "print(\"Accuracy:\",metrics.accuracy_score(y_test, y_pred))\n",
    "print(\"Precision:\",metrics.precision_score(y_test, y_pred))\n",
    "print(\"Recall:\",metrics.recall_score(y_test, y_pred))"
   ]
  },
  {
   "cell_type": "markdown",
   "metadata": {},
   "source": [
    "### 8. Permutation Importance"
   ]
  },
  {
   "cell_type": "code",
   "execution_count": 39,
   "metadata": {},
   "outputs": [
    {
     "ename": "AttributeError",
     "evalue": "module 'jinja2.ext' has no attribute 'with_'",
     "output_type": "error",
     "traceback": [
      "\u001b[0;31m---------------------------------------------------------------------------\u001b[0m",
      "\u001b[0;31mAttributeError\u001b[0m                            Traceback (most recent call last)",
      "Input \u001b[0;32mIn [39]\u001b[0m, in \u001b[0;36m<cell line: 1>\u001b[0;34m()\u001b[0m\n\u001b[0;32m----> 1\u001b[0m \u001b[38;5;28;01mfrom\u001b[39;00m \u001b[38;5;21;01meli5\u001b[39;00m\u001b[38;5;21;01m.\u001b[39;00m\u001b[38;5;21;01msklearn\u001b[39;00m \u001b[38;5;28;01mimport\u001b[39;00m PermutationImportance\n\u001b[1;32m      2\u001b[0m \u001b[38;5;28;01mfrom\u001b[39;00m \u001b[38;5;21;01msklearn\u001b[39;00m\u001b[38;5;21;01m.\u001b[39;00m\u001b[38;5;21;01mfeature_selection\u001b[39;00m \u001b[38;5;28;01mimport\u001b[39;00m SelectFromModel\n\u001b[1;32m      3\u001b[0m \u001b[38;5;28;01mfrom\u001b[39;00m \u001b[38;5;21;01msklearn\u001b[39;00m\u001b[38;5;21;01m.\u001b[39;00m\u001b[38;5;21;01mlinear_model\u001b[39;00m \u001b[38;5;28;01mimport\u001b[39;00m LogisticRegression\n",
      "File \u001b[0;32m~/.local/lib/python3.9/site-packages/eli5/__init__.py:6\u001b[0m, in \u001b[0;36m<module>\u001b[0;34m\u001b[0m\n\u001b[1;32m      2\u001b[0m \u001b[38;5;28;01mfrom\u001b[39;00m \u001b[38;5;21;01m__future__\u001b[39;00m \u001b[38;5;28;01mimport\u001b[39;00m absolute_import\n\u001b[1;32m      4\u001b[0m __version__ \u001b[38;5;241m=\u001b[39m \u001b[38;5;124m'\u001b[39m\u001b[38;5;124m0.11.0\u001b[39m\u001b[38;5;124m'\u001b[39m\n\u001b[0;32m----> 6\u001b[0m \u001b[38;5;28;01mfrom\u001b[39;00m \u001b[38;5;21;01m.\u001b[39;00m\u001b[38;5;21;01mformatters\u001b[39;00m \u001b[38;5;28;01mimport\u001b[39;00m (\n\u001b[1;32m      7\u001b[0m     format_as_html,\n\u001b[1;32m      8\u001b[0m     format_html_styles,\n\u001b[1;32m      9\u001b[0m     format_as_text,\n\u001b[1;32m     10\u001b[0m     format_as_dict,\n\u001b[1;32m     11\u001b[0m )\n\u001b[1;32m     12\u001b[0m \u001b[38;5;28;01mfrom\u001b[39;00m \u001b[38;5;21;01m.\u001b[39;00m\u001b[38;5;21;01mexplain\u001b[39;00m \u001b[38;5;28;01mimport\u001b[39;00m explain_weights, explain_prediction\n\u001b[1;32m     13\u001b[0m \u001b[38;5;28;01mfrom\u001b[39;00m \u001b[38;5;21;01m.\u001b[39;00m\u001b[38;5;21;01msklearn\u001b[39;00m \u001b[38;5;28;01mimport\u001b[39;00m explain_weights_sklearn, explain_prediction_sklearn\n",
      "File \u001b[0;32m~/.local/lib/python3.9/site-packages/eli5/formatters/__init__.py:9\u001b[0m, in \u001b[0;36m<module>\u001b[0;34m\u001b[0m\n\u001b[1;32m      2\u001b[0m \u001b[38;5;124;03m\"\"\"\u001b[39;00m\n\u001b[1;32m      3\u001b[0m \u001b[38;5;124;03mFunctions to convert explanations to human-digestible formats.\u001b[39;00m\n\u001b[1;32m      4\u001b[0m \n\u001b[1;32m      5\u001b[0m \u001b[38;5;124;03mTODO: IPython integration, customizability.\u001b[39;00m\n\u001b[1;32m      6\u001b[0m \u001b[38;5;124;03m\"\"\"\u001b[39;00m\n\u001b[1;32m      8\u001b[0m \u001b[38;5;28;01mfrom\u001b[39;00m \u001b[38;5;21;01m.\u001b[39;00m\u001b[38;5;21;01mtext\u001b[39;00m \u001b[38;5;28;01mimport\u001b[39;00m format_as_text\n\u001b[0;32m----> 9\u001b[0m \u001b[38;5;28;01mfrom\u001b[39;00m \u001b[38;5;21;01m.\u001b[39;00m\u001b[38;5;21;01mhtml\u001b[39;00m \u001b[38;5;28;01mimport\u001b[39;00m format_as_html, format_html_styles\n\u001b[1;32m     10\u001b[0m \u001b[38;5;28;01mtry\u001b[39;00m:\n\u001b[1;32m     11\u001b[0m     \u001b[38;5;28;01mfrom\u001b[39;00m \u001b[38;5;21;01m.\u001b[39;00m\u001b[38;5;21;01mas_dataframe\u001b[39;00m \u001b[38;5;28;01mimport\u001b[39;00m (\n\u001b[1;32m     12\u001b[0m         explain_weights_df, explain_weights_dfs,\n\u001b[1;32m     13\u001b[0m         explain_prediction_df, explain_prediction_dfs,\n\u001b[1;32m     14\u001b[0m         format_as_dataframe, format_as_dataframes,\n\u001b[1;32m     15\u001b[0m     )\n",
      "File \u001b[0;32m~/.local/lib/python3.9/site-packages/eli5/formatters/html.py:22\u001b[0m, in \u001b[0;36m<module>\u001b[0;34m\u001b[0m\n\u001b[1;32m     18\u001b[0m \u001b[38;5;28;01mfrom\u001b[39;00m \u001b[38;5;21;01m.\u001b[39;00m\u001b[38;5;21;01mtrees\u001b[39;00m \u001b[38;5;28;01mimport\u001b[39;00m tree2text\n\u001b[1;32m     19\u001b[0m \u001b[38;5;28;01mfrom\u001b[39;00m \u001b[38;5;21;01m.\u001b[39;00m\u001b[38;5;21;01mtext_helpers\u001b[39;00m \u001b[38;5;28;01mimport\u001b[39;00m prepare_weighted_spans, PreparedWeightedSpans\n\u001b[0;32m---> 22\u001b[0m template_env \u001b[38;5;241m=\u001b[39m \u001b[43mEnvironment\u001b[49m\u001b[43m(\u001b[49m\n\u001b[1;32m     23\u001b[0m \u001b[43m    \u001b[49m\u001b[43mloader\u001b[49m\u001b[38;5;241;43m=\u001b[39;49m\u001b[43mPackageLoader\u001b[49m\u001b[43m(\u001b[49m\u001b[38;5;124;43m'\u001b[39;49m\u001b[38;5;124;43meli5\u001b[39;49m\u001b[38;5;124;43m'\u001b[39;49m\u001b[43m,\u001b[49m\u001b[43m \u001b[49m\u001b[38;5;124;43m'\u001b[39;49m\u001b[38;5;124;43mtemplates\u001b[39;49m\u001b[38;5;124;43m'\u001b[39;49m\u001b[43m)\u001b[49m\u001b[43m,\u001b[49m\n\u001b[1;32m     24\u001b[0m \u001b[43m    \u001b[49m\u001b[43mextensions\u001b[49m\u001b[38;5;241;43m=\u001b[39;49m\u001b[43m[\u001b[49m\u001b[38;5;124;43m'\u001b[39;49m\u001b[38;5;124;43mjinja2.ext.with_\u001b[39;49m\u001b[38;5;124;43m'\u001b[39;49m\u001b[43m]\u001b[49m\u001b[43m)\u001b[49m\n\u001b[1;32m     25\u001b[0m template_env\u001b[38;5;241m.\u001b[39mglobals\u001b[38;5;241m.\u001b[39mupdate(\u001b[38;5;28mdict\u001b[39m(\u001b[38;5;28mzip\u001b[39m\u001b[38;5;241m=\u001b[39m\u001b[38;5;28mzip\u001b[39m, numpy\u001b[38;5;241m=\u001b[39mnp))\n\u001b[1;32m     26\u001b[0m template_env\u001b[38;5;241m.\u001b[39mfilters\u001b[38;5;241m.\u001b[39mupdate(\u001b[38;5;28mdict\u001b[39m(\n\u001b[1;32m     27\u001b[0m     weight_color\u001b[38;5;241m=\u001b[39m\u001b[38;5;28;01mlambda\u001b[39;00m w, w_range: format_hsl(weight_color_hsl(w, w_range)),\n\u001b[1;32m     28\u001b[0m     remaining_weight_color\u001b[38;5;241m=\u001b[39m\u001b[38;5;28;01mlambda\u001b[39;00m ws, w_range, pos_neg:\n\u001b[0;32m   (...)\u001b[0m\n\u001b[1;32m     33\u001b[0m     format_decision_tree\u001b[38;5;241m=\u001b[39m\u001b[38;5;28;01mlambda\u001b[39;00m tree: _format_decision_tree(tree),\n\u001b[1;32m     34\u001b[0m ))\n",
      "File \u001b[0;32m~/.conda/envs/envFS/lib/python3.9/site-packages/jinja2/environment.py:363\u001b[0m, in \u001b[0;36mEnvironment.__init__\u001b[0;34m(self, block_start_string, block_end_string, variable_start_string, variable_end_string, comment_start_string, comment_end_string, line_statement_prefix, line_comment_prefix, trim_blocks, lstrip_blocks, newline_sequence, keep_trailing_newline, extensions, optimized, undefined, finalize, autoescape, loader, cache_size, auto_reload, bytecode_cache, enable_async)\u001b[0m\n\u001b[1;32m    360\u001b[0m \u001b[38;5;28mself\u001b[39m\u001b[38;5;241m.\u001b[39mpolicies \u001b[38;5;241m=\u001b[39m DEFAULT_POLICIES\u001b[38;5;241m.\u001b[39mcopy()\n\u001b[1;32m    362\u001b[0m \u001b[38;5;66;03m# load extensions\u001b[39;00m\n\u001b[0;32m--> 363\u001b[0m \u001b[38;5;28mself\u001b[39m\u001b[38;5;241m.\u001b[39mextensions \u001b[38;5;241m=\u001b[39m \u001b[43mload_extensions\u001b[49m\u001b[43m(\u001b[49m\u001b[38;5;28;43mself\u001b[39;49m\u001b[43m,\u001b[49m\u001b[43m \u001b[49m\u001b[43mextensions\u001b[49m\u001b[43m)\u001b[49m\n\u001b[1;32m    365\u001b[0m \u001b[38;5;28mself\u001b[39m\u001b[38;5;241m.\u001b[39mis_async \u001b[38;5;241m=\u001b[39m enable_async\n\u001b[1;32m    366\u001b[0m _environment_config_check(\u001b[38;5;28mself\u001b[39m)\n",
      "File \u001b[0;32m~/.conda/envs/envFS/lib/python3.9/site-packages/jinja2/environment.py:117\u001b[0m, in \u001b[0;36mload_extensions\u001b[0;34m(environment, extensions)\u001b[0m\n\u001b[1;32m    115\u001b[0m \u001b[38;5;28;01mfor\u001b[39;00m extension \u001b[38;5;129;01min\u001b[39;00m extensions:\n\u001b[1;32m    116\u001b[0m     \u001b[38;5;28;01mif\u001b[39;00m \u001b[38;5;28misinstance\u001b[39m(extension, \u001b[38;5;28mstr\u001b[39m):\n\u001b[0;32m--> 117\u001b[0m         extension \u001b[38;5;241m=\u001b[39m t\u001b[38;5;241m.\u001b[39mcast(t\u001b[38;5;241m.\u001b[39mType[\u001b[38;5;124m\"\u001b[39m\u001b[38;5;124mExtension\u001b[39m\u001b[38;5;124m\"\u001b[39m], \u001b[43mimport_string\u001b[49m\u001b[43m(\u001b[49m\u001b[43mextension\u001b[49m\u001b[43m)\u001b[49m)\n\u001b[1;32m    119\u001b[0m     result[extension\u001b[38;5;241m.\u001b[39midentifier] \u001b[38;5;241m=\u001b[39m extension(environment)\n\u001b[1;32m    121\u001b[0m \u001b[38;5;28;01mreturn\u001b[39;00m result\n",
      "File \u001b[0;32m~/.conda/envs/envFS/lib/python3.9/site-packages/jinja2/utils.py:149\u001b[0m, in \u001b[0;36mimport_string\u001b[0;34m(import_name, silent)\u001b[0m\n\u001b[1;32m    147\u001b[0m     \u001b[38;5;28;01melse\u001b[39;00m:\n\u001b[1;32m    148\u001b[0m         \u001b[38;5;28;01mreturn\u001b[39;00m \u001b[38;5;28m__import__\u001b[39m(import_name)\n\u001b[0;32m--> 149\u001b[0m     \u001b[38;5;28;01mreturn\u001b[39;00m \u001b[38;5;28;43mgetattr\u001b[39;49m\u001b[43m(\u001b[49m\u001b[38;5;28;43m__import__\u001b[39;49m\u001b[43m(\u001b[49m\u001b[43mmodule\u001b[49m\u001b[43m,\u001b[49m\u001b[43m \u001b[49m\u001b[38;5;28;43;01mNone\u001b[39;49;00m\u001b[43m,\u001b[49m\u001b[43m \u001b[49m\u001b[38;5;28;43;01mNone\u001b[39;49;00m\u001b[43m,\u001b[49m\u001b[43m \u001b[49m\u001b[43m[\u001b[49m\u001b[43mobj\u001b[49m\u001b[43m]\u001b[49m\u001b[43m)\u001b[49m\u001b[43m,\u001b[49m\u001b[43m \u001b[49m\u001b[43mobj\u001b[49m\u001b[43m)\u001b[49m\n\u001b[1;32m    150\u001b[0m \u001b[38;5;28;01mexcept\u001b[39;00m (\u001b[38;5;167;01mImportError\u001b[39;00m, \u001b[38;5;167;01mAttributeError\u001b[39;00m):\n\u001b[1;32m    151\u001b[0m     \u001b[38;5;28;01mif\u001b[39;00m \u001b[38;5;129;01mnot\u001b[39;00m silent:\n",
      "\u001b[0;31mAttributeError\u001b[0m: module 'jinja2.ext' has no attribute 'with_'"
     ]
    }
   ],
   "source": [
    "from eli5.sklearn import PermutationImportance\n",
    "from sklearn.feature_selection import SelectFromModel\n",
    "from sklearn.linear_model import LogisticRegression\n",
    "perm = PermutationImportance(LogisticRegression(solver='lbfgs', max_iter=10000), random_state=42, cv=10)\n",
    "perm.fit(X, y)\n",
    "perm_selector = SelectFromModel(perm,max_features=6).fit(X, y)\n",
    "perm_feature = getFeature(perm_selector.get_support())\n",
    "perm_feature"
   ]
  },
  {
   "cell_type": "code",
   "execution_count": 40,
   "metadata": {},
   "outputs": [
    {
     "name": "stdout",
     "output_type": "stream",
     "text": [
      "Accuracy: 0.72\n",
      "Precision: 0.5714285714285714\n",
      "Recall: 0.8888888888888888\n"
     ]
    },
    {
     "name": "stderr",
     "output_type": "stream",
     "text": [
      "lbfgs failed to converge (status=1):\n",
      "STOP: TOTAL NO. of ITERATIONS REACHED LIMIT.\n",
      "\n",
      "Increase the number of iterations (max_iter) or scale the data as shown in:\n",
      "    https://scikit-learn.org/stable/modules/preprocessing.html\n",
      "Please also refer to the documentation for alternative solver options:\n",
      "    https://scikit-learn.org/stable/modules/linear_model.html#logistic-regression\n"
     ]
    }
   ],
   "source": [
    "X_perm = X[X.columns]\n",
    "X_train,X_test,y_train,y_test=train_test_split(X_perm,y,test_size=0.25,random_state=0)\n",
    "y_pred = myModel(X_train,y_train,X_test)\n",
    "perm_acc = metrics.accuracy_score(y_test, y_pred)\n",
    "print(\"Accuracy:\",metrics.accuracy_score(y_test, y_pred))\n",
    "print(\"Precision:\",metrics.precision_score(y_test, y_pred))\n",
    "print(\"Recall:\",metrics.recall_score(y_test, y_pred))"
   ]
  },
  {
   "cell_type": "markdown",
   "metadata": {},
   "source": [
    "### 9. SHAP"
   ]
  },
  {
   "cell_type": "code",
   "execution_count": 29,
   "metadata": {},
   "outputs": [
    {
     "data": {
      "image/png": "[encoded data removed]",
      "text/plain": [
       "<Figure size 432x288 with 1 Axes>"
      ]
     },
     "metadata": {
      "needs_background": "light"
     },
     "output_type": "display_data"
    }
   ],
   "source": [
    "import shap\n",
    "import xgboost\n",
    "import matplotlib.pylab as pl\n",
    "model = xgboost.train({\"learning_rate\": 0.01}, xgboost.DMatrix(X, label=y), 100)\n",
    "explainer = shap.TreeExplainer(model)\n",
    "shap_values = explainer.shap_values(X)\n",
    "xgboost.plot_importance(model)\n",
    "pl.title(\"xgboost.plot_importance(model)\")\n",
    "pl.show()"
   ]
  },
  {
   "cell_type": "code",
   "execution_count": 30,
   "metadata": {},
   "outputs": [
    {
     "name": "stdout",
     "output_type": "stream",
     "text": [
      "Accuracy: 0.92\n",
      "Precision: 0.8888888888888888\n",
      "Recall: 0.8888888888888888\n"
     ]
    }
   ],
   "source": [
    "X_shap = X[['MAC5(Mw)', 'MAC4(Ap)', 'MAC4(Z1)', 'MAC3(Z2)', 'MAC5(IP)', 'MAC1(IP)']]\n",
    "X_train,X_test,y_train,y_test=train_test_split(X_shap,y,test_size=0.25,random_state=0)\n",
    "y_pred = myModel(X_train,y_train,X_test)\n",
    "shap_acc = metrics.accuracy_score(y_test, y_pred)\n",
    "print(\"Accuracy:\",metrics.accuracy_score(y_test, y_pred))\n",
    "print(\"Precision:\",metrics.precision_score(y_test, y_pred))\n",
    "print(\"Recall:\",metrics.recall_score(y_test, y_pred))"
   ]
  },
  {
   "cell_type": "markdown",
   "metadata": {},
   "source": [
    "### 10. Boruta"
   ]
  },
  {
   "cell_type": "code",
   "execution_count": 31,
   "metadata": {},
   "outputs": [
    {
     "data": {
      "text/plain": [
       "BorutaPy(estimator=RandomForestClassifier(class_weight='balanced', max_depth=6,\n",
       "                                          n_estimators=149, n_jobs=-1,\n",
       "                                          random_state=RandomState(MT19937) at 0x7FA22D2BD540),\n",
       "         n_estimators='auto',\n",
       "         random_state=RandomState(MT19937) at 0x7FA22D2BD540)"
      ]
     },
     "execution_count": 31,
     "metadata": {},
     "output_type": "execute_result"
    }
   ],
   "source": [
    "from boruta import BorutaPy\n",
    "from sklearn.ensemble import RandomForestClassifier\n",
    "rf = RandomForestClassifier(n_jobs=-1, class_weight='balanced', max_depth=6)\n",
    "boru_selector = BorutaPy(rf, n_estimators='auto', verbose=0, random_state=1)\n",
    "boru_selector.fit(X.values, y.values)"
   ]
  },
  {
   "cell_type": "code",
   "execution_count": 32,
   "metadata": {},
   "outputs": [],
   "source": [
    "accept = X.columns[boru_selector.support_].to_list()\n",
    "#accept"
   ]
  },
  {
   "cell_type": "code",
   "execution_count": 33,
   "metadata": {},
   "outputs": [
    {
     "name": "stdout",
     "output_type": "stream",
     "text": [
      "Accuracy: 0.84\n",
      "Precision: 0.7777777777777778\n",
      "Recall: 0.7777777777777778\n"
     ]
    },
    {
     "name": "stderr",
     "output_type": "stream",
     "text": [
      "lbfgs failed to converge (status=1):\n",
      "STOP: TOTAL NO. of ITERATIONS REACHED LIMIT.\n",
      "\n",
      "Increase the number of iterations (max_iter) or scale the data as shown in:\n",
      "    https://scikit-learn.org/stable/modules/preprocessing.html\n",
      "Please also refer to the documentation for alternative solver options:\n",
      "    https://scikit-learn.org/stable/modules/linear_model.html#logistic-regression\n"
     ]
    }
   ],
   "source": [
    "X_boruta = X[accept]\n",
    "X_train,X_test,y_train,y_test=train_test_split(X_boruta,y,test_size=0.25,random_state=0)\n",
    "y_pred = myModel(X_train,y_train,X_test)\n",
    "boruta_acc = metrics.accuracy_score(y_test, y_pred)\n",
    "print(\"Accuracy:\",metrics.accuracy_score(y_test, y_pred))\n",
    "print(\"Precision:\",metrics.precision_score(y_test, y_pred))\n",
    "print(\"Recall:\",metrics.recall_score(y_test, y_pred))"
   ]
  },
  {
   "cell_type": "markdown",
   "metadata": {},
   "source": [
    "### 11. Embedded Random Forest"
   ]
  },
  {
   "cell_type": "code",
   "execution_count": 34,
   "metadata": {},
   "outputs": [
    {
     "data": {
      "text/plain": [
       "['MAC3(Ap)', 'MAC4(Ap)', 'MAC5(Mw)', 'MAC5(At)', 'MAC6(Ap)', 'MAC7(At)']"
      ]
     },
     "execution_count": 34,
     "metadata": {},
     "output_type": "execute_result"
    }
   ],
   "source": [
    "from sklearn.feature_selection import SelectFromModel\n",
    "from sklearn.ensemble import RandomForestClassifier\n",
    "embeded_rf_selector = SelectFromModel(RandomForestClassifier(n_estimators=100, random_state=42), max_features=6)\n",
    "embeded_rf_selector.fit(X, y)\n",
    "embeded_rf_feature = getFeature(embeded_rf_selector.get_support())\n",
    "embeded_rf_feature"
   ]
  },
  {
   "cell_type": "code",
   "execution_count": 35,
   "metadata": {},
   "outputs": [
    {
     "name": "stdout",
     "output_type": "stream",
     "text": [
      "Accuracy: 0.8\n",
      "Precision: 0.75\n",
      "Recall: 0.6666666666666666\n"
     ]
    }
   ],
   "source": [
    "X_rf = X[embeded_rf_feature]\n",
    "X_train,X_test,y_train,y_test=train_test_split(X_rf,y,test_size=0.25,random_state=0)\n",
    "y_pred = myModel(X_train,y_train,X_test)\n",
    "rf_acc = metrics.accuracy_score(y_test, y_pred)\n",
    "print(\"Accuracy:\",metrics.accuracy_score(y_test, y_pred))\n",
    "print(\"Precision:\",metrics.precision_score(y_test, y_pred))\n",
    "print(\"Recall:\",metrics.recall_score(y_test, y_pred))"
   ]
  },
  {
   "cell_type": "markdown",
   "metadata": {},
   "source": [
    "### 12. Embedded LightGBM"
   ]
  },
  {
   "cell_type": "code",
   "execution_count": 36,
   "metadata": {},
   "outputs": [
    {
     "data": {
      "text/plain": [
       "['MAC1(Mw)', 'MAC1(HP)', 'MAC1(IP)', 'MAC1(ECI)', 'MAC1(Vm)', 'MAC1(Anp)']"
      ]
     },
     "execution_count": 36,
     "metadata": {},
     "output_type": "execute_result"
    }
   ],
   "source": [
    "from lightgbm import LGBMClassifier\n",
    "from sklearn.feature_selection import SelectFromModel\n",
    "lgbc=LGBMClassifier(n_estimators=500, learning_rate=0.05,\n",
    "                    num_leaves=32, colsample_bytree=0.2,                                           \n",
    "                    reg_alpha=3, reg_lambda=1, min_split_gain=0.01,    \n",
    "                    min_child_weight=40)\n",
    "embeded_lgb_selector = SelectFromModel(lgbc, max_features=6)\n",
    "embeded_lgb_selector.fit(X, y)\n",
    "embeded_lgb_feature = getFeature(embeded_lgb_selector.get_support())\n",
    "embeded_lgb_feature"
   ]
  },
  {
   "cell_type": "code",
   "execution_count": 37,
   "metadata": {},
   "outputs": [
    {
     "name": "stdout",
     "output_type": "stream",
     "text": [
      "Accuracy: 0.72\n",
      "Precision: 0.625\n",
      "Recall: 0.5555555555555556\n"
     ]
    }
   ],
   "source": [
    "X_lgbm = X[embeded_lgb_feature]\n",
    "X_train,X_test,y_train,y_test=train_test_split(X_lgbm,y,test_size=0.25,random_state=0)\n",
    "y_pred = myModel(X_train,y_train,X_test)\n",
    "lgbm_acc = metrics.accuracy_score(y_test, y_pred)\n",
    "print(\"Accuracy:\",metrics.accuracy_score(y_test, y_pred))\n",
    "print(\"Precision:\",metrics.precision_score(y_test, y_pred))\n",
    "print(\"Recall:\",metrics.recall_score(y_test, y_pred))"
   ]
  },
  {
   "cell_type": "code",
   "execution_count": 38,
   "metadata": {},
   "outputs": [
    {
     "ename": "NameError",
     "evalue": "name 'perm_acc' is not defined",
     "output_type": "error",
     "traceback": [
      "\u001b[0;31m---------------------------------------------------------------------------\u001b[0m",
      "\u001b[0;31mNameError\u001b[0m                                 Traceback (most recent call last)",
      "Input \u001b[0;32mIn [38]\u001b[0m, in \u001b[0;36m<cell line: 8>\u001b[0;34m()\u001b[0m\n\u001b[1;32m      6\u001b[0m multi_table \u001b[38;5;241m=\u001b[39m [\u001b[38;5;124m'\u001b[39m\u001b[38;5;124mMultiSURF\u001b[39m\u001b[38;5;124m'\u001b[39m,multi_acc,\u001b[38;5;124m'\u001b[39m\u001b[38;5;124m-\u001b[39m\u001b[38;5;124m'\u001b[39m,\u001b[38;5;124m'\u001b[39m\u001b[38;5;124m-\u001b[39m\u001b[38;5;124m'\u001b[39m,\u001b[38;5;124m'\u001b[39m\u001b[38;5;124m-\u001b[39m\u001b[38;5;124m'\u001b[39m,\u001b[38;5;124m'\u001b[39m\u001b[38;5;124m-\u001b[39m\u001b[38;5;124m'\u001b[39m,\u001b[38;5;124m'\u001b[39m\u001b[38;5;124m-\u001b[39m\u001b[38;5;124m'\u001b[39m,\u001b[38;5;124m'\u001b[39m\u001b[38;5;124m-\u001b[39m\u001b[38;5;124m'\u001b[39m]\n\u001b[1;32m      7\u001b[0m rec_table \u001b[38;5;241m=\u001b[39m [\u001b[38;5;124m'\u001b[39m\u001b[38;5;124mRecursive Feature Elimination\u001b[39m\u001b[38;5;124m'\u001b[39m,rec_acc, \u001b[38;5;124m'\u001b[39m\u001b[38;5;124mMAC3(IP)\u001b[39m\u001b[38;5;124m'\u001b[39m, \u001b[38;5;124m'\u001b[39m\u001b[38;5;124mMAC4(Ap)\u001b[39m\u001b[38;5;124m'\u001b[39m, \u001b[38;5;124m'\u001b[39m\u001b[38;5;124mMAC5(Mw)\u001b[39m\u001b[38;5;124m'\u001b[39m, \u001b[38;5;124m'\u001b[39m\u001b[38;5;124mMAC5(IP)\u001b[39m\u001b[38;5;124m'\u001b[39m, \u001b[38;5;124m'\u001b[39m\u001b[38;5;124mMAC5(Ap)\u001b[39m\u001b[38;5;124m'\u001b[39m, \u001b[38;5;124m'\u001b[39m\u001b[38;5;124mMAC7(At)\u001b[39m\u001b[38;5;124m'\u001b[39m]\n\u001b[0;32m----> 8\u001b[0m perm_table \u001b[38;5;241m=\u001b[39m [\u001b[38;5;124m'\u001b[39m\u001b[38;5;124mPermutation Importance\u001b[39m\u001b[38;5;124m'\u001b[39m,\u001b[43mperm_acc\u001b[49m,\u001b[38;5;124m'\u001b[39m\u001b[38;5;124mMAC3(At)\u001b[39m\u001b[38;5;124m'\u001b[39m, \u001b[38;5;124m'\u001b[39m\u001b[38;5;124mMAC3(Ap)\u001b[39m\u001b[38;5;124m'\u001b[39m, \u001b[38;5;124m'\u001b[39m\u001b[38;5;124mMAC4(Ap)\u001b[39m\u001b[38;5;124m'\u001b[39m, \u001b[38;5;124m'\u001b[39m\u001b[38;5;124mMAC5(At)\u001b[39m\u001b[38;5;124m'\u001b[39m, \u001b[38;5;124m'\u001b[39m\u001b[38;5;124mMAC7(Mw)\u001b[39m\u001b[38;5;124m'\u001b[39m, \u001b[38;5;124m'\u001b[39m\u001b[38;5;124mMAC7(Vm)\u001b[39m\u001b[38;5;124m'\u001b[39m]\n\u001b[1;32m      9\u001b[0m shap_table \u001b[38;5;241m=\u001b[39m [\u001b[38;5;124m'\u001b[39m\u001b[38;5;124mSHAP\u001b[39m\u001b[38;5;124m'\u001b[39m, shap_acc, \u001b[38;5;124m'\u001b[39m\u001b[38;5;124mMAC5(Mw)\u001b[39m\u001b[38;5;124m'\u001b[39m, \u001b[38;5;124m'\u001b[39m\u001b[38;5;124mMAC4(Ap)\u001b[39m\u001b[38;5;124m'\u001b[39m, \u001b[38;5;124m'\u001b[39m\u001b[38;5;124mMAC4(Z1)\u001b[39m\u001b[38;5;124m'\u001b[39m, \u001b[38;5;124m'\u001b[39m\u001b[38;5;124mMAC3(Z2)\u001b[39m\u001b[38;5;124m'\u001b[39m, \u001b[38;5;124m'\u001b[39m\u001b[38;5;124mMAC5(IP)\u001b[39m\u001b[38;5;124m'\u001b[39m, \u001b[38;5;124m'\u001b[39m\u001b[38;5;124mMAC1(IP)\u001b[39m\u001b[38;5;124m'\u001b[39m]\n\u001b[1;32m     10\u001b[0m boruta_table \u001b[38;5;241m=\u001b[39m [\u001b[38;5;124m'\u001b[39m\u001b[38;5;124mBoruta\u001b[39m\u001b[38;5;124m'\u001b[39m,boruta_acc,\u001b[38;5;124m'\u001b[39m\u001b[38;5;124m-\u001b[39m\u001b[38;5;124m'\u001b[39m,\u001b[38;5;124m'\u001b[39m\u001b[38;5;124m-\u001b[39m\u001b[38;5;124m'\u001b[39m,\u001b[38;5;124m'\u001b[39m\u001b[38;5;124m-\u001b[39m\u001b[38;5;124m'\u001b[39m,\u001b[38;5;124m'\u001b[39m\u001b[38;5;124m-\u001b[39m\u001b[38;5;124m'\u001b[39m,\u001b[38;5;124m'\u001b[39m\u001b[38;5;124m-\u001b[39m\u001b[38;5;124m'\u001b[39m,\u001b[38;5;124m'\u001b[39m\u001b[38;5;124m-\u001b[39m\u001b[38;5;124m'\u001b[39m]\n",
      "\u001b[0;31mNameError\u001b[0m: name 'perm_acc' is not defined"
     ]
    }
   ],
   "source": [
    "chi_table = ['Chi-square', chi_acc, 'MAC3(Ap)', 'MAC4(ECI)', 'MAC4(Ap)', 'MAC5(Ap)', 'MAC6(Ap)', 'MAC7(Ap)' ]\n",
    "mi_table = ['Mutual Information', mi_acc, 'MAC4(Ap)', 'MAC5(Mw)', 'MAC5(At)', 'MAC5(Ap)', 'MAC6(Mw)', 'MAC6(Ap)']\n",
    "anova_table = ['Anova F-value', anova_acc, 'MAC4(IP)', 'MAC4(Ap)', 'MAC5(IP)', 'MAC5(At)', 'MAC5(Ap)', 'MAC7(Ap)']\n",
    "var_table = ['Variance Threshold',thresh_acc,'-','-','-','-','-','-']\n",
    "fisher_table = ['Fisher Score', fisher_acc, 'MAC4(ECI)', 'MAC3(Pa)', 'MAC3(ECI)', 'MAC3(Vm)', 'MAC1(ECI)','MAC4(Pa)']\n",
    "multi_table = ['MultiSURF',multi_acc,'-','-','-','-','-','-']\n",
    "rec_table = ['Recursive Feature Elimination',rec_acc, 'MAC3(IP)', 'MAC4(Ap)', 'MAC5(Mw)', 'MAC5(IP)', 'MAC5(Ap)', 'MAC7(At)']\n",
    "perm_table = ['Permutation Importance',perm_acc,'MAC3(At)', 'MAC3(Ap)', 'MAC4(Ap)', 'MAC5(At)', 'MAC7(Mw)', 'MAC7(Vm)']\n",
    "shap_table = ['SHAP', shap_acc, 'MAC5(Mw)', 'MAC4(Ap)', 'MAC4(Z1)', 'MAC3(Z2)', 'MAC5(IP)', 'MAC1(IP)']\n",
    "boruta_table = ['Boruta',boruta_acc,'-','-','-','-','-','-']\n",
    "rf_table = ['Embedded Random Forest', rf_acc,'MAC3(Ap)', 'MAC4(Ap)', 'MAC5(Mw)', 'MAC5(At)', 'MAC6(Ap)', 'MAC7(At)']\n",
    "lgbm_table =['Embedded LightGBM', lgbm_acc, 'MAC1(Mw)', 'MAC1(HP)', 'MAC1(IP)', 'MAC1(ECI)', 'MAC1(Vm)', 'MAC1(Anp)']\n",
    "\n",
    "\n"
   ]
  },
  {
   "cell_type": "code",
   "execution_count": 35,
   "metadata": {},
   "outputs": [],
   "source": [
    "myTable = [chi_table, mi_table, anova_table,var_table, fisher_table, multi_table, rec_table, perm_table, shap_table,\n",
    "          boruta_table, rf_table, lgbm_table]\n",
    "\n",
    "\n"
   ]
  },
  {
   "cell_type": "code",
   "execution_count": 36,
   "metadata": {},
   "outputs": [
    {
     "data": {
      "text/html": [
       "<div>\n",
       "<style scoped>\n",
       "    .dataframe tbody tr th:only-of-type {\n",
       "        vertical-align: middle;\n",
       "    }\n",
       "\n",
       "    .dataframe tbody tr th {\n",
       "        vertical-align: top;\n",
       "    }\n",
       "\n",
       "    .dataframe thead th {\n",
       "        text-align: right;\n",
       "    }\n",
       "</style>\n",
       "<table border=\"1\" class=\"dataframe\">\n",
       "  <thead>\n",
       "    <tr style=\"text-align: right;\">\n",
       "      <th></th>\n",
       "      <th>Method</th>\n",
       "      <th>Accuracy</th>\n",
       "      <th>Feature 1</th>\n",
       "      <th>Feature 2</th>\n",
       "      <th>Feature 3</th>\n",
       "      <th>Feature 4</th>\n",
       "      <th>Feature 5</th>\n",
       "      <th>Feature 6</th>\n",
       "    </tr>\n",
       "  </thead>\n",
       "  <tbody>\n",
       "    <tr>\n",
       "      <th>0</th>\n",
       "      <td>Chi-square</td>\n",
       "      <td>0.88</td>\n",
       "      <td>MAC3(Ap)</td>\n",
       "      <td>MAC4(ECI)</td>\n",
       "      <td>MAC4(Ap)</td>\n",
       "      <td>MAC5(Ap)</td>\n",
       "      <td>MAC6(Ap)</td>\n",
       "      <td>MAC7(Ap)</td>\n",
       "    </tr>\n",
       "    <tr>\n",
       "      <th>1</th>\n",
       "      <td>Mutual Information</td>\n",
       "      <td>0.76</td>\n",
       "      <td>MAC4(Ap)</td>\n",
       "      <td>MAC5(Mw)</td>\n",
       "      <td>MAC5(At)</td>\n",
       "      <td>MAC5(Ap)</td>\n",
       "      <td>MAC6(Mw)</td>\n",
       "      <td>MAC6(Ap)</td>\n",
       "    </tr>\n",
       "    <tr>\n",
       "      <th>2</th>\n",
       "      <td>Anova F-value</td>\n",
       "      <td>0.80</td>\n",
       "      <td>MAC4(IP)</td>\n",
       "      <td>MAC4(Ap)</td>\n",
       "      <td>MAC5(IP)</td>\n",
       "      <td>MAC5(At)</td>\n",
       "      <td>MAC5(Ap)</td>\n",
       "      <td>MAC7(Ap)</td>\n",
       "    </tr>\n",
       "    <tr>\n",
       "      <th>3</th>\n",
       "      <td>Variance Threshold</td>\n",
       "      <td>0.72</td>\n",
       "      <td>-</td>\n",
       "      <td>-</td>\n",
       "      <td>-</td>\n",
       "      <td>-</td>\n",
       "      <td>-</td>\n",
       "      <td>-</td>\n",
       "    </tr>\n",
       "    <tr>\n",
       "      <th>4</th>\n",
       "      <td>Fisher Score</td>\n",
       "      <td>0.64</td>\n",
       "      <td>MAC4(ECI)</td>\n",
       "      <td>MAC3(Pa)</td>\n",
       "      <td>MAC3(ECI)</td>\n",
       "      <td>MAC3(Vm)</td>\n",
       "      <td>MAC1(ECI)</td>\n",
       "      <td>MAC4(Pa)</td>\n",
       "    </tr>\n",
       "    <tr>\n",
       "      <th>5</th>\n",
       "      <td>MultiSURF</td>\n",
       "      <td>0.72</td>\n",
       "      <td>-</td>\n",
       "      <td>-</td>\n",
       "      <td>-</td>\n",
       "      <td>-</td>\n",
       "      <td>-</td>\n",
       "      <td>-</td>\n",
       "    </tr>\n",
       "    <tr>\n",
       "      <th>6</th>\n",
       "      <td>Recursive Feature Elimination</td>\n",
       "      <td>0.92</td>\n",
       "      <td>MAC3(IP)</td>\n",
       "      <td>MAC4(Ap)</td>\n",
       "      <td>MAC5(Mw)</td>\n",
       "      <td>MAC5(IP)</td>\n",
       "      <td>MAC5(Ap)</td>\n",
       "      <td>MAC7(At)</td>\n",
       "    </tr>\n",
       "    <tr>\n",
       "      <th>7</th>\n",
       "      <td>Permutation Importance</td>\n",
       "      <td>0.84</td>\n",
       "      <td>MAC3(At)</td>\n",
       "      <td>MAC3(Ap)</td>\n",
       "      <td>MAC4(Ap)</td>\n",
       "      <td>MAC5(At)</td>\n",
       "      <td>MAC7(Mw)</td>\n",
       "      <td>MAC7(Vm)</td>\n",
       "    </tr>\n",
       "    <tr>\n",
       "      <th>8</th>\n",
       "      <td>SHAP</td>\n",
       "      <td>0.92</td>\n",
       "      <td>MAC5(Mw)</td>\n",
       "      <td>MAC4(Ap)</td>\n",
       "      <td>MAC4(Z1)</td>\n",
       "      <td>MAC3(Z2)</td>\n",
       "      <td>MAC5(IP)</td>\n",
       "      <td>MAC1(IP)</td>\n",
       "    </tr>\n",
       "    <tr>\n",
       "      <th>9</th>\n",
       "      <td>Boruta</td>\n",
       "      <td>0.88</td>\n",
       "      <td>-</td>\n",
       "      <td>-</td>\n",
       "      <td>-</td>\n",
       "      <td>-</td>\n",
       "      <td>-</td>\n",
       "      <td>-</td>\n",
       "    </tr>\n",
       "    <tr>\n",
       "      <th>10</th>\n",
       "      <td>Embedded Random Forest</td>\n",
       "      <td>0.80</td>\n",
       "      <td>MAC3(Ap)</td>\n",
       "      <td>MAC4(Ap)</td>\n",
       "      <td>MAC5(Mw)</td>\n",
       "      <td>MAC5(At)</td>\n",
       "      <td>MAC6(Ap)</td>\n",
       "      <td>MAC7(At)</td>\n",
       "    </tr>\n",
       "    <tr>\n",
       "      <th>11</th>\n",
       "      <td>Embedded LightGBM</td>\n",
       "      <td>0.72</td>\n",
       "      <td>MAC1(Mw)</td>\n",
       "      <td>MAC1(HP)</td>\n",
       "      <td>MAC1(IP)</td>\n",
       "      <td>MAC1(ECI)</td>\n",
       "      <td>MAC1(Vm)</td>\n",
       "      <td>MAC1(Anp)</td>\n",
       "    </tr>\n",
       "  </tbody>\n",
       "</table>\n",
       "</div>"
      ],
      "text/plain": [
       "                           Method  Accuracy  Feature 1  Feature 2  Feature 3  \\\n",
       "0                      Chi-square      0.88   MAC3(Ap)  MAC4(ECI)   MAC4(Ap)   \n",
       "1              Mutual Information      0.76   MAC4(Ap)   MAC5(Mw)   MAC5(At)   \n",
       "2                   Anova F-value      0.80   MAC4(IP)   MAC4(Ap)   MAC5(IP)   \n",
       "3              Variance Threshold      0.72          -          -          -   \n",
       "4                    Fisher Score      0.64  MAC4(ECI)   MAC3(Pa)  MAC3(ECI)   \n",
       "5                       MultiSURF      0.72          -          -          -   \n",
       "6   Recursive Feature Elimination      0.92   MAC3(IP)   MAC4(Ap)   MAC5(Mw)   \n",
       "7          Permutation Importance      0.84   MAC3(At)   MAC3(Ap)   MAC4(Ap)   \n",
       "8                            SHAP      0.92   MAC5(Mw)   MAC4(Ap)   MAC4(Z1)   \n",
       "9                          Boruta      0.88          -          -          -   \n",
       "10         Embedded Random Forest      0.80   MAC3(Ap)   MAC4(Ap)   MAC5(Mw)   \n",
       "11              Embedded LightGBM      0.72   MAC1(Mw)   MAC1(HP)   MAC1(IP)   \n",
       "\n",
       "    Feature 4  Feature 5  Feature 6  \n",
       "0    MAC5(Ap)   MAC6(Ap)   MAC7(Ap)  \n",
       "1    MAC5(Ap)   MAC6(Mw)   MAC6(Ap)  \n",
       "2    MAC5(At)   MAC5(Ap)   MAC7(Ap)  \n",
       "3           -          -          -  \n",
       "4    MAC3(Vm)  MAC1(ECI)   MAC4(Pa)  \n",
       "5           -          -          -  \n",
       "6    MAC5(IP)   MAC5(Ap)   MAC7(At)  \n",
       "7    MAC5(At)   MAC7(Mw)   MAC7(Vm)  \n",
       "8    MAC3(Z2)   MAC5(IP)   MAC1(IP)  \n",
       "9           -          -          -  \n",
       "10   MAC5(At)   MAC6(Ap)   MAC7(At)  \n",
       "11  MAC1(ECI)   MAC1(Vm)  MAC1(Anp)  "
      ]
     },
     "execution_count": 36,
     "metadata": {},
     "output_type": "execute_result"
    }
   ],
   "source": [
    "results = pd.DataFrame(myTable,columns=['Method', 'Accuracy','Feature 1','Feature 2','Feature 3','Feature 4','Feature 5','Feature 6'])\n",
    "\n",
    "results                    "
   ]
  },
  {
   "cell_type": "code",
   "execution_count": null,
   "metadata": {},
   "outputs": [],
   "source": []
  },
  {
   "cell_type": "code",
   "execution_count": null,
   "metadata": {},
   "outputs": [],
   "source": []
  },
  {
   "cell_type": "code",
   "execution_count": null,
   "metadata": {},
   "outputs": [],
   "source": []
  },
  {
   "cell_type": "code",
   "execution_count": null,
   "metadata": {},
   "outputs": [],
   "source": []
  },
  {
   "cell_type": "code",
   "execution_count": null,
   "metadata": {},
   "outputs": [],
   "source": []
  },
  {
   "cell_type": "code",
   "execution_count": 26,
   "metadata": {},
   "outputs": [],
   "source": [
    "results.to_csv('result.csv')"
   ]
  },
  {
   "cell_type": "code",
   "execution_count": 27,
   "metadata": {},
   "outputs": [],
   "source": [
    "results.to_excel(\"result.xlsx\", sheet_name='Sheet_name_1') "
   ]
  },
  {
   "cell_type": "code",
   "execution_count": 15,
   "metadata": {},
   "outputs": [
    {
     "data": {
      "text/plain": [
       "-7.3755193267135635"
      ]
     },
     "execution_count": 15,
     "metadata": {},
     "output_type": "execute_result"
    }
   ],
   "source": [
    "from sklearn.datasets import load_diabetes\n",
    "from sklearn.model_selection import train_test_split\n",
    "from sklearn.linear_model import Ridge\n",
    "diabetes = load_diabetes()\n",
    "X_train, X_val, y_train, y_val = train_test_split(\n",
    "    X, y, test_size=0.25,random_state=0)\n",
    "\n",
    "model = Ridge(alpha=1e-2).fit(X_train, y_train)\n",
    "model.score(X_val, y_val)"
   ]
  },
  {
   "cell_type": "code",
   "execution_count": 16,
   "metadata": {},
   "outputs": [
    {
     "name": "stdout",
     "output_type": "stream",
     "text": [
      "Accuracy: 0.72\n"
     ]
    },
    {
     "name": "stderr",
     "output_type": "stream",
     "text": [
      "C:\\Users\\User\\anaconda3\\lib\\site-packages\\sklearn\\linear_model\\_logistic.py:762: ConvergenceWarning: lbfgs failed to converge (status=1):\n",
      "STOP: TOTAL NO. of ITERATIONS REACHED LIMIT.\n",
      "\n",
      "Increase the number of iterations (max_iter) or scale the data as shown in:\n",
      "    https://scikit-learn.org/stable/modules/preprocessing.html\n",
      "Please also refer to the documentation for alternative solver options:\n",
      "    https://scikit-learn.org/stable/modules/linear_model.html#logistic-regression\n",
      "  n_iter_i = _check_optimize_result(\n"
     ]
    }
   ],
   "source": [
    "from sklearn.linear_model import LogisticRegression\n",
    "logreg = LogisticRegression()\n",
    "\n",
    "    # fit the model with data\n",
    "logreg.fit(X_train,y_train)\n",
    "\n",
    "    # get predict\n",
    "y_pred=logreg.predict(X_val)\n",
    "pp_im = metrics.accuracy_score(y_val, y_pred)\n",
    "print(\"Accuracy:\",metrics.accuracy_score(y_val, y_pred))"
   ]
  },
  {
   "cell_type": "code",
   "execution_count": 17,
   "metadata": {},
   "outputs": [
    {
     "name": "stdout",
     "output_type": "stream",
     "text": [
      "MAC7(Z1)1165.723 +/- 206.355\n",
      "MAC2(Z1)619.053 +/- 125.856\n",
      "MAC7(Mw)445.093 +/- 78.788\n",
      "MAC3(Z1)325.653 +/- 65.469\n",
      "MAC1(Mw)325.040 +/- 68.574\n",
      "MAC5(Mw)301.063 +/- 54.619\n",
      "MAC2(Mw)288.199 +/- 53.579\n",
      "MAC4(Z1)218.922 +/- 42.216\n",
      "MAC6(Z1)200.863 +/- 33.593\n",
      "MAC6(HP)147.973 +/- 29.946\n",
      "MAC3(Ap)146.277 +/- 31.166\n",
      "MAC3(HP)138.040 +/- 28.945\n",
      "MAC2(HP)134.440 +/- 25.928\n",
      "MAC4(HP)120.941 +/- 26.972\n",
      "MAC2(Anp)68.624 +/- 15.016\n",
      "MAC1(Z1)64.465 +/- 14.540\n",
      "ID      42.625 +/- 9.762\n",
      "MAC6(Ap)41.045 +/- 8.018\n",
      "MAC2(Pb)35.842 +/- 8.133\n",
      "MAC1(Ap)32.609 +/- 7.728\n",
      "MAC5(Ap)32.016 +/- 7.120\n",
      "MAC5(HP)29.192 +/- 7.033\n",
      "MAC1(Pb)26.298 +/- 5.917\n",
      "MAC3(Z2)25.562 +/- 7.107\n",
      "MAC3(Pb)24.707 +/- 5.793\n",
      "MAC3(Mw)23.074 +/- 5.522\n",
      "MAC4(Anp)21.567 +/- 5.498\n",
      "MAC4(Mw)20.694 +/- 4.832\n",
      "MAC5(Pb)16.975 +/- 4.504\n",
      "MAC6(Anp)15.981 +/- 4.661\n",
      "MAC4(Z2)11.866 +/- 3.682\n",
      "MAC5(Z1)11.369 +/- 3.312\n",
      "MAC4(Ap)10.522 +/- 2.862\n",
      "MAC1(Anp)7.779 +/- 2.848\n",
      "MAC7(HP)6.746 +/- 2.626\n",
      "MAC5(Z2)4.108 +/- 1.423\n",
      "MAC3(IP)3.876 +/- 1.552\n",
      "MAC2(Z2)2.550 +/- 0.830\n",
      "MAC7(Z2)2.537 +/- 1.041\n",
      "MAC5(IP)1.926 +/- 0.745\n",
      "MAC2(Ap)1.862 +/- 0.592\n",
      "MAC6(Z2)1.584 +/- 0.737\n",
      "MAC4(IP)1.533 +/- 0.728\n",
      "MAC5(ECI)1.044 +/- 0.360\n",
      "MAC2(ECI)0.234 +/- 0.107\n",
      "MAC3(Pt)0.113 +/- 0.041\n",
      "MAC1(Pt)0.053 +/- 0.025\n"
     ]
    }
   ],
   "source": [
    "from sklearn.inspection import permutation_importance\n",
    "r = permutation_importance(model, X_val, y_val,\n",
    "                            n_repeats=30,\n",
    "                            random_state=0)\n",
    "\n",
    "for i in r.importances_mean.argsort()[::-1]:\n",
    "    if r.importances_mean[i] - 2 * r.importances_std[i] > 0:\n",
    "        print(f\"{data.columns[i]:<8}\"\n",
    "               f\"{r.importances_mean[i]:.3f}\"\n",
    "               f\" +/- {r.importances_std[i]:.3f}\")\n"
   ]
  },
  {
   "cell_type": "code",
   "execution_count": 18,
   "metadata": {},
   "outputs": [
    {
     "name": "stdout",
     "output_type": "stream",
     "text": [
      "Accuracy: 0.64\n",
      "Precision: 0.5\n",
      "Recall: 0.3333333333333333\n"
     ]
    }
   ],
   "source": [
    "X_perm1 = X[['MAC7(Z1)','MAC2(Z1)', 'MAC7(Mw)', 'MAC3(Z1)', 'MAC1(Mw)', 'MAC5(Mw)']]\n",
    "X_train,X_test,y_train,y_test=train_test_split(X_perm1,y,test_size=0.25,random_state=0)\n",
    "logreg = LogisticRegression()\n",
    "\n",
    "    # fit the model with data\n",
    "logreg.fit(X_train,y_train)\n",
    "\n",
    "    # get predict\n",
    "y_pred=logreg.predict(X_test)\n",
    "perm_acc = metrics.accuracy_score(y_test, y_pred)\n",
    "\n",
    "print(\"Accuracy:\",metrics.accuracy_score(y_test, y_pred))\n",
    "print(\"Precision:\",metrics.precision_score(y_test, y_pred))\n",
    "print(\"Recall:\",metrics.recall_score(y_test, y_pred))"
   ]
  },
  {
   "cell_type": "code",
   "execution_count": null,
   "metadata": {},
   "outputs": [],
   "source": []
  }
 ],
 "metadata": {
  "kernelspec": {
   "display_name": "FeatureSelection",
   "language": "python",
   "name": "envfs"
  },
  "language_info": {
   "codemirror_mode": {
    "name": "ipython",
    "version": 3
   },
   "file_extension": ".py",
   "mimetype": "text/x-python",
   "name": "python",
   "nbconvert_exporter": "python",
   "pygments_lexer": "ipython3",
   "version": "3.9.12"
  }
 },
 "nbformat": 4,
 "nbformat_minor": 4
}
